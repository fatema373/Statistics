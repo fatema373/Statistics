{
  "cells": [
    {
      "cell_type": "markdown",
      "id": "6e8f6e57",
      "metadata": {
        "id": "6e8f6e57"
      },
      "source": [
        "## Sampling\n",
        "#### Read employees.csv file.\n",
        "#### Display column counts.\n",
        "#### Remove any row contains null and display column counts"
      ]
    },
    {
      "cell_type": "code",
      "source": [
        "import numpy as np\n",
        "import pandas as pd\n",
        "import matplotlib.pyplot as plt\n",
        "import seaborn as sns\n",
        "import scipy as sp\n",
        "%matplotlib inline"
      ],
      "metadata": {
        "id": "anlPGwggzxQR"
      },
      "id": "anlPGwggzxQR",
      "execution_count": null,
      "outputs": []
    },
    {
      "cell_type": "code",
      "execution_count": null,
      "id": "3f16bc57",
      "metadata": {
        "id": "3f16bc57",
        "colab": {
          "base_uri": "https://localhost:8080/"
        },
        "outputId": "56bfefc8-3881-4a96-fa1f-72d2f4a06c88"
      },
      "outputs": [
        {
          "output_type": "stream",
          "name": "stdout",
          "text": [
            "Mounted at /content/drive\n"
          ]
        }
      ],
      "source": [
        "from google.colab import drive\n",
        "drive.mount('/content/drive')\n"
      ]
    },
    {
      "cell_type": "code",
      "source": [
        "df = pd.read_csv('/content/drive/MyDrive/employees.csv')"
      ],
      "metadata": {
        "id": "lISilKpJz_1e"
      },
      "id": "lISilKpJz_1e",
      "execution_count": null,
      "outputs": []
    },
    {
      "cell_type": "code",
      "source": [
        "df.info()"
      ],
      "metadata": {
        "colab": {
          "base_uri": "https://localhost:8080/"
        },
        "id": "OPPWJmhMzwGl",
        "outputId": "00a5cecc-882b-4865-dbd0-e73473fc6d1d"
      },
      "id": "OPPWJmhMzwGl",
      "execution_count": null,
      "outputs": [
        {
          "output_type": "stream",
          "name": "stdout",
          "text": [
            "<class 'pandas.core.frame.DataFrame'>\n",
            "RangeIndex: 1000 entries, 0 to 999\n",
            "Data columns (total 8 columns):\n",
            " #   Column             Non-Null Count  Dtype  \n",
            "---  ------             --------------  -----  \n",
            " 0   First Name         933 non-null    object \n",
            " 1   Gender             855 non-null    object \n",
            " 2   Start Date         1000 non-null   object \n",
            " 3   Last Login Time    1000 non-null   object \n",
            " 4   Salary             1000 non-null   int64  \n",
            " 5   Bonus %            1000 non-null   float64\n",
            " 6   Senior Management  933 non-null    object \n",
            " 7   Team               957 non-null    object \n",
            "dtypes: float64(1), int64(1), object(6)\n",
            "memory usage: 62.6+ KB\n"
          ]
        }
      ]
    },
    {
      "cell_type": "code",
      "source": [
        "df.count()"
      ],
      "metadata": {
        "colab": {
          "base_uri": "https://localhost:8080/"
        },
        "id": "Vhw51Fw512_w",
        "outputId": "ebaa47b8-3d18-48d4-8498-af057c6ec786"
      },
      "id": "Vhw51Fw512_w",
      "execution_count": null,
      "outputs": [
        {
          "output_type": "execute_result",
          "data": {
            "text/plain": [
              "First Name            933\n",
              "Gender                855\n",
              "Start Date           1000\n",
              "Last Login Time      1000\n",
              "Salary               1000\n",
              "Bonus %              1000\n",
              "Senior Management     933\n",
              "Team                  957\n",
              "dtype: int64"
            ]
          },
          "metadata": {},
          "execution_count": 11
        }
      ]
    },
    {
      "cell_type": "code",
      "source": [
        "df.dropna(inplace=True)"
      ],
      "metadata": {
        "id": "SedchpqW2qcB"
      },
      "id": "SedchpqW2qcB",
      "execution_count": null,
      "outputs": []
    },
    {
      "cell_type": "code",
      "execution_count": null,
      "id": "4e14996a",
      "metadata": {
        "id": "4e14996a",
        "outputId": "d5d465b8-cf21-4716-a5cc-eb7d80e237e5"
      },
      "outputs": [
        {
          "data": {
            "text/plain": [
              "First Name            933\n",
              "Gender                855\n",
              "Start Date           1000\n",
              "Last Login Time      1000\n",
              "Salary               1000\n",
              "Bonus %              1000\n",
              "Senior Management     933\n",
              "Team                  957\n",
              "dtype: int64"
            ]
          },
          "execution_count": 3,
          "metadata": {},
          "output_type": "execute_result"
        }
      ],
      "source": []
    },
    {
      "cell_type": "code",
      "source": [
        "df.count()"
      ],
      "metadata": {
        "colab": {
          "base_uri": "https://localhost:8080/"
        },
        "id": "X83IEDVN2w-k",
        "outputId": "9f332539-4719-463c-89db-740adbdae608"
      },
      "id": "X83IEDVN2w-k",
      "execution_count": null,
      "outputs": [
        {
          "output_type": "execute_result",
          "data": {
            "text/plain": [
              "First Name           764\n",
              "Gender               764\n",
              "Start Date           764\n",
              "Last Login Time      764\n",
              "Salary               764\n",
              "Bonus %              764\n",
              "Senior Management    764\n",
              "Team                 764\n",
              "dtype: int64"
            ]
          },
          "metadata": {},
          "execution_count": 14
        }
      ]
    },
    {
      "cell_type": "code",
      "execution_count": null,
      "id": "47b8da3f",
      "metadata": {
        "id": "47b8da3f",
        "outputId": "0d306c7e-d706-4701-fb8c-e3929d0aee1d"
      },
      "outputs": [
        {
          "data": {
            "text/plain": [
              "index                764\n",
              "First Name           764\n",
              "Gender               764\n",
              "Start Date           764\n",
              "Last Login Time      764\n",
              "Salary               764\n",
              "Bonus %              764\n",
              "Senior Management    764\n",
              "Team                 764\n",
              "dtype: int64"
            ]
          },
          "execution_count": 4,
          "metadata": {},
          "output_type": "execute_result"
        }
      ],
      "source": []
    },
    {
      "cell_type": "markdown",
      "id": "e4b73c7a",
      "metadata": {
        "id": "e4b73c7a"
      },
      "source": [
        "## Simple Random Sample (SRS)\n",
        "#### Select simple random sample of size=50.\n",
        "#### Select 50% SRS.\n",
        "#### Display column counts in both cases."
      ]
    },
    {
      "cell_type": "code",
      "source": [
        "SRS_50 = df.sample(n=50)"
      ],
      "metadata": {
        "id": "QKVx0_Xf25Tw"
      },
      "id": "QKVx0_Xf25Tw",
      "execution_count": null,
      "outputs": []
    },
    {
      "cell_type": "code",
      "source": [
        "SRS_50.count()"
      ],
      "metadata": {
        "colab": {
          "base_uri": "https://localhost:8080/"
        },
        "id": "Au-bNos34v1G",
        "outputId": "849f6df3-7e95-4206-8063-6f60d0618afb"
      },
      "id": "Au-bNos34v1G",
      "execution_count": null,
      "outputs": [
        {
          "output_type": "execute_result",
          "data": {
            "text/plain": [
              "First Name           50\n",
              "Gender               50\n",
              "Start Date           50\n",
              "Last Login Time      50\n",
              "Salary               50\n",
              "Bonus %              50\n",
              "Senior Management    50\n",
              "Team                 50\n",
              "dtype: int64"
            ]
          },
          "metadata": {},
          "execution_count": 16
        }
      ]
    },
    {
      "cell_type": "code",
      "execution_count": null,
      "id": "7975f507",
      "metadata": {
        "id": "7975f507",
        "outputId": "2004ab5e-ae08-4778-a7c0-63eb1c92e461"
      },
      "outputs": [
        {
          "data": {
            "text/plain": [
              "index                50\n",
              "First Name           50\n",
              "Gender               50\n",
              "Start Date           50\n",
              "Last Login Time      50\n",
              "Salary               50\n",
              "Bonus %              50\n",
              "Senior Management    50\n",
              "Team                 50\n",
              "dtype: int64"
            ]
          },
          "execution_count": 5,
          "metadata": {},
          "output_type": "execute_result"
        }
      ],
      "source": []
    },
    {
      "cell_type": "code",
      "source": [
        "SRS50Percent = df.sample(frac=0.5)"
      ],
      "metadata": {
        "id": "A6eWooQE4zqX"
      },
      "id": "A6eWooQE4zqX",
      "execution_count": null,
      "outputs": []
    },
    {
      "cell_type": "code",
      "source": [
        "SRS50Percent.count()"
      ],
      "metadata": {
        "colab": {
          "base_uri": "https://localhost:8080/"
        },
        "id": "tXzZQEqQ5e6e",
        "outputId": "5a6b4f9a-32b0-4f31-8fe6-7b08f9e3f675"
      },
      "id": "tXzZQEqQ5e6e",
      "execution_count": null,
      "outputs": [
        {
          "output_type": "execute_result",
          "data": {
            "text/plain": [
              "First Name           382\n",
              "Gender               382\n",
              "Start Date           382\n",
              "Last Login Time      382\n",
              "Salary               382\n",
              "Bonus %              382\n",
              "Senior Management    382\n",
              "Team                 382\n",
              "dtype: int64"
            ]
          },
          "metadata": {},
          "execution_count": 18
        }
      ]
    },
    {
      "cell_type": "code",
      "execution_count": null,
      "id": "34d28bee",
      "metadata": {
        "id": "34d28bee",
        "outputId": "bf313421-f176-4822-fbd4-e337dc559316"
      },
      "outputs": [
        {
          "data": {
            "text/plain": [
              "index                382\n",
              "First Name           382\n",
              "Gender               382\n",
              "Start Date           382\n",
              "Last Login Time      382\n",
              "Salary               382\n",
              "Bonus %              382\n",
              "Senior Management    382\n",
              "Team                 382\n",
              "dtype: int64"
            ]
          },
          "execution_count": 6,
          "metadata": {},
          "output_type": "execute_result"
        }
      ],
      "source": []
    },
    {
      "cell_type": "markdown",
      "id": "18234c8a",
      "metadata": {
        "id": "18234c8a"
      },
      "source": [
        "## Systematic Sampling\n",
        "#### Select a systematic sample with 25, 50, and 100 intervals."
      ]
    },
    {
      "cell_type": "code",
      "execution_count": null,
      "id": "8a4d10e4",
      "metadata": {
        "id": "8a4d10e4"
      },
      "outputs": [],
      "source": [
        "def systematicSampling(range,df):\n",
        "  indexes = np.arange(0,len(df),range);\n",
        "  df2 = df.iloc[indexes]\n",
        "  return df2"
      ]
    },
    {
      "cell_type": "code",
      "source": [
        "systematic_25 = systematicSampling(25,df)\n",
        "systematic_50 = systematicSampling(25,df)\n",
        "systematic_100 = systematicSampling(25,df)"
      ],
      "metadata": {
        "id": "DCtZrBaW6-rC"
      },
      "id": "DCtZrBaW6-rC",
      "execution_count": null,
      "outputs": []
    },
    {
      "cell_type": "code",
      "source": [
        "df[0::25]\n",
        "systematic_25"
      ],
      "metadata": {
        "colab": {
          "base_uri": "https://localhost:8080/",
          "height": 1000
        },
        "id": "OrnxuVdg7PCh",
        "outputId": "aad88208-65d0-4585-b27c-8b074cfa58c5"
      },
      "id": "OrnxuVdg7PCh",
      "execution_count": null,
      "outputs": [
        {
          "output_type": "execute_result",
          "data": {
            "text/plain": [
              "      First Name  Gender  Start Date Last Login Time  Salary  Bonus %  \\\n",
              "0        Douglas    Male    8/6/1993        12:42 PM   97308    6.945   \n",
              "35       Theresa  Female  10/10/2006         1:12 AM   85182   16.675   \n",
              "68          Jose    Male  10/30/2004         1:39 PM   84834   14.330   \n",
              "101        Aaron    Male   2/17/2012        10:20 AM   61602   11.849   \n",
              "130      Shirley  Female    5/1/1984         1:15 PM   41334    6.219   \n",
              "167  Christopher    Male  12/24/2011        12:22 PM  142178   17.984   \n",
              "197      Carolyn  Female   11/6/2012         3:51 AM   69268    3.031   \n",
              "225        Harry    Male   10/1/2015         7:47 PM   64579   15.266   \n",
              "260       Gloria  Female   3/27/2007         1:44 AM   90730    2.491   \n",
              "294     Virginia  Female  10/20/1999         6:23 AM   46905   19.154   \n",
              "326      Jeffrey    Male   6/18/1997         8:01 PM   45150   12.075   \n",
              "355       Andrea  Female   9/14/2003        10:30 PM  115913   12.121   \n",
              "391      Marilyn  Female   8/15/1989         9:14 AM  140502    9.989   \n",
              "425        Alice  Female    5/2/1986         1:50 AM   51395    2.378   \n",
              "458       Albert    Male   9/30/2007         5:34 PM  102626   15.843   \n",
              "488       Robert    Male   3/11/2007        11:20 AM  135882   19.944   \n",
              "522    Catherine  Female   8/31/2013         7:24 PM   58047   14.858   \n",
              "553       Amanda  Female    6/7/2002         7:46 AM  109290   13.853   \n",
              "584         Jack    Male   5/30/2012         3:17 AM   70367   18.266   \n",
              "619      Beverly  Female  10/22/1990         2:45 PM   59070   19.064   \n",
              "653        Debra  Female   5/28/2006         6:51 AM   42296   16.922   \n",
              "690        Bruce    Male   1/28/2007        11:10 PM  134988   13.926   \n",
              "725       Jeremy    Male   5/19/1991         1:40 PM  131513    1.876   \n",
              "759         Ruth  Female    9/2/1980         6:52 AM   59678   10.895   \n",
              "796    Catherine  Female   8/31/1986         6:20 PM   59970   12.801   \n",
              "828      Cynthia  Female   7/12/2006         8:55 AM  149684    7.864   \n",
              "861        Jerry    Male   3/26/1989         4:15 AM  140850   18.855   \n",
              "893        Frank    Male   7/27/2013         4:32 PM   91406    5.681   \n",
              "922       Arthur    Male   12/5/2013         8:44 AM   86615    3.412   \n",
              "956      Beverly  Female  10/17/1986        12:51 AM   80838    8.115   \n",
              "983         John    Male  12/23/1982        10:35 PM  146907   11.738   \n",
              "\n",
              "    Senior Management                  Team  \n",
              "0                True             Marketing  \n",
              "35              False                 Sales  \n",
              "68               True               Finance  \n",
              "101              True             Marketing  \n",
              "130              True       Human Resources  \n",
              "167              True                 Sales  \n",
              "197             False       Client Services  \n",
              "225              True                 Sales  \n",
              "260             False          Distribution  \n",
              "294             False          Distribution  \n",
              "326              True               Product  \n",
              "355             False                 Legal  \n",
              "391              True                 Sales  \n",
              "425              True               Finance  \n",
              "458             False               Finance  \n",
              "488             False                 Legal  \n",
              "522              True          Distribution  \n",
              "553             False           Engineering  \n",
              "584              True                 Legal  \n",
              "619              True           Engineering  \n",
              "653             False               Product  \n",
              "690              True                 Sales  \n",
              "725              True               Finance  \n",
              "759             False          Distribution  \n",
              "796             False       Client Services  \n",
              "828             False               Product  \n",
              "861             False               Finance  \n",
              "893              True  Business Development  \n",
              "922              True  Business Development  \n",
              "956             False           Engineering  \n",
              "983             False           Engineering  "
            ],
            "text/html": [
              "\n",
              "  <div id=\"df-d1e4e59e-f35e-4d5b-b4d3-4c5a8d13ce7c\" class=\"colab-df-container\">\n",
              "    <div>\n",
              "<style scoped>\n",
              "    .dataframe tbody tr th:only-of-type {\n",
              "        vertical-align: middle;\n",
              "    }\n",
              "\n",
              "    .dataframe tbody tr th {\n",
              "        vertical-align: top;\n",
              "    }\n",
              "\n",
              "    .dataframe thead th {\n",
              "        text-align: right;\n",
              "    }\n",
              "</style>\n",
              "<table border=\"1\" class=\"dataframe\">\n",
              "  <thead>\n",
              "    <tr style=\"text-align: right;\">\n",
              "      <th></th>\n",
              "      <th>First Name</th>\n",
              "      <th>Gender</th>\n",
              "      <th>Start Date</th>\n",
              "      <th>Last Login Time</th>\n",
              "      <th>Salary</th>\n",
              "      <th>Bonus %</th>\n",
              "      <th>Senior Management</th>\n",
              "      <th>Team</th>\n",
              "    </tr>\n",
              "  </thead>\n",
              "  <tbody>\n",
              "    <tr>\n",
              "      <th>0</th>\n",
              "      <td>Douglas</td>\n",
              "      <td>Male</td>\n",
              "      <td>8/6/1993</td>\n",
              "      <td>12:42 PM</td>\n",
              "      <td>97308</td>\n",
              "      <td>6.945</td>\n",
              "      <td>True</td>\n",
              "      <td>Marketing</td>\n",
              "    </tr>\n",
              "    <tr>\n",
              "      <th>35</th>\n",
              "      <td>Theresa</td>\n",
              "      <td>Female</td>\n",
              "      <td>10/10/2006</td>\n",
              "      <td>1:12 AM</td>\n",
              "      <td>85182</td>\n",
              "      <td>16.675</td>\n",
              "      <td>False</td>\n",
              "      <td>Sales</td>\n",
              "    </tr>\n",
              "    <tr>\n",
              "      <th>68</th>\n",
              "      <td>Jose</td>\n",
              "      <td>Male</td>\n",
              "      <td>10/30/2004</td>\n",
              "      <td>1:39 PM</td>\n",
              "      <td>84834</td>\n",
              "      <td>14.330</td>\n",
              "      <td>True</td>\n",
              "      <td>Finance</td>\n",
              "    </tr>\n",
              "    <tr>\n",
              "      <th>101</th>\n",
              "      <td>Aaron</td>\n",
              "      <td>Male</td>\n",
              "      <td>2/17/2012</td>\n",
              "      <td>10:20 AM</td>\n",
              "      <td>61602</td>\n",
              "      <td>11.849</td>\n",
              "      <td>True</td>\n",
              "      <td>Marketing</td>\n",
              "    </tr>\n",
              "    <tr>\n",
              "      <th>130</th>\n",
              "      <td>Shirley</td>\n",
              "      <td>Female</td>\n",
              "      <td>5/1/1984</td>\n",
              "      <td>1:15 PM</td>\n",
              "      <td>41334</td>\n",
              "      <td>6.219</td>\n",
              "      <td>True</td>\n",
              "      <td>Human Resources</td>\n",
              "    </tr>\n",
              "    <tr>\n",
              "      <th>167</th>\n",
              "      <td>Christopher</td>\n",
              "      <td>Male</td>\n",
              "      <td>12/24/2011</td>\n",
              "      <td>12:22 PM</td>\n",
              "      <td>142178</td>\n",
              "      <td>17.984</td>\n",
              "      <td>True</td>\n",
              "      <td>Sales</td>\n",
              "    </tr>\n",
              "    <tr>\n",
              "      <th>197</th>\n",
              "      <td>Carolyn</td>\n",
              "      <td>Female</td>\n",
              "      <td>11/6/2012</td>\n",
              "      <td>3:51 AM</td>\n",
              "      <td>69268</td>\n",
              "      <td>3.031</td>\n",
              "      <td>False</td>\n",
              "      <td>Client Services</td>\n",
              "    </tr>\n",
              "    <tr>\n",
              "      <th>225</th>\n",
              "      <td>Harry</td>\n",
              "      <td>Male</td>\n",
              "      <td>10/1/2015</td>\n",
              "      <td>7:47 PM</td>\n",
              "      <td>64579</td>\n",
              "      <td>15.266</td>\n",
              "      <td>True</td>\n",
              "      <td>Sales</td>\n",
              "    </tr>\n",
              "    <tr>\n",
              "      <th>260</th>\n",
              "      <td>Gloria</td>\n",
              "      <td>Female</td>\n",
              "      <td>3/27/2007</td>\n",
              "      <td>1:44 AM</td>\n",
              "      <td>90730</td>\n",
              "      <td>2.491</td>\n",
              "      <td>False</td>\n",
              "      <td>Distribution</td>\n",
              "    </tr>\n",
              "    <tr>\n",
              "      <th>294</th>\n",
              "      <td>Virginia</td>\n",
              "      <td>Female</td>\n",
              "      <td>10/20/1999</td>\n",
              "      <td>6:23 AM</td>\n",
              "      <td>46905</td>\n",
              "      <td>19.154</td>\n",
              "      <td>False</td>\n",
              "      <td>Distribution</td>\n",
              "    </tr>\n",
              "    <tr>\n",
              "      <th>326</th>\n",
              "      <td>Jeffrey</td>\n",
              "      <td>Male</td>\n",
              "      <td>6/18/1997</td>\n",
              "      <td>8:01 PM</td>\n",
              "      <td>45150</td>\n",
              "      <td>12.075</td>\n",
              "      <td>True</td>\n",
              "      <td>Product</td>\n",
              "    </tr>\n",
              "    <tr>\n",
              "      <th>355</th>\n",
              "      <td>Andrea</td>\n",
              "      <td>Female</td>\n",
              "      <td>9/14/2003</td>\n",
              "      <td>10:30 PM</td>\n",
              "      <td>115913</td>\n",
              "      <td>12.121</td>\n",
              "      <td>False</td>\n",
              "      <td>Legal</td>\n",
              "    </tr>\n",
              "    <tr>\n",
              "      <th>391</th>\n",
              "      <td>Marilyn</td>\n",
              "      <td>Female</td>\n",
              "      <td>8/15/1989</td>\n",
              "      <td>9:14 AM</td>\n",
              "      <td>140502</td>\n",
              "      <td>9.989</td>\n",
              "      <td>True</td>\n",
              "      <td>Sales</td>\n",
              "    </tr>\n",
              "    <tr>\n",
              "      <th>425</th>\n",
              "      <td>Alice</td>\n",
              "      <td>Female</td>\n",
              "      <td>5/2/1986</td>\n",
              "      <td>1:50 AM</td>\n",
              "      <td>51395</td>\n",
              "      <td>2.378</td>\n",
              "      <td>True</td>\n",
              "      <td>Finance</td>\n",
              "    </tr>\n",
              "    <tr>\n",
              "      <th>458</th>\n",
              "      <td>Albert</td>\n",
              "      <td>Male</td>\n",
              "      <td>9/30/2007</td>\n",
              "      <td>5:34 PM</td>\n",
              "      <td>102626</td>\n",
              "      <td>15.843</td>\n",
              "      <td>False</td>\n",
              "      <td>Finance</td>\n",
              "    </tr>\n",
              "    <tr>\n",
              "      <th>488</th>\n",
              "      <td>Robert</td>\n",
              "      <td>Male</td>\n",
              "      <td>3/11/2007</td>\n",
              "      <td>11:20 AM</td>\n",
              "      <td>135882</td>\n",
              "      <td>19.944</td>\n",
              "      <td>False</td>\n",
              "      <td>Legal</td>\n",
              "    </tr>\n",
              "    <tr>\n",
              "      <th>522</th>\n",
              "      <td>Catherine</td>\n",
              "      <td>Female</td>\n",
              "      <td>8/31/2013</td>\n",
              "      <td>7:24 PM</td>\n",
              "      <td>58047</td>\n",
              "      <td>14.858</td>\n",
              "      <td>True</td>\n",
              "      <td>Distribution</td>\n",
              "    </tr>\n",
              "    <tr>\n",
              "      <th>553</th>\n",
              "      <td>Amanda</td>\n",
              "      <td>Female</td>\n",
              "      <td>6/7/2002</td>\n",
              "      <td>7:46 AM</td>\n",
              "      <td>109290</td>\n",
              "      <td>13.853</td>\n",
              "      <td>False</td>\n",
              "      <td>Engineering</td>\n",
              "    </tr>\n",
              "    <tr>\n",
              "      <th>584</th>\n",
              "      <td>Jack</td>\n",
              "      <td>Male</td>\n",
              "      <td>5/30/2012</td>\n",
              "      <td>3:17 AM</td>\n",
              "      <td>70367</td>\n",
              "      <td>18.266</td>\n",
              "      <td>True</td>\n",
              "      <td>Legal</td>\n",
              "    </tr>\n",
              "    <tr>\n",
              "      <th>619</th>\n",
              "      <td>Beverly</td>\n",
              "      <td>Female</td>\n",
              "      <td>10/22/1990</td>\n",
              "      <td>2:45 PM</td>\n",
              "      <td>59070</td>\n",
              "      <td>19.064</td>\n",
              "      <td>True</td>\n",
              "      <td>Engineering</td>\n",
              "    </tr>\n",
              "    <tr>\n",
              "      <th>653</th>\n",
              "      <td>Debra</td>\n",
              "      <td>Female</td>\n",
              "      <td>5/28/2006</td>\n",
              "      <td>6:51 AM</td>\n",
              "      <td>42296</td>\n",
              "      <td>16.922</td>\n",
              "      <td>False</td>\n",
              "      <td>Product</td>\n",
              "    </tr>\n",
              "    <tr>\n",
              "      <th>690</th>\n",
              "      <td>Bruce</td>\n",
              "      <td>Male</td>\n",
              "      <td>1/28/2007</td>\n",
              "      <td>11:10 PM</td>\n",
              "      <td>134988</td>\n",
              "      <td>13.926</td>\n",
              "      <td>True</td>\n",
              "      <td>Sales</td>\n",
              "    </tr>\n",
              "    <tr>\n",
              "      <th>725</th>\n",
              "      <td>Jeremy</td>\n",
              "      <td>Male</td>\n",
              "      <td>5/19/1991</td>\n",
              "      <td>1:40 PM</td>\n",
              "      <td>131513</td>\n",
              "      <td>1.876</td>\n",
              "      <td>True</td>\n",
              "      <td>Finance</td>\n",
              "    </tr>\n",
              "    <tr>\n",
              "      <th>759</th>\n",
              "      <td>Ruth</td>\n",
              "      <td>Female</td>\n",
              "      <td>9/2/1980</td>\n",
              "      <td>6:52 AM</td>\n",
              "      <td>59678</td>\n",
              "      <td>10.895</td>\n",
              "      <td>False</td>\n",
              "      <td>Distribution</td>\n",
              "    </tr>\n",
              "    <tr>\n",
              "      <th>796</th>\n",
              "      <td>Catherine</td>\n",
              "      <td>Female</td>\n",
              "      <td>8/31/1986</td>\n",
              "      <td>6:20 PM</td>\n",
              "      <td>59970</td>\n",
              "      <td>12.801</td>\n",
              "      <td>False</td>\n",
              "      <td>Client Services</td>\n",
              "    </tr>\n",
              "    <tr>\n",
              "      <th>828</th>\n",
              "      <td>Cynthia</td>\n",
              "      <td>Female</td>\n",
              "      <td>7/12/2006</td>\n",
              "      <td>8:55 AM</td>\n",
              "      <td>149684</td>\n",
              "      <td>7.864</td>\n",
              "      <td>False</td>\n",
              "      <td>Product</td>\n",
              "    </tr>\n",
              "    <tr>\n",
              "      <th>861</th>\n",
              "      <td>Jerry</td>\n",
              "      <td>Male</td>\n",
              "      <td>3/26/1989</td>\n",
              "      <td>4:15 AM</td>\n",
              "      <td>140850</td>\n",
              "      <td>18.855</td>\n",
              "      <td>False</td>\n",
              "      <td>Finance</td>\n",
              "    </tr>\n",
              "    <tr>\n",
              "      <th>893</th>\n",
              "      <td>Frank</td>\n",
              "      <td>Male</td>\n",
              "      <td>7/27/2013</td>\n",
              "      <td>4:32 PM</td>\n",
              "      <td>91406</td>\n",
              "      <td>5.681</td>\n",
              "      <td>True</td>\n",
              "      <td>Business Development</td>\n",
              "    </tr>\n",
              "    <tr>\n",
              "      <th>922</th>\n",
              "      <td>Arthur</td>\n",
              "      <td>Male</td>\n",
              "      <td>12/5/2013</td>\n",
              "      <td>8:44 AM</td>\n",
              "      <td>86615</td>\n",
              "      <td>3.412</td>\n",
              "      <td>True</td>\n",
              "      <td>Business Development</td>\n",
              "    </tr>\n",
              "    <tr>\n",
              "      <th>956</th>\n",
              "      <td>Beverly</td>\n",
              "      <td>Female</td>\n",
              "      <td>10/17/1986</td>\n",
              "      <td>12:51 AM</td>\n",
              "      <td>80838</td>\n",
              "      <td>8.115</td>\n",
              "      <td>False</td>\n",
              "      <td>Engineering</td>\n",
              "    </tr>\n",
              "    <tr>\n",
              "      <th>983</th>\n",
              "      <td>John</td>\n",
              "      <td>Male</td>\n",
              "      <td>12/23/1982</td>\n",
              "      <td>10:35 PM</td>\n",
              "      <td>146907</td>\n",
              "      <td>11.738</td>\n",
              "      <td>False</td>\n",
              "      <td>Engineering</td>\n",
              "    </tr>\n",
              "  </tbody>\n",
              "</table>\n",
              "</div>\n",
              "    <div class=\"colab-df-buttons\">\n",
              "\n",
              "  <div class=\"colab-df-container\">\n",
              "    <button class=\"colab-df-convert\" onclick=\"convertToInteractive('df-d1e4e59e-f35e-4d5b-b4d3-4c5a8d13ce7c')\"\n",
              "            title=\"Convert this dataframe to an interactive table.\"\n",
              "            style=\"display:none;\">\n",
              "\n",
              "  <svg xmlns=\"http://www.w3.org/2000/svg\" height=\"24px\" viewBox=\"0 -960 960 960\">\n",
              "    <path d=\"M120-120v-720h720v720H120Zm60-500h600v-160H180v160Zm220 220h160v-160H400v160Zm0 220h160v-160H400v160ZM180-400h160v-160H180v160Zm440 0h160v-160H620v160ZM180-180h160v-160H180v160Zm440 0h160v-160H620v160Z\"/>\n",
              "  </svg>\n",
              "    </button>\n",
              "\n",
              "  <style>\n",
              "    .colab-df-container {\n",
              "      display:flex;\n",
              "      gap: 12px;\n",
              "    }\n",
              "\n",
              "    .colab-df-convert {\n",
              "      background-color: #E8F0FE;\n",
              "      border: none;\n",
              "      border-radius: 50%;\n",
              "      cursor: pointer;\n",
              "      display: none;\n",
              "      fill: #1967D2;\n",
              "      height: 32px;\n",
              "      padding: 0 0 0 0;\n",
              "      width: 32px;\n",
              "    }\n",
              "\n",
              "    .colab-df-convert:hover {\n",
              "      background-color: #E2EBFA;\n",
              "      box-shadow: 0px 1px 2px rgba(60, 64, 67, 0.3), 0px 1px 3px 1px rgba(60, 64, 67, 0.15);\n",
              "      fill: #174EA6;\n",
              "    }\n",
              "\n",
              "    .colab-df-buttons div {\n",
              "      margin-bottom: 4px;\n",
              "    }\n",
              "\n",
              "    [theme=dark] .colab-df-convert {\n",
              "      background-color: #3B4455;\n",
              "      fill: #D2E3FC;\n",
              "    }\n",
              "\n",
              "    [theme=dark] .colab-df-convert:hover {\n",
              "      background-color: #434B5C;\n",
              "      box-shadow: 0px 1px 3px 1px rgba(0, 0, 0, 0.15);\n",
              "      filter: drop-shadow(0px 1px 2px rgba(0, 0, 0, 0.3));\n",
              "      fill: #FFFFFF;\n",
              "    }\n",
              "  </style>\n",
              "\n",
              "    <script>\n",
              "      const buttonEl =\n",
              "        document.querySelector('#df-d1e4e59e-f35e-4d5b-b4d3-4c5a8d13ce7c button.colab-df-convert');\n",
              "      buttonEl.style.display =\n",
              "        google.colab.kernel.accessAllowed ? 'block' : 'none';\n",
              "\n",
              "      async function convertToInteractive(key) {\n",
              "        const element = document.querySelector('#df-d1e4e59e-f35e-4d5b-b4d3-4c5a8d13ce7c');\n",
              "        const dataTable =\n",
              "          await google.colab.kernel.invokeFunction('convertToInteractive',\n",
              "                                                    [key], {});\n",
              "        if (!dataTable) return;\n",
              "\n",
              "        const docLinkHtml = 'Like what you see? Visit the ' +\n",
              "          '<a target=\"_blank\" href=https://colab.research.google.com/notebooks/data_table.ipynb>data table notebook</a>'\n",
              "          + ' to learn more about interactive tables.';\n",
              "        element.innerHTML = '';\n",
              "        dataTable['output_type'] = 'display_data';\n",
              "        await google.colab.output.renderOutput(dataTable, element);\n",
              "        const docLink = document.createElement('div');\n",
              "        docLink.innerHTML = docLinkHtml;\n",
              "        element.appendChild(docLink);\n",
              "      }\n",
              "    </script>\n",
              "  </div>\n",
              "\n",
              "\n",
              "<div id=\"df-85a03d8a-9ca3-4151-adbc-0f630edab0c3\">\n",
              "  <button class=\"colab-df-quickchart\" onclick=\"quickchart('df-85a03d8a-9ca3-4151-adbc-0f630edab0c3')\"\n",
              "            title=\"Suggest charts\"\n",
              "            style=\"display:none;\">\n",
              "\n",
              "<svg xmlns=\"http://www.w3.org/2000/svg\" height=\"24px\"viewBox=\"0 0 24 24\"\n",
              "     width=\"24px\">\n",
              "    <g>\n",
              "        <path d=\"M19 3H5c-1.1 0-2 .9-2 2v14c0 1.1.9 2 2 2h14c1.1 0 2-.9 2-2V5c0-1.1-.9-2-2-2zM9 17H7v-7h2v7zm4 0h-2V7h2v10zm4 0h-2v-4h2v4z\"/>\n",
              "    </g>\n",
              "</svg>\n",
              "  </button>\n",
              "\n",
              "<style>\n",
              "  .colab-df-quickchart {\n",
              "      --bg-color: #E8F0FE;\n",
              "      --fill-color: #1967D2;\n",
              "      --hover-bg-color: #E2EBFA;\n",
              "      --hover-fill-color: #174EA6;\n",
              "      --disabled-fill-color: #AAA;\n",
              "      --disabled-bg-color: #DDD;\n",
              "  }\n",
              "\n",
              "  [theme=dark] .colab-df-quickchart {\n",
              "      --bg-color: #3B4455;\n",
              "      --fill-color: #D2E3FC;\n",
              "      --hover-bg-color: #434B5C;\n",
              "      --hover-fill-color: #FFFFFF;\n",
              "      --disabled-bg-color: #3B4455;\n",
              "      --disabled-fill-color: #666;\n",
              "  }\n",
              "\n",
              "  .colab-df-quickchart {\n",
              "    background-color: var(--bg-color);\n",
              "    border: none;\n",
              "    border-radius: 50%;\n",
              "    cursor: pointer;\n",
              "    display: none;\n",
              "    fill: var(--fill-color);\n",
              "    height: 32px;\n",
              "    padding: 0;\n",
              "    width: 32px;\n",
              "  }\n",
              "\n",
              "  .colab-df-quickchart:hover {\n",
              "    background-color: var(--hover-bg-color);\n",
              "    box-shadow: 0 1px 2px rgba(60, 64, 67, 0.3), 0 1px 3px 1px rgba(60, 64, 67, 0.15);\n",
              "    fill: var(--button-hover-fill-color);\n",
              "  }\n",
              "\n",
              "  .colab-df-quickchart-complete:disabled,\n",
              "  .colab-df-quickchart-complete:disabled:hover {\n",
              "    background-color: var(--disabled-bg-color);\n",
              "    fill: var(--disabled-fill-color);\n",
              "    box-shadow: none;\n",
              "  }\n",
              "\n",
              "  .colab-df-spinner {\n",
              "    border: 2px solid var(--fill-color);\n",
              "    border-color: transparent;\n",
              "    border-bottom-color: var(--fill-color);\n",
              "    animation:\n",
              "      spin 1s steps(1) infinite;\n",
              "  }\n",
              "\n",
              "  @keyframes spin {\n",
              "    0% {\n",
              "      border-color: transparent;\n",
              "      border-bottom-color: var(--fill-color);\n",
              "      border-left-color: var(--fill-color);\n",
              "    }\n",
              "    20% {\n",
              "      border-color: transparent;\n",
              "      border-left-color: var(--fill-color);\n",
              "      border-top-color: var(--fill-color);\n",
              "    }\n",
              "    30% {\n",
              "      border-color: transparent;\n",
              "      border-left-color: var(--fill-color);\n",
              "      border-top-color: var(--fill-color);\n",
              "      border-right-color: var(--fill-color);\n",
              "    }\n",
              "    40% {\n",
              "      border-color: transparent;\n",
              "      border-right-color: var(--fill-color);\n",
              "      border-top-color: var(--fill-color);\n",
              "    }\n",
              "    60% {\n",
              "      border-color: transparent;\n",
              "      border-right-color: var(--fill-color);\n",
              "    }\n",
              "    80% {\n",
              "      border-color: transparent;\n",
              "      border-right-color: var(--fill-color);\n",
              "      border-bottom-color: var(--fill-color);\n",
              "    }\n",
              "    90% {\n",
              "      border-color: transparent;\n",
              "      border-bottom-color: var(--fill-color);\n",
              "    }\n",
              "  }\n",
              "</style>\n",
              "\n",
              "  <script>\n",
              "    async function quickchart(key) {\n",
              "      const quickchartButtonEl =\n",
              "        document.querySelector('#' + key + ' button');\n",
              "      quickchartButtonEl.disabled = true;  // To prevent multiple clicks.\n",
              "      quickchartButtonEl.classList.add('colab-df-spinner');\n",
              "      try {\n",
              "        const charts = await google.colab.kernel.invokeFunction(\n",
              "            'suggestCharts', [key], {});\n",
              "      } catch (error) {\n",
              "        console.error('Error during call to suggestCharts:', error);\n",
              "      }\n",
              "      quickchartButtonEl.classList.remove('colab-df-spinner');\n",
              "      quickchartButtonEl.classList.add('colab-df-quickchart-complete');\n",
              "    }\n",
              "    (() => {\n",
              "      let quickchartButtonEl =\n",
              "        document.querySelector('#df-85a03d8a-9ca3-4151-adbc-0f630edab0c3 button');\n",
              "      quickchartButtonEl.style.display =\n",
              "        google.colab.kernel.accessAllowed ? 'block' : 'none';\n",
              "    })();\n",
              "  </script>\n",
              "</div>\n",
              "    </div>\n",
              "  </div>\n"
            ]
          },
          "metadata": {},
          "execution_count": 29
        }
      ]
    },
    {
      "cell_type": "code",
      "execution_count": null,
      "id": "9830833a",
      "metadata": {
        "id": "9830833a",
        "outputId": "6bb40b91-bb34-4314-b843-157870175ccb"
      },
      "outputs": [
        {
          "data": {
            "text/html": [
              "<div>\n",
              "<style scoped>\n",
              "    .dataframe tbody tr th:only-of-type {\n",
              "        vertical-align: middle;\n",
              "    }\n",
              "\n",
              "    .dataframe tbody tr th {\n",
              "        vertical-align: top;\n",
              "    }\n",
              "\n",
              "    .dataframe thead th {\n",
              "        text-align: right;\n",
              "    }\n",
              "</style>\n",
              "<table border=\"1\" class=\"dataframe\">\n",
              "  <thead>\n",
              "    <tr style=\"text-align: right;\">\n",
              "      <th></th>\n",
              "      <th>index</th>\n",
              "      <th>First Name</th>\n",
              "      <th>Gender</th>\n",
              "      <th>Start Date</th>\n",
              "      <th>Last Login Time</th>\n",
              "      <th>Salary</th>\n",
              "      <th>Bonus %</th>\n",
              "      <th>Senior Management</th>\n",
              "      <th>Team</th>\n",
              "    </tr>\n",
              "  </thead>\n",
              "  <tbody>\n",
              "    <tr>\n",
              "      <th>0</th>\n",
              "      <td>0</td>\n",
              "      <td>Douglas</td>\n",
              "      <td>Male</td>\n",
              "      <td>8/6/1993</td>\n",
              "      <td>12:42 PM</td>\n",
              "      <td>97308</td>\n",
              "      <td>6.945</td>\n",
              "      <td>True</td>\n",
              "      <td>Marketing</td>\n",
              "    </tr>\n",
              "    <tr>\n",
              "      <th>25</th>\n",
              "      <td>35</td>\n",
              "      <td>Theresa</td>\n",
              "      <td>Female</td>\n",
              "      <td>10/10/2006</td>\n",
              "      <td>1:12 AM</td>\n",
              "      <td>85182</td>\n",
              "      <td>16.675</td>\n",
              "      <td>False</td>\n",
              "      <td>Sales</td>\n",
              "    </tr>\n",
              "    <tr>\n",
              "      <th>50</th>\n",
              "      <td>68</td>\n",
              "      <td>Jose</td>\n",
              "      <td>Male</td>\n",
              "      <td>10/30/2004</td>\n",
              "      <td>1:39 PM</td>\n",
              "      <td>84834</td>\n",
              "      <td>14.330</td>\n",
              "      <td>True</td>\n",
              "      <td>Finance</td>\n",
              "    </tr>\n",
              "    <tr>\n",
              "      <th>75</th>\n",
              "      <td>101</td>\n",
              "      <td>Aaron</td>\n",
              "      <td>Male</td>\n",
              "      <td>2/17/2012</td>\n",
              "      <td>10:20 AM</td>\n",
              "      <td>61602</td>\n",
              "      <td>11.849</td>\n",
              "      <td>True</td>\n",
              "      <td>Marketing</td>\n",
              "    </tr>\n",
              "    <tr>\n",
              "      <th>100</th>\n",
              "      <td>130</td>\n",
              "      <td>Shirley</td>\n",
              "      <td>Female</td>\n",
              "      <td>5/1/1984</td>\n",
              "      <td>1:15 PM</td>\n",
              "      <td>41334</td>\n",
              "      <td>6.219</td>\n",
              "      <td>True</td>\n",
              "      <td>Human Resources</td>\n",
              "    </tr>\n",
              "    <tr>\n",
              "      <th>125</th>\n",
              "      <td>167</td>\n",
              "      <td>Christopher</td>\n",
              "      <td>Male</td>\n",
              "      <td>12/24/2011</td>\n",
              "      <td>12:22 PM</td>\n",
              "      <td>142178</td>\n",
              "      <td>17.984</td>\n",
              "      <td>True</td>\n",
              "      <td>Sales</td>\n",
              "    </tr>\n",
              "    <tr>\n",
              "      <th>150</th>\n",
              "      <td>197</td>\n",
              "      <td>Carolyn</td>\n",
              "      <td>Female</td>\n",
              "      <td>11/6/2012</td>\n",
              "      <td>3:51 AM</td>\n",
              "      <td>69268</td>\n",
              "      <td>3.031</td>\n",
              "      <td>False</td>\n",
              "      <td>Client Services</td>\n",
              "    </tr>\n",
              "    <tr>\n",
              "      <th>175</th>\n",
              "      <td>225</td>\n",
              "      <td>Harry</td>\n",
              "      <td>Male</td>\n",
              "      <td>10/1/2015</td>\n",
              "      <td>7:47 PM</td>\n",
              "      <td>64579</td>\n",
              "      <td>15.266</td>\n",
              "      <td>True</td>\n",
              "      <td>Sales</td>\n",
              "    </tr>\n",
              "    <tr>\n",
              "      <th>200</th>\n",
              "      <td>260</td>\n",
              "      <td>Gloria</td>\n",
              "      <td>Female</td>\n",
              "      <td>3/27/2007</td>\n",
              "      <td>1:44 AM</td>\n",
              "      <td>90730</td>\n",
              "      <td>2.491</td>\n",
              "      <td>False</td>\n",
              "      <td>Distribution</td>\n",
              "    </tr>\n",
              "    <tr>\n",
              "      <th>225</th>\n",
              "      <td>294</td>\n",
              "      <td>Virginia</td>\n",
              "      <td>Female</td>\n",
              "      <td>10/20/1999</td>\n",
              "      <td>6:23 AM</td>\n",
              "      <td>46905</td>\n",
              "      <td>19.154</td>\n",
              "      <td>False</td>\n",
              "      <td>Distribution</td>\n",
              "    </tr>\n",
              "    <tr>\n",
              "      <th>250</th>\n",
              "      <td>326</td>\n",
              "      <td>Jeffrey</td>\n",
              "      <td>Male</td>\n",
              "      <td>6/18/1997</td>\n",
              "      <td>8:01 PM</td>\n",
              "      <td>45150</td>\n",
              "      <td>12.075</td>\n",
              "      <td>True</td>\n",
              "      <td>Product</td>\n",
              "    </tr>\n",
              "    <tr>\n",
              "      <th>275</th>\n",
              "      <td>355</td>\n",
              "      <td>Andrea</td>\n",
              "      <td>Female</td>\n",
              "      <td>9/14/2003</td>\n",
              "      <td>10:30 PM</td>\n",
              "      <td>115913</td>\n",
              "      <td>12.121</td>\n",
              "      <td>False</td>\n",
              "      <td>Legal</td>\n",
              "    </tr>\n",
              "    <tr>\n",
              "      <th>300</th>\n",
              "      <td>391</td>\n",
              "      <td>Marilyn</td>\n",
              "      <td>Female</td>\n",
              "      <td>8/15/1989</td>\n",
              "      <td>9:14 AM</td>\n",
              "      <td>140502</td>\n",
              "      <td>9.989</td>\n",
              "      <td>True</td>\n",
              "      <td>Sales</td>\n",
              "    </tr>\n",
              "    <tr>\n",
              "      <th>325</th>\n",
              "      <td>425</td>\n",
              "      <td>Alice</td>\n",
              "      <td>Female</td>\n",
              "      <td>5/2/1986</td>\n",
              "      <td>1:50 AM</td>\n",
              "      <td>51395</td>\n",
              "      <td>2.378</td>\n",
              "      <td>True</td>\n",
              "      <td>Finance</td>\n",
              "    </tr>\n",
              "    <tr>\n",
              "      <th>350</th>\n",
              "      <td>458</td>\n",
              "      <td>Albert</td>\n",
              "      <td>Male</td>\n",
              "      <td>9/30/2007</td>\n",
              "      <td>5:34 PM</td>\n",
              "      <td>102626</td>\n",
              "      <td>15.843</td>\n",
              "      <td>False</td>\n",
              "      <td>Finance</td>\n",
              "    </tr>\n",
              "    <tr>\n",
              "      <th>375</th>\n",
              "      <td>488</td>\n",
              "      <td>Robert</td>\n",
              "      <td>Male</td>\n",
              "      <td>3/11/2007</td>\n",
              "      <td>11:20 AM</td>\n",
              "      <td>135882</td>\n",
              "      <td>19.944</td>\n",
              "      <td>False</td>\n",
              "      <td>Legal</td>\n",
              "    </tr>\n",
              "    <tr>\n",
              "      <th>400</th>\n",
              "      <td>522</td>\n",
              "      <td>Catherine</td>\n",
              "      <td>Female</td>\n",
              "      <td>8/31/2013</td>\n",
              "      <td>7:24 PM</td>\n",
              "      <td>58047</td>\n",
              "      <td>14.858</td>\n",
              "      <td>True</td>\n",
              "      <td>Distribution</td>\n",
              "    </tr>\n",
              "    <tr>\n",
              "      <th>425</th>\n",
              "      <td>553</td>\n",
              "      <td>Amanda</td>\n",
              "      <td>Female</td>\n",
              "      <td>6/7/2002</td>\n",
              "      <td>7:46 AM</td>\n",
              "      <td>109290</td>\n",
              "      <td>13.853</td>\n",
              "      <td>False</td>\n",
              "      <td>Engineering</td>\n",
              "    </tr>\n",
              "    <tr>\n",
              "      <th>450</th>\n",
              "      <td>584</td>\n",
              "      <td>Jack</td>\n",
              "      <td>Male</td>\n",
              "      <td>5/30/2012</td>\n",
              "      <td>3:17 AM</td>\n",
              "      <td>70367</td>\n",
              "      <td>18.266</td>\n",
              "      <td>True</td>\n",
              "      <td>Legal</td>\n",
              "    </tr>\n",
              "    <tr>\n",
              "      <th>475</th>\n",
              "      <td>619</td>\n",
              "      <td>Beverly</td>\n",
              "      <td>Female</td>\n",
              "      <td>10/22/1990</td>\n",
              "      <td>2:45 PM</td>\n",
              "      <td>59070</td>\n",
              "      <td>19.064</td>\n",
              "      <td>True</td>\n",
              "      <td>Engineering</td>\n",
              "    </tr>\n",
              "    <tr>\n",
              "      <th>500</th>\n",
              "      <td>653</td>\n",
              "      <td>Debra</td>\n",
              "      <td>Female</td>\n",
              "      <td>5/28/2006</td>\n",
              "      <td>6:51 AM</td>\n",
              "      <td>42296</td>\n",
              "      <td>16.922</td>\n",
              "      <td>False</td>\n",
              "      <td>Product</td>\n",
              "    </tr>\n",
              "    <tr>\n",
              "      <th>525</th>\n",
              "      <td>690</td>\n",
              "      <td>Bruce</td>\n",
              "      <td>Male</td>\n",
              "      <td>1/28/2007</td>\n",
              "      <td>11:10 PM</td>\n",
              "      <td>134988</td>\n",
              "      <td>13.926</td>\n",
              "      <td>True</td>\n",
              "      <td>Sales</td>\n",
              "    </tr>\n",
              "    <tr>\n",
              "      <th>550</th>\n",
              "      <td>725</td>\n",
              "      <td>Jeremy</td>\n",
              "      <td>Male</td>\n",
              "      <td>5/19/1991</td>\n",
              "      <td>1:40 PM</td>\n",
              "      <td>131513</td>\n",
              "      <td>1.876</td>\n",
              "      <td>True</td>\n",
              "      <td>Finance</td>\n",
              "    </tr>\n",
              "    <tr>\n",
              "      <th>575</th>\n",
              "      <td>759</td>\n",
              "      <td>Ruth</td>\n",
              "      <td>Female</td>\n",
              "      <td>9/2/1980</td>\n",
              "      <td>6:52 AM</td>\n",
              "      <td>59678</td>\n",
              "      <td>10.895</td>\n",
              "      <td>False</td>\n",
              "      <td>Distribution</td>\n",
              "    </tr>\n",
              "    <tr>\n",
              "      <th>600</th>\n",
              "      <td>796</td>\n",
              "      <td>Catherine</td>\n",
              "      <td>Female</td>\n",
              "      <td>8/31/1986</td>\n",
              "      <td>6:20 PM</td>\n",
              "      <td>59970</td>\n",
              "      <td>12.801</td>\n",
              "      <td>False</td>\n",
              "      <td>Client Services</td>\n",
              "    </tr>\n",
              "    <tr>\n",
              "      <th>625</th>\n",
              "      <td>828</td>\n",
              "      <td>Cynthia</td>\n",
              "      <td>Female</td>\n",
              "      <td>7/12/2006</td>\n",
              "      <td>8:55 AM</td>\n",
              "      <td>149684</td>\n",
              "      <td>7.864</td>\n",
              "      <td>False</td>\n",
              "      <td>Product</td>\n",
              "    </tr>\n",
              "    <tr>\n",
              "      <th>650</th>\n",
              "      <td>861</td>\n",
              "      <td>Jerry</td>\n",
              "      <td>Male</td>\n",
              "      <td>3/26/1989</td>\n",
              "      <td>4:15 AM</td>\n",
              "      <td>140850</td>\n",
              "      <td>18.855</td>\n",
              "      <td>False</td>\n",
              "      <td>Finance</td>\n",
              "    </tr>\n",
              "    <tr>\n",
              "      <th>675</th>\n",
              "      <td>893</td>\n",
              "      <td>Frank</td>\n",
              "      <td>Male</td>\n",
              "      <td>7/27/2013</td>\n",
              "      <td>4:32 PM</td>\n",
              "      <td>91406</td>\n",
              "      <td>5.681</td>\n",
              "      <td>True</td>\n",
              "      <td>Business Development</td>\n",
              "    </tr>\n",
              "    <tr>\n",
              "      <th>700</th>\n",
              "      <td>922</td>\n",
              "      <td>Arthur</td>\n",
              "      <td>Male</td>\n",
              "      <td>12/5/2013</td>\n",
              "      <td>8:44 AM</td>\n",
              "      <td>86615</td>\n",
              "      <td>3.412</td>\n",
              "      <td>True</td>\n",
              "      <td>Business Development</td>\n",
              "    </tr>\n",
              "    <tr>\n",
              "      <th>725</th>\n",
              "      <td>956</td>\n",
              "      <td>Beverly</td>\n",
              "      <td>Female</td>\n",
              "      <td>10/17/1986</td>\n",
              "      <td>12:51 AM</td>\n",
              "      <td>80838</td>\n",
              "      <td>8.115</td>\n",
              "      <td>False</td>\n",
              "      <td>Engineering</td>\n",
              "    </tr>\n",
              "    <tr>\n",
              "      <th>750</th>\n",
              "      <td>983</td>\n",
              "      <td>John</td>\n",
              "      <td>Male</td>\n",
              "      <td>12/23/1982</td>\n",
              "      <td>10:35 PM</td>\n",
              "      <td>146907</td>\n",
              "      <td>11.738</td>\n",
              "      <td>False</td>\n",
              "      <td>Engineering</td>\n",
              "    </tr>\n",
              "  </tbody>\n",
              "</table>\n",
              "</div>"
            ],
            "text/plain": [
              "     index   First Name  Gender  Start Date Last Login Time  Salary  Bonus %  \\\n",
              "0        0      Douglas    Male    8/6/1993        12:42 PM   97308    6.945   \n",
              "25      35      Theresa  Female  10/10/2006         1:12 AM   85182   16.675   \n",
              "50      68         Jose    Male  10/30/2004         1:39 PM   84834   14.330   \n",
              "75     101        Aaron    Male   2/17/2012        10:20 AM   61602   11.849   \n",
              "100    130      Shirley  Female    5/1/1984         1:15 PM   41334    6.219   \n",
              "125    167  Christopher    Male  12/24/2011        12:22 PM  142178   17.984   \n",
              "150    197      Carolyn  Female   11/6/2012         3:51 AM   69268    3.031   \n",
              "175    225        Harry    Male   10/1/2015         7:47 PM   64579   15.266   \n",
              "200    260       Gloria  Female   3/27/2007         1:44 AM   90730    2.491   \n",
              "225    294     Virginia  Female  10/20/1999         6:23 AM   46905   19.154   \n",
              "250    326      Jeffrey    Male   6/18/1997         8:01 PM   45150   12.075   \n",
              "275    355       Andrea  Female   9/14/2003        10:30 PM  115913   12.121   \n",
              "300    391      Marilyn  Female   8/15/1989         9:14 AM  140502    9.989   \n",
              "325    425        Alice  Female    5/2/1986         1:50 AM   51395    2.378   \n",
              "350    458       Albert    Male   9/30/2007         5:34 PM  102626   15.843   \n",
              "375    488       Robert    Male   3/11/2007        11:20 AM  135882   19.944   \n",
              "400    522    Catherine  Female   8/31/2013         7:24 PM   58047   14.858   \n",
              "425    553       Amanda  Female    6/7/2002         7:46 AM  109290   13.853   \n",
              "450    584         Jack    Male   5/30/2012         3:17 AM   70367   18.266   \n",
              "475    619      Beverly  Female  10/22/1990         2:45 PM   59070   19.064   \n",
              "500    653        Debra  Female   5/28/2006         6:51 AM   42296   16.922   \n",
              "525    690        Bruce    Male   1/28/2007        11:10 PM  134988   13.926   \n",
              "550    725       Jeremy    Male   5/19/1991         1:40 PM  131513    1.876   \n",
              "575    759         Ruth  Female    9/2/1980         6:52 AM   59678   10.895   \n",
              "600    796    Catherine  Female   8/31/1986         6:20 PM   59970   12.801   \n",
              "625    828      Cynthia  Female   7/12/2006         8:55 AM  149684    7.864   \n",
              "650    861        Jerry    Male   3/26/1989         4:15 AM  140850   18.855   \n",
              "675    893        Frank    Male   7/27/2013         4:32 PM   91406    5.681   \n",
              "700    922       Arthur    Male   12/5/2013         8:44 AM   86615    3.412   \n",
              "725    956      Beverly  Female  10/17/1986        12:51 AM   80838    8.115   \n",
              "750    983         John    Male  12/23/1982        10:35 PM  146907   11.738   \n",
              "\n",
              "    Senior Management                  Team  \n",
              "0                True             Marketing  \n",
              "25              False                 Sales  \n",
              "50               True               Finance  \n",
              "75               True             Marketing  \n",
              "100              True       Human Resources  \n",
              "125              True                 Sales  \n",
              "150             False       Client Services  \n",
              "175              True                 Sales  \n",
              "200             False          Distribution  \n",
              "225             False          Distribution  \n",
              "250              True               Product  \n",
              "275             False                 Legal  \n",
              "300              True                 Sales  \n",
              "325              True               Finance  \n",
              "350             False               Finance  \n",
              "375             False                 Legal  \n",
              "400              True          Distribution  \n",
              "425             False           Engineering  \n",
              "450              True                 Legal  \n",
              "475              True           Engineering  \n",
              "500             False               Product  \n",
              "525              True                 Sales  \n",
              "550              True               Finance  \n",
              "575             False          Distribution  \n",
              "600             False       Client Services  \n",
              "625             False               Product  \n",
              "650             False               Finance  \n",
              "675              True  Business Development  \n",
              "700              True  Business Development  \n",
              "725             False           Engineering  \n",
              "750             False           Engineering  "
            ]
          },
          "execution_count": 8,
          "metadata": {},
          "output_type": "execute_result"
        }
      ],
      "source": []
    },
    {
      "cell_type": "code",
      "source": [
        "systematic_50"
      ],
      "metadata": {
        "colab": {
          "base_uri": "https://localhost:8080/",
          "height": 1000
        },
        "id": "FPz0R_4w9tEE",
        "outputId": "46c3c0d3-b19f-439c-9099-e3e67c01dfbd"
      },
      "id": "FPz0R_4w9tEE",
      "execution_count": null,
      "outputs": [
        {
          "output_type": "execute_result",
          "data": {
            "text/plain": [
              "      First Name  Gender  Start Date Last Login Time  Salary  Bonus %  \\\n",
              "0        Douglas    Male    8/6/1993        12:42 PM   97308    6.945   \n",
              "35       Theresa  Female  10/10/2006         1:12 AM   85182   16.675   \n",
              "68          Jose    Male  10/30/2004         1:39 PM   84834   14.330   \n",
              "101        Aaron    Male   2/17/2012        10:20 AM   61602   11.849   \n",
              "130      Shirley  Female    5/1/1984         1:15 PM   41334    6.219   \n",
              "167  Christopher    Male  12/24/2011        12:22 PM  142178   17.984   \n",
              "197      Carolyn  Female   11/6/2012         3:51 AM   69268    3.031   \n",
              "225        Harry    Male   10/1/2015         7:47 PM   64579   15.266   \n",
              "260       Gloria  Female   3/27/2007         1:44 AM   90730    2.491   \n",
              "294     Virginia  Female  10/20/1999         6:23 AM   46905   19.154   \n",
              "326      Jeffrey    Male   6/18/1997         8:01 PM   45150   12.075   \n",
              "355       Andrea  Female   9/14/2003        10:30 PM  115913   12.121   \n",
              "391      Marilyn  Female   8/15/1989         9:14 AM  140502    9.989   \n",
              "425        Alice  Female    5/2/1986         1:50 AM   51395    2.378   \n",
              "458       Albert    Male   9/30/2007         5:34 PM  102626   15.843   \n",
              "488       Robert    Male   3/11/2007        11:20 AM  135882   19.944   \n",
              "522    Catherine  Female   8/31/2013         7:24 PM   58047   14.858   \n",
              "553       Amanda  Female    6/7/2002         7:46 AM  109290   13.853   \n",
              "584         Jack    Male   5/30/2012         3:17 AM   70367   18.266   \n",
              "619      Beverly  Female  10/22/1990         2:45 PM   59070   19.064   \n",
              "653        Debra  Female   5/28/2006         6:51 AM   42296   16.922   \n",
              "690        Bruce    Male   1/28/2007        11:10 PM  134988   13.926   \n",
              "725       Jeremy    Male   5/19/1991         1:40 PM  131513    1.876   \n",
              "759         Ruth  Female    9/2/1980         6:52 AM   59678   10.895   \n",
              "796    Catherine  Female   8/31/1986         6:20 PM   59970   12.801   \n",
              "828      Cynthia  Female   7/12/2006         8:55 AM  149684    7.864   \n",
              "861        Jerry    Male   3/26/1989         4:15 AM  140850   18.855   \n",
              "893        Frank    Male   7/27/2013         4:32 PM   91406    5.681   \n",
              "922       Arthur    Male   12/5/2013         8:44 AM   86615    3.412   \n",
              "956      Beverly  Female  10/17/1986        12:51 AM   80838    8.115   \n",
              "983         John    Male  12/23/1982        10:35 PM  146907   11.738   \n",
              "\n",
              "    Senior Management                  Team  \n",
              "0                True             Marketing  \n",
              "35              False                 Sales  \n",
              "68               True               Finance  \n",
              "101              True             Marketing  \n",
              "130              True       Human Resources  \n",
              "167              True                 Sales  \n",
              "197             False       Client Services  \n",
              "225              True                 Sales  \n",
              "260             False          Distribution  \n",
              "294             False          Distribution  \n",
              "326              True               Product  \n",
              "355             False                 Legal  \n",
              "391              True                 Sales  \n",
              "425              True               Finance  \n",
              "458             False               Finance  \n",
              "488             False                 Legal  \n",
              "522              True          Distribution  \n",
              "553             False           Engineering  \n",
              "584              True                 Legal  \n",
              "619              True           Engineering  \n",
              "653             False               Product  \n",
              "690              True                 Sales  \n",
              "725              True               Finance  \n",
              "759             False          Distribution  \n",
              "796             False       Client Services  \n",
              "828             False               Product  \n",
              "861             False               Finance  \n",
              "893              True  Business Development  \n",
              "922              True  Business Development  \n",
              "956             False           Engineering  \n",
              "983             False           Engineering  "
            ],
            "text/html": [
              "\n",
              "  <div id=\"df-41510ad5-c7e3-4e00-ad2b-7e4dc2ccf0c9\" class=\"colab-df-container\">\n",
              "    <div>\n",
              "<style scoped>\n",
              "    .dataframe tbody tr th:only-of-type {\n",
              "        vertical-align: middle;\n",
              "    }\n",
              "\n",
              "    .dataframe tbody tr th {\n",
              "        vertical-align: top;\n",
              "    }\n",
              "\n",
              "    .dataframe thead th {\n",
              "        text-align: right;\n",
              "    }\n",
              "</style>\n",
              "<table border=\"1\" class=\"dataframe\">\n",
              "  <thead>\n",
              "    <tr style=\"text-align: right;\">\n",
              "      <th></th>\n",
              "      <th>First Name</th>\n",
              "      <th>Gender</th>\n",
              "      <th>Start Date</th>\n",
              "      <th>Last Login Time</th>\n",
              "      <th>Salary</th>\n",
              "      <th>Bonus %</th>\n",
              "      <th>Senior Management</th>\n",
              "      <th>Team</th>\n",
              "    </tr>\n",
              "  </thead>\n",
              "  <tbody>\n",
              "    <tr>\n",
              "      <th>0</th>\n",
              "      <td>Douglas</td>\n",
              "      <td>Male</td>\n",
              "      <td>8/6/1993</td>\n",
              "      <td>12:42 PM</td>\n",
              "      <td>97308</td>\n",
              "      <td>6.945</td>\n",
              "      <td>True</td>\n",
              "      <td>Marketing</td>\n",
              "    </tr>\n",
              "    <tr>\n",
              "      <th>35</th>\n",
              "      <td>Theresa</td>\n",
              "      <td>Female</td>\n",
              "      <td>10/10/2006</td>\n",
              "      <td>1:12 AM</td>\n",
              "      <td>85182</td>\n",
              "      <td>16.675</td>\n",
              "      <td>False</td>\n",
              "      <td>Sales</td>\n",
              "    </tr>\n",
              "    <tr>\n",
              "      <th>68</th>\n",
              "      <td>Jose</td>\n",
              "      <td>Male</td>\n",
              "      <td>10/30/2004</td>\n",
              "      <td>1:39 PM</td>\n",
              "      <td>84834</td>\n",
              "      <td>14.330</td>\n",
              "      <td>True</td>\n",
              "      <td>Finance</td>\n",
              "    </tr>\n",
              "    <tr>\n",
              "      <th>101</th>\n",
              "      <td>Aaron</td>\n",
              "      <td>Male</td>\n",
              "      <td>2/17/2012</td>\n",
              "      <td>10:20 AM</td>\n",
              "      <td>61602</td>\n",
              "      <td>11.849</td>\n",
              "      <td>True</td>\n",
              "      <td>Marketing</td>\n",
              "    </tr>\n",
              "    <tr>\n",
              "      <th>130</th>\n",
              "      <td>Shirley</td>\n",
              "      <td>Female</td>\n",
              "      <td>5/1/1984</td>\n",
              "      <td>1:15 PM</td>\n",
              "      <td>41334</td>\n",
              "      <td>6.219</td>\n",
              "      <td>True</td>\n",
              "      <td>Human Resources</td>\n",
              "    </tr>\n",
              "    <tr>\n",
              "      <th>167</th>\n",
              "      <td>Christopher</td>\n",
              "      <td>Male</td>\n",
              "      <td>12/24/2011</td>\n",
              "      <td>12:22 PM</td>\n",
              "      <td>142178</td>\n",
              "      <td>17.984</td>\n",
              "      <td>True</td>\n",
              "      <td>Sales</td>\n",
              "    </tr>\n",
              "    <tr>\n",
              "      <th>197</th>\n",
              "      <td>Carolyn</td>\n",
              "      <td>Female</td>\n",
              "      <td>11/6/2012</td>\n",
              "      <td>3:51 AM</td>\n",
              "      <td>69268</td>\n",
              "      <td>3.031</td>\n",
              "      <td>False</td>\n",
              "      <td>Client Services</td>\n",
              "    </tr>\n",
              "    <tr>\n",
              "      <th>225</th>\n",
              "      <td>Harry</td>\n",
              "      <td>Male</td>\n",
              "      <td>10/1/2015</td>\n",
              "      <td>7:47 PM</td>\n",
              "      <td>64579</td>\n",
              "      <td>15.266</td>\n",
              "      <td>True</td>\n",
              "      <td>Sales</td>\n",
              "    </tr>\n",
              "    <tr>\n",
              "      <th>260</th>\n",
              "      <td>Gloria</td>\n",
              "      <td>Female</td>\n",
              "      <td>3/27/2007</td>\n",
              "      <td>1:44 AM</td>\n",
              "      <td>90730</td>\n",
              "      <td>2.491</td>\n",
              "      <td>False</td>\n",
              "      <td>Distribution</td>\n",
              "    </tr>\n",
              "    <tr>\n",
              "      <th>294</th>\n",
              "      <td>Virginia</td>\n",
              "      <td>Female</td>\n",
              "      <td>10/20/1999</td>\n",
              "      <td>6:23 AM</td>\n",
              "      <td>46905</td>\n",
              "      <td>19.154</td>\n",
              "      <td>False</td>\n",
              "      <td>Distribution</td>\n",
              "    </tr>\n",
              "    <tr>\n",
              "      <th>326</th>\n",
              "      <td>Jeffrey</td>\n",
              "      <td>Male</td>\n",
              "      <td>6/18/1997</td>\n",
              "      <td>8:01 PM</td>\n",
              "      <td>45150</td>\n",
              "      <td>12.075</td>\n",
              "      <td>True</td>\n",
              "      <td>Product</td>\n",
              "    </tr>\n",
              "    <tr>\n",
              "      <th>355</th>\n",
              "      <td>Andrea</td>\n",
              "      <td>Female</td>\n",
              "      <td>9/14/2003</td>\n",
              "      <td>10:30 PM</td>\n",
              "      <td>115913</td>\n",
              "      <td>12.121</td>\n",
              "      <td>False</td>\n",
              "      <td>Legal</td>\n",
              "    </tr>\n",
              "    <tr>\n",
              "      <th>391</th>\n",
              "      <td>Marilyn</td>\n",
              "      <td>Female</td>\n",
              "      <td>8/15/1989</td>\n",
              "      <td>9:14 AM</td>\n",
              "      <td>140502</td>\n",
              "      <td>9.989</td>\n",
              "      <td>True</td>\n",
              "      <td>Sales</td>\n",
              "    </tr>\n",
              "    <tr>\n",
              "      <th>425</th>\n",
              "      <td>Alice</td>\n",
              "      <td>Female</td>\n",
              "      <td>5/2/1986</td>\n",
              "      <td>1:50 AM</td>\n",
              "      <td>51395</td>\n",
              "      <td>2.378</td>\n",
              "      <td>True</td>\n",
              "      <td>Finance</td>\n",
              "    </tr>\n",
              "    <tr>\n",
              "      <th>458</th>\n",
              "      <td>Albert</td>\n",
              "      <td>Male</td>\n",
              "      <td>9/30/2007</td>\n",
              "      <td>5:34 PM</td>\n",
              "      <td>102626</td>\n",
              "      <td>15.843</td>\n",
              "      <td>False</td>\n",
              "      <td>Finance</td>\n",
              "    </tr>\n",
              "    <tr>\n",
              "      <th>488</th>\n",
              "      <td>Robert</td>\n",
              "      <td>Male</td>\n",
              "      <td>3/11/2007</td>\n",
              "      <td>11:20 AM</td>\n",
              "      <td>135882</td>\n",
              "      <td>19.944</td>\n",
              "      <td>False</td>\n",
              "      <td>Legal</td>\n",
              "    </tr>\n",
              "    <tr>\n",
              "      <th>522</th>\n",
              "      <td>Catherine</td>\n",
              "      <td>Female</td>\n",
              "      <td>8/31/2013</td>\n",
              "      <td>7:24 PM</td>\n",
              "      <td>58047</td>\n",
              "      <td>14.858</td>\n",
              "      <td>True</td>\n",
              "      <td>Distribution</td>\n",
              "    </tr>\n",
              "    <tr>\n",
              "      <th>553</th>\n",
              "      <td>Amanda</td>\n",
              "      <td>Female</td>\n",
              "      <td>6/7/2002</td>\n",
              "      <td>7:46 AM</td>\n",
              "      <td>109290</td>\n",
              "      <td>13.853</td>\n",
              "      <td>False</td>\n",
              "      <td>Engineering</td>\n",
              "    </tr>\n",
              "    <tr>\n",
              "      <th>584</th>\n",
              "      <td>Jack</td>\n",
              "      <td>Male</td>\n",
              "      <td>5/30/2012</td>\n",
              "      <td>3:17 AM</td>\n",
              "      <td>70367</td>\n",
              "      <td>18.266</td>\n",
              "      <td>True</td>\n",
              "      <td>Legal</td>\n",
              "    </tr>\n",
              "    <tr>\n",
              "      <th>619</th>\n",
              "      <td>Beverly</td>\n",
              "      <td>Female</td>\n",
              "      <td>10/22/1990</td>\n",
              "      <td>2:45 PM</td>\n",
              "      <td>59070</td>\n",
              "      <td>19.064</td>\n",
              "      <td>True</td>\n",
              "      <td>Engineering</td>\n",
              "    </tr>\n",
              "    <tr>\n",
              "      <th>653</th>\n",
              "      <td>Debra</td>\n",
              "      <td>Female</td>\n",
              "      <td>5/28/2006</td>\n",
              "      <td>6:51 AM</td>\n",
              "      <td>42296</td>\n",
              "      <td>16.922</td>\n",
              "      <td>False</td>\n",
              "      <td>Product</td>\n",
              "    </tr>\n",
              "    <tr>\n",
              "      <th>690</th>\n",
              "      <td>Bruce</td>\n",
              "      <td>Male</td>\n",
              "      <td>1/28/2007</td>\n",
              "      <td>11:10 PM</td>\n",
              "      <td>134988</td>\n",
              "      <td>13.926</td>\n",
              "      <td>True</td>\n",
              "      <td>Sales</td>\n",
              "    </tr>\n",
              "    <tr>\n",
              "      <th>725</th>\n",
              "      <td>Jeremy</td>\n",
              "      <td>Male</td>\n",
              "      <td>5/19/1991</td>\n",
              "      <td>1:40 PM</td>\n",
              "      <td>131513</td>\n",
              "      <td>1.876</td>\n",
              "      <td>True</td>\n",
              "      <td>Finance</td>\n",
              "    </tr>\n",
              "    <tr>\n",
              "      <th>759</th>\n",
              "      <td>Ruth</td>\n",
              "      <td>Female</td>\n",
              "      <td>9/2/1980</td>\n",
              "      <td>6:52 AM</td>\n",
              "      <td>59678</td>\n",
              "      <td>10.895</td>\n",
              "      <td>False</td>\n",
              "      <td>Distribution</td>\n",
              "    </tr>\n",
              "    <tr>\n",
              "      <th>796</th>\n",
              "      <td>Catherine</td>\n",
              "      <td>Female</td>\n",
              "      <td>8/31/1986</td>\n",
              "      <td>6:20 PM</td>\n",
              "      <td>59970</td>\n",
              "      <td>12.801</td>\n",
              "      <td>False</td>\n",
              "      <td>Client Services</td>\n",
              "    </tr>\n",
              "    <tr>\n",
              "      <th>828</th>\n",
              "      <td>Cynthia</td>\n",
              "      <td>Female</td>\n",
              "      <td>7/12/2006</td>\n",
              "      <td>8:55 AM</td>\n",
              "      <td>149684</td>\n",
              "      <td>7.864</td>\n",
              "      <td>False</td>\n",
              "      <td>Product</td>\n",
              "    </tr>\n",
              "    <tr>\n",
              "      <th>861</th>\n",
              "      <td>Jerry</td>\n",
              "      <td>Male</td>\n",
              "      <td>3/26/1989</td>\n",
              "      <td>4:15 AM</td>\n",
              "      <td>140850</td>\n",
              "      <td>18.855</td>\n",
              "      <td>False</td>\n",
              "      <td>Finance</td>\n",
              "    </tr>\n",
              "    <tr>\n",
              "      <th>893</th>\n",
              "      <td>Frank</td>\n",
              "      <td>Male</td>\n",
              "      <td>7/27/2013</td>\n",
              "      <td>4:32 PM</td>\n",
              "      <td>91406</td>\n",
              "      <td>5.681</td>\n",
              "      <td>True</td>\n",
              "      <td>Business Development</td>\n",
              "    </tr>\n",
              "    <tr>\n",
              "      <th>922</th>\n",
              "      <td>Arthur</td>\n",
              "      <td>Male</td>\n",
              "      <td>12/5/2013</td>\n",
              "      <td>8:44 AM</td>\n",
              "      <td>86615</td>\n",
              "      <td>3.412</td>\n",
              "      <td>True</td>\n",
              "      <td>Business Development</td>\n",
              "    </tr>\n",
              "    <tr>\n",
              "      <th>956</th>\n",
              "      <td>Beverly</td>\n",
              "      <td>Female</td>\n",
              "      <td>10/17/1986</td>\n",
              "      <td>12:51 AM</td>\n",
              "      <td>80838</td>\n",
              "      <td>8.115</td>\n",
              "      <td>False</td>\n",
              "      <td>Engineering</td>\n",
              "    </tr>\n",
              "    <tr>\n",
              "      <th>983</th>\n",
              "      <td>John</td>\n",
              "      <td>Male</td>\n",
              "      <td>12/23/1982</td>\n",
              "      <td>10:35 PM</td>\n",
              "      <td>146907</td>\n",
              "      <td>11.738</td>\n",
              "      <td>False</td>\n",
              "      <td>Engineering</td>\n",
              "    </tr>\n",
              "  </tbody>\n",
              "</table>\n",
              "</div>\n",
              "    <div class=\"colab-df-buttons\">\n",
              "\n",
              "  <div class=\"colab-df-container\">\n",
              "    <button class=\"colab-df-convert\" onclick=\"convertToInteractive('df-41510ad5-c7e3-4e00-ad2b-7e4dc2ccf0c9')\"\n",
              "            title=\"Convert this dataframe to an interactive table.\"\n",
              "            style=\"display:none;\">\n",
              "\n",
              "  <svg xmlns=\"http://www.w3.org/2000/svg\" height=\"24px\" viewBox=\"0 -960 960 960\">\n",
              "    <path d=\"M120-120v-720h720v720H120Zm60-500h600v-160H180v160Zm220 220h160v-160H400v160Zm0 220h160v-160H400v160ZM180-400h160v-160H180v160Zm440 0h160v-160H620v160ZM180-180h160v-160H180v160Zm440 0h160v-160H620v160Z\"/>\n",
              "  </svg>\n",
              "    </button>\n",
              "\n",
              "  <style>\n",
              "    .colab-df-container {\n",
              "      display:flex;\n",
              "      gap: 12px;\n",
              "    }\n",
              "\n",
              "    .colab-df-convert {\n",
              "      background-color: #E8F0FE;\n",
              "      border: none;\n",
              "      border-radius: 50%;\n",
              "      cursor: pointer;\n",
              "      display: none;\n",
              "      fill: #1967D2;\n",
              "      height: 32px;\n",
              "      padding: 0 0 0 0;\n",
              "      width: 32px;\n",
              "    }\n",
              "\n",
              "    .colab-df-convert:hover {\n",
              "      background-color: #E2EBFA;\n",
              "      box-shadow: 0px 1px 2px rgba(60, 64, 67, 0.3), 0px 1px 3px 1px rgba(60, 64, 67, 0.15);\n",
              "      fill: #174EA6;\n",
              "    }\n",
              "\n",
              "    .colab-df-buttons div {\n",
              "      margin-bottom: 4px;\n",
              "    }\n",
              "\n",
              "    [theme=dark] .colab-df-convert {\n",
              "      background-color: #3B4455;\n",
              "      fill: #D2E3FC;\n",
              "    }\n",
              "\n",
              "    [theme=dark] .colab-df-convert:hover {\n",
              "      background-color: #434B5C;\n",
              "      box-shadow: 0px 1px 3px 1px rgba(0, 0, 0, 0.15);\n",
              "      filter: drop-shadow(0px 1px 2px rgba(0, 0, 0, 0.3));\n",
              "      fill: #FFFFFF;\n",
              "    }\n",
              "  </style>\n",
              "\n",
              "    <script>\n",
              "      const buttonEl =\n",
              "        document.querySelector('#df-41510ad5-c7e3-4e00-ad2b-7e4dc2ccf0c9 button.colab-df-convert');\n",
              "      buttonEl.style.display =\n",
              "        google.colab.kernel.accessAllowed ? 'block' : 'none';\n",
              "\n",
              "      async function convertToInteractive(key) {\n",
              "        const element = document.querySelector('#df-41510ad5-c7e3-4e00-ad2b-7e4dc2ccf0c9');\n",
              "        const dataTable =\n",
              "          await google.colab.kernel.invokeFunction('convertToInteractive',\n",
              "                                                    [key], {});\n",
              "        if (!dataTable) return;\n",
              "\n",
              "        const docLinkHtml = 'Like what you see? Visit the ' +\n",
              "          '<a target=\"_blank\" href=https://colab.research.google.com/notebooks/data_table.ipynb>data table notebook</a>'\n",
              "          + ' to learn more about interactive tables.';\n",
              "        element.innerHTML = '';\n",
              "        dataTable['output_type'] = 'display_data';\n",
              "        await google.colab.output.renderOutput(dataTable, element);\n",
              "        const docLink = document.createElement('div');\n",
              "        docLink.innerHTML = docLinkHtml;\n",
              "        element.appendChild(docLink);\n",
              "      }\n",
              "    </script>\n",
              "  </div>\n",
              "\n",
              "\n",
              "<div id=\"df-5cfbc05e-3bf2-4919-bdf2-e84d3662a66d\">\n",
              "  <button class=\"colab-df-quickchart\" onclick=\"quickchart('df-5cfbc05e-3bf2-4919-bdf2-e84d3662a66d')\"\n",
              "            title=\"Suggest charts\"\n",
              "            style=\"display:none;\">\n",
              "\n",
              "<svg xmlns=\"http://www.w3.org/2000/svg\" height=\"24px\"viewBox=\"0 0 24 24\"\n",
              "     width=\"24px\">\n",
              "    <g>\n",
              "        <path d=\"M19 3H5c-1.1 0-2 .9-2 2v14c0 1.1.9 2 2 2h14c1.1 0 2-.9 2-2V5c0-1.1-.9-2-2-2zM9 17H7v-7h2v7zm4 0h-2V7h2v10zm4 0h-2v-4h2v4z\"/>\n",
              "    </g>\n",
              "</svg>\n",
              "  </button>\n",
              "\n",
              "<style>\n",
              "  .colab-df-quickchart {\n",
              "      --bg-color: #E8F0FE;\n",
              "      --fill-color: #1967D2;\n",
              "      --hover-bg-color: #E2EBFA;\n",
              "      --hover-fill-color: #174EA6;\n",
              "      --disabled-fill-color: #AAA;\n",
              "      --disabled-bg-color: #DDD;\n",
              "  }\n",
              "\n",
              "  [theme=dark] .colab-df-quickchart {\n",
              "      --bg-color: #3B4455;\n",
              "      --fill-color: #D2E3FC;\n",
              "      --hover-bg-color: #434B5C;\n",
              "      --hover-fill-color: #FFFFFF;\n",
              "      --disabled-bg-color: #3B4455;\n",
              "      --disabled-fill-color: #666;\n",
              "  }\n",
              "\n",
              "  .colab-df-quickchart {\n",
              "    background-color: var(--bg-color);\n",
              "    border: none;\n",
              "    border-radius: 50%;\n",
              "    cursor: pointer;\n",
              "    display: none;\n",
              "    fill: var(--fill-color);\n",
              "    height: 32px;\n",
              "    padding: 0;\n",
              "    width: 32px;\n",
              "  }\n",
              "\n",
              "  .colab-df-quickchart:hover {\n",
              "    background-color: var(--hover-bg-color);\n",
              "    box-shadow: 0 1px 2px rgba(60, 64, 67, 0.3), 0 1px 3px 1px rgba(60, 64, 67, 0.15);\n",
              "    fill: var(--button-hover-fill-color);\n",
              "  }\n",
              "\n",
              "  .colab-df-quickchart-complete:disabled,\n",
              "  .colab-df-quickchart-complete:disabled:hover {\n",
              "    background-color: var(--disabled-bg-color);\n",
              "    fill: var(--disabled-fill-color);\n",
              "    box-shadow: none;\n",
              "  }\n",
              "\n",
              "  .colab-df-spinner {\n",
              "    border: 2px solid var(--fill-color);\n",
              "    border-color: transparent;\n",
              "    border-bottom-color: var(--fill-color);\n",
              "    animation:\n",
              "      spin 1s steps(1) infinite;\n",
              "  }\n",
              "\n",
              "  @keyframes spin {\n",
              "    0% {\n",
              "      border-color: transparent;\n",
              "      border-bottom-color: var(--fill-color);\n",
              "      border-left-color: var(--fill-color);\n",
              "    }\n",
              "    20% {\n",
              "      border-color: transparent;\n",
              "      border-left-color: var(--fill-color);\n",
              "      border-top-color: var(--fill-color);\n",
              "    }\n",
              "    30% {\n",
              "      border-color: transparent;\n",
              "      border-left-color: var(--fill-color);\n",
              "      border-top-color: var(--fill-color);\n",
              "      border-right-color: var(--fill-color);\n",
              "    }\n",
              "    40% {\n",
              "      border-color: transparent;\n",
              "      border-right-color: var(--fill-color);\n",
              "      border-top-color: var(--fill-color);\n",
              "    }\n",
              "    60% {\n",
              "      border-color: transparent;\n",
              "      border-right-color: var(--fill-color);\n",
              "    }\n",
              "    80% {\n",
              "      border-color: transparent;\n",
              "      border-right-color: var(--fill-color);\n",
              "      border-bottom-color: var(--fill-color);\n",
              "    }\n",
              "    90% {\n",
              "      border-color: transparent;\n",
              "      border-bottom-color: var(--fill-color);\n",
              "    }\n",
              "  }\n",
              "</style>\n",
              "\n",
              "  <script>\n",
              "    async function quickchart(key) {\n",
              "      const quickchartButtonEl =\n",
              "        document.querySelector('#' + key + ' button');\n",
              "      quickchartButtonEl.disabled = true;  // To prevent multiple clicks.\n",
              "      quickchartButtonEl.classList.add('colab-df-spinner');\n",
              "      try {\n",
              "        const charts = await google.colab.kernel.invokeFunction(\n",
              "            'suggestCharts', [key], {});\n",
              "      } catch (error) {\n",
              "        console.error('Error during call to suggestCharts:', error);\n",
              "      }\n",
              "      quickchartButtonEl.classList.remove('colab-df-spinner');\n",
              "      quickchartButtonEl.classList.add('colab-df-quickchart-complete');\n",
              "    }\n",
              "    (() => {\n",
              "      let quickchartButtonEl =\n",
              "        document.querySelector('#df-5cfbc05e-3bf2-4919-bdf2-e84d3662a66d button');\n",
              "      quickchartButtonEl.style.display =\n",
              "        google.colab.kernel.accessAllowed ? 'block' : 'none';\n",
              "    })();\n",
              "  </script>\n",
              "</div>\n",
              "    </div>\n",
              "  </div>\n"
            ]
          },
          "metadata": {},
          "execution_count": 30
        }
      ]
    },
    {
      "cell_type": "code",
      "execution_count": null,
      "id": "fb411bc2",
      "metadata": {
        "id": "fb411bc2",
        "outputId": "f8a1f7fa-377d-48a7-daa4-37f270bbd234"
      },
      "outputs": [
        {
          "data": {
            "text/html": [
              "<div>\n",
              "<style scoped>\n",
              "    .dataframe tbody tr th:only-of-type {\n",
              "        vertical-align: middle;\n",
              "    }\n",
              "\n",
              "    .dataframe tbody tr th {\n",
              "        vertical-align: top;\n",
              "    }\n",
              "\n",
              "    .dataframe thead th {\n",
              "        text-align: right;\n",
              "    }\n",
              "</style>\n",
              "<table border=\"1\" class=\"dataframe\">\n",
              "  <thead>\n",
              "    <tr style=\"text-align: right;\">\n",
              "      <th></th>\n",
              "      <th>index</th>\n",
              "      <th>First Name</th>\n",
              "      <th>Gender</th>\n",
              "      <th>Start Date</th>\n",
              "      <th>Last Login Time</th>\n",
              "      <th>Salary</th>\n",
              "      <th>Bonus %</th>\n",
              "      <th>Senior Management</th>\n",
              "      <th>Team</th>\n",
              "    </tr>\n",
              "  </thead>\n",
              "  <tbody>\n",
              "    <tr>\n",
              "      <th>0</th>\n",
              "      <td>0</td>\n",
              "      <td>Douglas</td>\n",
              "      <td>Male</td>\n",
              "      <td>8/6/1993</td>\n",
              "      <td>12:42 PM</td>\n",
              "      <td>97308</td>\n",
              "      <td>6.945</td>\n",
              "      <td>True</td>\n",
              "      <td>Marketing</td>\n",
              "    </tr>\n",
              "    <tr>\n",
              "      <th>50</th>\n",
              "      <td>68</td>\n",
              "      <td>Jose</td>\n",
              "      <td>Male</td>\n",
              "      <td>10/30/2004</td>\n",
              "      <td>1:39 PM</td>\n",
              "      <td>84834</td>\n",
              "      <td>14.330</td>\n",
              "      <td>True</td>\n",
              "      <td>Finance</td>\n",
              "    </tr>\n",
              "    <tr>\n",
              "      <th>100</th>\n",
              "      <td>130</td>\n",
              "      <td>Shirley</td>\n",
              "      <td>Female</td>\n",
              "      <td>5/1/1984</td>\n",
              "      <td>1:15 PM</td>\n",
              "      <td>41334</td>\n",
              "      <td>6.219</td>\n",
              "      <td>True</td>\n",
              "      <td>Human Resources</td>\n",
              "    </tr>\n",
              "    <tr>\n",
              "      <th>150</th>\n",
              "      <td>197</td>\n",
              "      <td>Carolyn</td>\n",
              "      <td>Female</td>\n",
              "      <td>11/6/2012</td>\n",
              "      <td>3:51 AM</td>\n",
              "      <td>69268</td>\n",
              "      <td>3.031</td>\n",
              "      <td>False</td>\n",
              "      <td>Client Services</td>\n",
              "    </tr>\n",
              "    <tr>\n",
              "      <th>200</th>\n",
              "      <td>260</td>\n",
              "      <td>Gloria</td>\n",
              "      <td>Female</td>\n",
              "      <td>3/27/2007</td>\n",
              "      <td>1:44 AM</td>\n",
              "      <td>90730</td>\n",
              "      <td>2.491</td>\n",
              "      <td>False</td>\n",
              "      <td>Distribution</td>\n",
              "    </tr>\n",
              "    <tr>\n",
              "      <th>250</th>\n",
              "      <td>326</td>\n",
              "      <td>Jeffrey</td>\n",
              "      <td>Male</td>\n",
              "      <td>6/18/1997</td>\n",
              "      <td>8:01 PM</td>\n",
              "      <td>45150</td>\n",
              "      <td>12.075</td>\n",
              "      <td>True</td>\n",
              "      <td>Product</td>\n",
              "    </tr>\n",
              "    <tr>\n",
              "      <th>300</th>\n",
              "      <td>391</td>\n",
              "      <td>Marilyn</td>\n",
              "      <td>Female</td>\n",
              "      <td>8/15/1989</td>\n",
              "      <td>9:14 AM</td>\n",
              "      <td>140502</td>\n",
              "      <td>9.989</td>\n",
              "      <td>True</td>\n",
              "      <td>Sales</td>\n",
              "    </tr>\n",
              "    <tr>\n",
              "      <th>350</th>\n",
              "      <td>458</td>\n",
              "      <td>Albert</td>\n",
              "      <td>Male</td>\n",
              "      <td>9/30/2007</td>\n",
              "      <td>5:34 PM</td>\n",
              "      <td>102626</td>\n",
              "      <td>15.843</td>\n",
              "      <td>False</td>\n",
              "      <td>Finance</td>\n",
              "    </tr>\n",
              "    <tr>\n",
              "      <th>400</th>\n",
              "      <td>522</td>\n",
              "      <td>Catherine</td>\n",
              "      <td>Female</td>\n",
              "      <td>8/31/2013</td>\n",
              "      <td>7:24 PM</td>\n",
              "      <td>58047</td>\n",
              "      <td>14.858</td>\n",
              "      <td>True</td>\n",
              "      <td>Distribution</td>\n",
              "    </tr>\n",
              "    <tr>\n",
              "      <th>450</th>\n",
              "      <td>584</td>\n",
              "      <td>Jack</td>\n",
              "      <td>Male</td>\n",
              "      <td>5/30/2012</td>\n",
              "      <td>3:17 AM</td>\n",
              "      <td>70367</td>\n",
              "      <td>18.266</td>\n",
              "      <td>True</td>\n",
              "      <td>Legal</td>\n",
              "    </tr>\n",
              "    <tr>\n",
              "      <th>500</th>\n",
              "      <td>653</td>\n",
              "      <td>Debra</td>\n",
              "      <td>Female</td>\n",
              "      <td>5/28/2006</td>\n",
              "      <td>6:51 AM</td>\n",
              "      <td>42296</td>\n",
              "      <td>16.922</td>\n",
              "      <td>False</td>\n",
              "      <td>Product</td>\n",
              "    </tr>\n",
              "    <tr>\n",
              "      <th>550</th>\n",
              "      <td>725</td>\n",
              "      <td>Jeremy</td>\n",
              "      <td>Male</td>\n",
              "      <td>5/19/1991</td>\n",
              "      <td>1:40 PM</td>\n",
              "      <td>131513</td>\n",
              "      <td>1.876</td>\n",
              "      <td>True</td>\n",
              "      <td>Finance</td>\n",
              "    </tr>\n",
              "    <tr>\n",
              "      <th>600</th>\n",
              "      <td>796</td>\n",
              "      <td>Catherine</td>\n",
              "      <td>Female</td>\n",
              "      <td>8/31/1986</td>\n",
              "      <td>6:20 PM</td>\n",
              "      <td>59970</td>\n",
              "      <td>12.801</td>\n",
              "      <td>False</td>\n",
              "      <td>Client Services</td>\n",
              "    </tr>\n",
              "    <tr>\n",
              "      <th>650</th>\n",
              "      <td>861</td>\n",
              "      <td>Jerry</td>\n",
              "      <td>Male</td>\n",
              "      <td>3/26/1989</td>\n",
              "      <td>4:15 AM</td>\n",
              "      <td>140850</td>\n",
              "      <td>18.855</td>\n",
              "      <td>False</td>\n",
              "      <td>Finance</td>\n",
              "    </tr>\n",
              "    <tr>\n",
              "      <th>700</th>\n",
              "      <td>922</td>\n",
              "      <td>Arthur</td>\n",
              "      <td>Male</td>\n",
              "      <td>12/5/2013</td>\n",
              "      <td>8:44 AM</td>\n",
              "      <td>86615</td>\n",
              "      <td>3.412</td>\n",
              "      <td>True</td>\n",
              "      <td>Business Development</td>\n",
              "    </tr>\n",
              "    <tr>\n",
              "      <th>750</th>\n",
              "      <td>983</td>\n",
              "      <td>John</td>\n",
              "      <td>Male</td>\n",
              "      <td>12/23/1982</td>\n",
              "      <td>10:35 PM</td>\n",
              "      <td>146907</td>\n",
              "      <td>11.738</td>\n",
              "      <td>False</td>\n",
              "      <td>Engineering</td>\n",
              "    </tr>\n",
              "  </tbody>\n",
              "</table>\n",
              "</div>"
            ],
            "text/plain": [
              "     index First Name  Gender  Start Date Last Login Time  Salary  Bonus %  \\\n",
              "0        0    Douglas    Male    8/6/1993        12:42 PM   97308    6.945   \n",
              "50      68       Jose    Male  10/30/2004         1:39 PM   84834   14.330   \n",
              "100    130    Shirley  Female    5/1/1984         1:15 PM   41334    6.219   \n",
              "150    197    Carolyn  Female   11/6/2012         3:51 AM   69268    3.031   \n",
              "200    260     Gloria  Female   3/27/2007         1:44 AM   90730    2.491   \n",
              "250    326    Jeffrey    Male   6/18/1997         8:01 PM   45150   12.075   \n",
              "300    391    Marilyn  Female   8/15/1989         9:14 AM  140502    9.989   \n",
              "350    458     Albert    Male   9/30/2007         5:34 PM  102626   15.843   \n",
              "400    522  Catherine  Female   8/31/2013         7:24 PM   58047   14.858   \n",
              "450    584       Jack    Male   5/30/2012         3:17 AM   70367   18.266   \n",
              "500    653      Debra  Female   5/28/2006         6:51 AM   42296   16.922   \n",
              "550    725     Jeremy    Male   5/19/1991         1:40 PM  131513    1.876   \n",
              "600    796  Catherine  Female   8/31/1986         6:20 PM   59970   12.801   \n",
              "650    861      Jerry    Male   3/26/1989         4:15 AM  140850   18.855   \n",
              "700    922     Arthur    Male   12/5/2013         8:44 AM   86615    3.412   \n",
              "750    983       John    Male  12/23/1982        10:35 PM  146907   11.738   \n",
              "\n",
              "    Senior Management                  Team  \n",
              "0                True             Marketing  \n",
              "50               True               Finance  \n",
              "100              True       Human Resources  \n",
              "150             False       Client Services  \n",
              "200             False          Distribution  \n",
              "250              True               Product  \n",
              "300              True                 Sales  \n",
              "350             False               Finance  \n",
              "400              True          Distribution  \n",
              "450              True                 Legal  \n",
              "500             False               Product  \n",
              "550              True               Finance  \n",
              "600             False       Client Services  \n",
              "650             False               Finance  \n",
              "700              True  Business Development  \n",
              "750             False           Engineering  "
            ]
          },
          "execution_count": 9,
          "metadata": {},
          "output_type": "execute_result"
        }
      ],
      "source": []
    },
    {
      "cell_type": "code",
      "source": [
        "systematic_100"
      ],
      "metadata": {
        "colab": {
          "base_uri": "https://localhost:8080/",
          "height": 1000
        },
        "id": "UBRo4EsM94Hv",
        "outputId": "15d7c313-383d-438a-b8d0-cbcf89a12ca0"
      },
      "id": "UBRo4EsM94Hv",
      "execution_count": null,
      "outputs": [
        {
          "output_type": "execute_result",
          "data": {
            "text/plain": [
              "      First Name  Gender  Start Date Last Login Time  Salary  Bonus %  \\\n",
              "0        Douglas    Male    8/6/1993        12:42 PM   97308    6.945   \n",
              "35       Theresa  Female  10/10/2006         1:12 AM   85182   16.675   \n",
              "68          Jose    Male  10/30/2004         1:39 PM   84834   14.330   \n",
              "101        Aaron    Male   2/17/2012        10:20 AM   61602   11.849   \n",
              "130      Shirley  Female    5/1/1984         1:15 PM   41334    6.219   \n",
              "167  Christopher    Male  12/24/2011        12:22 PM  142178   17.984   \n",
              "197      Carolyn  Female   11/6/2012         3:51 AM   69268    3.031   \n",
              "225        Harry    Male   10/1/2015         7:47 PM   64579   15.266   \n",
              "260       Gloria  Female   3/27/2007         1:44 AM   90730    2.491   \n",
              "294     Virginia  Female  10/20/1999         6:23 AM   46905   19.154   \n",
              "326      Jeffrey    Male   6/18/1997         8:01 PM   45150   12.075   \n",
              "355       Andrea  Female   9/14/2003        10:30 PM  115913   12.121   \n",
              "391      Marilyn  Female   8/15/1989         9:14 AM  140502    9.989   \n",
              "425        Alice  Female    5/2/1986         1:50 AM   51395    2.378   \n",
              "458       Albert    Male   9/30/2007         5:34 PM  102626   15.843   \n",
              "488       Robert    Male   3/11/2007        11:20 AM  135882   19.944   \n",
              "522    Catherine  Female   8/31/2013         7:24 PM   58047   14.858   \n",
              "553       Amanda  Female    6/7/2002         7:46 AM  109290   13.853   \n",
              "584         Jack    Male   5/30/2012         3:17 AM   70367   18.266   \n",
              "619      Beverly  Female  10/22/1990         2:45 PM   59070   19.064   \n",
              "653        Debra  Female   5/28/2006         6:51 AM   42296   16.922   \n",
              "690        Bruce    Male   1/28/2007        11:10 PM  134988   13.926   \n",
              "725       Jeremy    Male   5/19/1991         1:40 PM  131513    1.876   \n",
              "759         Ruth  Female    9/2/1980         6:52 AM   59678   10.895   \n",
              "796    Catherine  Female   8/31/1986         6:20 PM   59970   12.801   \n",
              "828      Cynthia  Female   7/12/2006         8:55 AM  149684    7.864   \n",
              "861        Jerry    Male   3/26/1989         4:15 AM  140850   18.855   \n",
              "893        Frank    Male   7/27/2013         4:32 PM   91406    5.681   \n",
              "922       Arthur    Male   12/5/2013         8:44 AM   86615    3.412   \n",
              "956      Beverly  Female  10/17/1986        12:51 AM   80838    8.115   \n",
              "983         John    Male  12/23/1982        10:35 PM  146907   11.738   \n",
              "\n",
              "    Senior Management                  Team  \n",
              "0                True             Marketing  \n",
              "35              False                 Sales  \n",
              "68               True               Finance  \n",
              "101              True             Marketing  \n",
              "130              True       Human Resources  \n",
              "167              True                 Sales  \n",
              "197             False       Client Services  \n",
              "225              True                 Sales  \n",
              "260             False          Distribution  \n",
              "294             False          Distribution  \n",
              "326              True               Product  \n",
              "355             False                 Legal  \n",
              "391              True                 Sales  \n",
              "425              True               Finance  \n",
              "458             False               Finance  \n",
              "488             False                 Legal  \n",
              "522              True          Distribution  \n",
              "553             False           Engineering  \n",
              "584              True                 Legal  \n",
              "619              True           Engineering  \n",
              "653             False               Product  \n",
              "690              True                 Sales  \n",
              "725              True               Finance  \n",
              "759             False          Distribution  \n",
              "796             False       Client Services  \n",
              "828             False               Product  \n",
              "861             False               Finance  \n",
              "893              True  Business Development  \n",
              "922              True  Business Development  \n",
              "956             False           Engineering  \n",
              "983             False           Engineering  "
            ],
            "text/html": [
              "\n",
              "  <div id=\"df-b609852b-f801-4e6b-a54a-5ce992c237b3\" class=\"colab-df-container\">\n",
              "    <div>\n",
              "<style scoped>\n",
              "    .dataframe tbody tr th:only-of-type {\n",
              "        vertical-align: middle;\n",
              "    }\n",
              "\n",
              "    .dataframe tbody tr th {\n",
              "        vertical-align: top;\n",
              "    }\n",
              "\n",
              "    .dataframe thead th {\n",
              "        text-align: right;\n",
              "    }\n",
              "</style>\n",
              "<table border=\"1\" class=\"dataframe\">\n",
              "  <thead>\n",
              "    <tr style=\"text-align: right;\">\n",
              "      <th></th>\n",
              "      <th>First Name</th>\n",
              "      <th>Gender</th>\n",
              "      <th>Start Date</th>\n",
              "      <th>Last Login Time</th>\n",
              "      <th>Salary</th>\n",
              "      <th>Bonus %</th>\n",
              "      <th>Senior Management</th>\n",
              "      <th>Team</th>\n",
              "    </tr>\n",
              "  </thead>\n",
              "  <tbody>\n",
              "    <tr>\n",
              "      <th>0</th>\n",
              "      <td>Douglas</td>\n",
              "      <td>Male</td>\n",
              "      <td>8/6/1993</td>\n",
              "      <td>12:42 PM</td>\n",
              "      <td>97308</td>\n",
              "      <td>6.945</td>\n",
              "      <td>True</td>\n",
              "      <td>Marketing</td>\n",
              "    </tr>\n",
              "    <tr>\n",
              "      <th>35</th>\n",
              "      <td>Theresa</td>\n",
              "      <td>Female</td>\n",
              "      <td>10/10/2006</td>\n",
              "      <td>1:12 AM</td>\n",
              "      <td>85182</td>\n",
              "      <td>16.675</td>\n",
              "      <td>False</td>\n",
              "      <td>Sales</td>\n",
              "    </tr>\n",
              "    <tr>\n",
              "      <th>68</th>\n",
              "      <td>Jose</td>\n",
              "      <td>Male</td>\n",
              "      <td>10/30/2004</td>\n",
              "      <td>1:39 PM</td>\n",
              "      <td>84834</td>\n",
              "      <td>14.330</td>\n",
              "      <td>True</td>\n",
              "      <td>Finance</td>\n",
              "    </tr>\n",
              "    <tr>\n",
              "      <th>101</th>\n",
              "      <td>Aaron</td>\n",
              "      <td>Male</td>\n",
              "      <td>2/17/2012</td>\n",
              "      <td>10:20 AM</td>\n",
              "      <td>61602</td>\n",
              "      <td>11.849</td>\n",
              "      <td>True</td>\n",
              "      <td>Marketing</td>\n",
              "    </tr>\n",
              "    <tr>\n",
              "      <th>130</th>\n",
              "      <td>Shirley</td>\n",
              "      <td>Female</td>\n",
              "      <td>5/1/1984</td>\n",
              "      <td>1:15 PM</td>\n",
              "      <td>41334</td>\n",
              "      <td>6.219</td>\n",
              "      <td>True</td>\n",
              "      <td>Human Resources</td>\n",
              "    </tr>\n",
              "    <tr>\n",
              "      <th>167</th>\n",
              "      <td>Christopher</td>\n",
              "      <td>Male</td>\n",
              "      <td>12/24/2011</td>\n",
              "      <td>12:22 PM</td>\n",
              "      <td>142178</td>\n",
              "      <td>17.984</td>\n",
              "      <td>True</td>\n",
              "      <td>Sales</td>\n",
              "    </tr>\n",
              "    <tr>\n",
              "      <th>197</th>\n",
              "      <td>Carolyn</td>\n",
              "      <td>Female</td>\n",
              "      <td>11/6/2012</td>\n",
              "      <td>3:51 AM</td>\n",
              "      <td>69268</td>\n",
              "      <td>3.031</td>\n",
              "      <td>False</td>\n",
              "      <td>Client Services</td>\n",
              "    </tr>\n",
              "    <tr>\n",
              "      <th>225</th>\n",
              "      <td>Harry</td>\n",
              "      <td>Male</td>\n",
              "      <td>10/1/2015</td>\n",
              "      <td>7:47 PM</td>\n",
              "      <td>64579</td>\n",
              "      <td>15.266</td>\n",
              "      <td>True</td>\n",
              "      <td>Sales</td>\n",
              "    </tr>\n",
              "    <tr>\n",
              "      <th>260</th>\n",
              "      <td>Gloria</td>\n",
              "      <td>Female</td>\n",
              "      <td>3/27/2007</td>\n",
              "      <td>1:44 AM</td>\n",
              "      <td>90730</td>\n",
              "      <td>2.491</td>\n",
              "      <td>False</td>\n",
              "      <td>Distribution</td>\n",
              "    </tr>\n",
              "    <tr>\n",
              "      <th>294</th>\n",
              "      <td>Virginia</td>\n",
              "      <td>Female</td>\n",
              "      <td>10/20/1999</td>\n",
              "      <td>6:23 AM</td>\n",
              "      <td>46905</td>\n",
              "      <td>19.154</td>\n",
              "      <td>False</td>\n",
              "      <td>Distribution</td>\n",
              "    </tr>\n",
              "    <tr>\n",
              "      <th>326</th>\n",
              "      <td>Jeffrey</td>\n",
              "      <td>Male</td>\n",
              "      <td>6/18/1997</td>\n",
              "      <td>8:01 PM</td>\n",
              "      <td>45150</td>\n",
              "      <td>12.075</td>\n",
              "      <td>True</td>\n",
              "      <td>Product</td>\n",
              "    </tr>\n",
              "    <tr>\n",
              "      <th>355</th>\n",
              "      <td>Andrea</td>\n",
              "      <td>Female</td>\n",
              "      <td>9/14/2003</td>\n",
              "      <td>10:30 PM</td>\n",
              "      <td>115913</td>\n",
              "      <td>12.121</td>\n",
              "      <td>False</td>\n",
              "      <td>Legal</td>\n",
              "    </tr>\n",
              "    <tr>\n",
              "      <th>391</th>\n",
              "      <td>Marilyn</td>\n",
              "      <td>Female</td>\n",
              "      <td>8/15/1989</td>\n",
              "      <td>9:14 AM</td>\n",
              "      <td>140502</td>\n",
              "      <td>9.989</td>\n",
              "      <td>True</td>\n",
              "      <td>Sales</td>\n",
              "    </tr>\n",
              "    <tr>\n",
              "      <th>425</th>\n",
              "      <td>Alice</td>\n",
              "      <td>Female</td>\n",
              "      <td>5/2/1986</td>\n",
              "      <td>1:50 AM</td>\n",
              "      <td>51395</td>\n",
              "      <td>2.378</td>\n",
              "      <td>True</td>\n",
              "      <td>Finance</td>\n",
              "    </tr>\n",
              "    <tr>\n",
              "      <th>458</th>\n",
              "      <td>Albert</td>\n",
              "      <td>Male</td>\n",
              "      <td>9/30/2007</td>\n",
              "      <td>5:34 PM</td>\n",
              "      <td>102626</td>\n",
              "      <td>15.843</td>\n",
              "      <td>False</td>\n",
              "      <td>Finance</td>\n",
              "    </tr>\n",
              "    <tr>\n",
              "      <th>488</th>\n",
              "      <td>Robert</td>\n",
              "      <td>Male</td>\n",
              "      <td>3/11/2007</td>\n",
              "      <td>11:20 AM</td>\n",
              "      <td>135882</td>\n",
              "      <td>19.944</td>\n",
              "      <td>False</td>\n",
              "      <td>Legal</td>\n",
              "    </tr>\n",
              "    <tr>\n",
              "      <th>522</th>\n",
              "      <td>Catherine</td>\n",
              "      <td>Female</td>\n",
              "      <td>8/31/2013</td>\n",
              "      <td>7:24 PM</td>\n",
              "      <td>58047</td>\n",
              "      <td>14.858</td>\n",
              "      <td>True</td>\n",
              "      <td>Distribution</td>\n",
              "    </tr>\n",
              "    <tr>\n",
              "      <th>553</th>\n",
              "      <td>Amanda</td>\n",
              "      <td>Female</td>\n",
              "      <td>6/7/2002</td>\n",
              "      <td>7:46 AM</td>\n",
              "      <td>109290</td>\n",
              "      <td>13.853</td>\n",
              "      <td>False</td>\n",
              "      <td>Engineering</td>\n",
              "    </tr>\n",
              "    <tr>\n",
              "      <th>584</th>\n",
              "      <td>Jack</td>\n",
              "      <td>Male</td>\n",
              "      <td>5/30/2012</td>\n",
              "      <td>3:17 AM</td>\n",
              "      <td>70367</td>\n",
              "      <td>18.266</td>\n",
              "      <td>True</td>\n",
              "      <td>Legal</td>\n",
              "    </tr>\n",
              "    <tr>\n",
              "      <th>619</th>\n",
              "      <td>Beverly</td>\n",
              "      <td>Female</td>\n",
              "      <td>10/22/1990</td>\n",
              "      <td>2:45 PM</td>\n",
              "      <td>59070</td>\n",
              "      <td>19.064</td>\n",
              "      <td>True</td>\n",
              "      <td>Engineering</td>\n",
              "    </tr>\n",
              "    <tr>\n",
              "      <th>653</th>\n",
              "      <td>Debra</td>\n",
              "      <td>Female</td>\n",
              "      <td>5/28/2006</td>\n",
              "      <td>6:51 AM</td>\n",
              "      <td>42296</td>\n",
              "      <td>16.922</td>\n",
              "      <td>False</td>\n",
              "      <td>Product</td>\n",
              "    </tr>\n",
              "    <tr>\n",
              "      <th>690</th>\n",
              "      <td>Bruce</td>\n",
              "      <td>Male</td>\n",
              "      <td>1/28/2007</td>\n",
              "      <td>11:10 PM</td>\n",
              "      <td>134988</td>\n",
              "      <td>13.926</td>\n",
              "      <td>True</td>\n",
              "      <td>Sales</td>\n",
              "    </tr>\n",
              "    <tr>\n",
              "      <th>725</th>\n",
              "      <td>Jeremy</td>\n",
              "      <td>Male</td>\n",
              "      <td>5/19/1991</td>\n",
              "      <td>1:40 PM</td>\n",
              "      <td>131513</td>\n",
              "      <td>1.876</td>\n",
              "      <td>True</td>\n",
              "      <td>Finance</td>\n",
              "    </tr>\n",
              "    <tr>\n",
              "      <th>759</th>\n",
              "      <td>Ruth</td>\n",
              "      <td>Female</td>\n",
              "      <td>9/2/1980</td>\n",
              "      <td>6:52 AM</td>\n",
              "      <td>59678</td>\n",
              "      <td>10.895</td>\n",
              "      <td>False</td>\n",
              "      <td>Distribution</td>\n",
              "    </tr>\n",
              "    <tr>\n",
              "      <th>796</th>\n",
              "      <td>Catherine</td>\n",
              "      <td>Female</td>\n",
              "      <td>8/31/1986</td>\n",
              "      <td>6:20 PM</td>\n",
              "      <td>59970</td>\n",
              "      <td>12.801</td>\n",
              "      <td>False</td>\n",
              "      <td>Client Services</td>\n",
              "    </tr>\n",
              "    <tr>\n",
              "      <th>828</th>\n",
              "      <td>Cynthia</td>\n",
              "      <td>Female</td>\n",
              "      <td>7/12/2006</td>\n",
              "      <td>8:55 AM</td>\n",
              "      <td>149684</td>\n",
              "      <td>7.864</td>\n",
              "      <td>False</td>\n",
              "      <td>Product</td>\n",
              "    </tr>\n",
              "    <tr>\n",
              "      <th>861</th>\n",
              "      <td>Jerry</td>\n",
              "      <td>Male</td>\n",
              "      <td>3/26/1989</td>\n",
              "      <td>4:15 AM</td>\n",
              "      <td>140850</td>\n",
              "      <td>18.855</td>\n",
              "      <td>False</td>\n",
              "      <td>Finance</td>\n",
              "    </tr>\n",
              "    <tr>\n",
              "      <th>893</th>\n",
              "      <td>Frank</td>\n",
              "      <td>Male</td>\n",
              "      <td>7/27/2013</td>\n",
              "      <td>4:32 PM</td>\n",
              "      <td>91406</td>\n",
              "      <td>5.681</td>\n",
              "      <td>True</td>\n",
              "      <td>Business Development</td>\n",
              "    </tr>\n",
              "    <tr>\n",
              "      <th>922</th>\n",
              "      <td>Arthur</td>\n",
              "      <td>Male</td>\n",
              "      <td>12/5/2013</td>\n",
              "      <td>8:44 AM</td>\n",
              "      <td>86615</td>\n",
              "      <td>3.412</td>\n",
              "      <td>True</td>\n",
              "      <td>Business Development</td>\n",
              "    </tr>\n",
              "    <tr>\n",
              "      <th>956</th>\n",
              "      <td>Beverly</td>\n",
              "      <td>Female</td>\n",
              "      <td>10/17/1986</td>\n",
              "      <td>12:51 AM</td>\n",
              "      <td>80838</td>\n",
              "      <td>8.115</td>\n",
              "      <td>False</td>\n",
              "      <td>Engineering</td>\n",
              "    </tr>\n",
              "    <tr>\n",
              "      <th>983</th>\n",
              "      <td>John</td>\n",
              "      <td>Male</td>\n",
              "      <td>12/23/1982</td>\n",
              "      <td>10:35 PM</td>\n",
              "      <td>146907</td>\n",
              "      <td>11.738</td>\n",
              "      <td>False</td>\n",
              "      <td>Engineering</td>\n",
              "    </tr>\n",
              "  </tbody>\n",
              "</table>\n",
              "</div>\n",
              "    <div class=\"colab-df-buttons\">\n",
              "\n",
              "  <div class=\"colab-df-container\">\n",
              "    <button class=\"colab-df-convert\" onclick=\"convertToInteractive('df-b609852b-f801-4e6b-a54a-5ce992c237b3')\"\n",
              "            title=\"Convert this dataframe to an interactive table.\"\n",
              "            style=\"display:none;\">\n",
              "\n",
              "  <svg xmlns=\"http://www.w3.org/2000/svg\" height=\"24px\" viewBox=\"0 -960 960 960\">\n",
              "    <path d=\"M120-120v-720h720v720H120Zm60-500h600v-160H180v160Zm220 220h160v-160H400v160Zm0 220h160v-160H400v160ZM180-400h160v-160H180v160Zm440 0h160v-160H620v160ZM180-180h160v-160H180v160Zm440 0h160v-160H620v160Z\"/>\n",
              "  </svg>\n",
              "    </button>\n",
              "\n",
              "  <style>\n",
              "    .colab-df-container {\n",
              "      display:flex;\n",
              "      gap: 12px;\n",
              "    }\n",
              "\n",
              "    .colab-df-convert {\n",
              "      background-color: #E8F0FE;\n",
              "      border: none;\n",
              "      border-radius: 50%;\n",
              "      cursor: pointer;\n",
              "      display: none;\n",
              "      fill: #1967D2;\n",
              "      height: 32px;\n",
              "      padding: 0 0 0 0;\n",
              "      width: 32px;\n",
              "    }\n",
              "\n",
              "    .colab-df-convert:hover {\n",
              "      background-color: #E2EBFA;\n",
              "      box-shadow: 0px 1px 2px rgba(60, 64, 67, 0.3), 0px 1px 3px 1px rgba(60, 64, 67, 0.15);\n",
              "      fill: #174EA6;\n",
              "    }\n",
              "\n",
              "    .colab-df-buttons div {\n",
              "      margin-bottom: 4px;\n",
              "    }\n",
              "\n",
              "    [theme=dark] .colab-df-convert {\n",
              "      background-color: #3B4455;\n",
              "      fill: #D2E3FC;\n",
              "    }\n",
              "\n",
              "    [theme=dark] .colab-df-convert:hover {\n",
              "      background-color: #434B5C;\n",
              "      box-shadow: 0px 1px 3px 1px rgba(0, 0, 0, 0.15);\n",
              "      filter: drop-shadow(0px 1px 2px rgba(0, 0, 0, 0.3));\n",
              "      fill: #FFFFFF;\n",
              "    }\n",
              "  </style>\n",
              "\n",
              "    <script>\n",
              "      const buttonEl =\n",
              "        document.querySelector('#df-b609852b-f801-4e6b-a54a-5ce992c237b3 button.colab-df-convert');\n",
              "      buttonEl.style.display =\n",
              "        google.colab.kernel.accessAllowed ? 'block' : 'none';\n",
              "\n",
              "      async function convertToInteractive(key) {\n",
              "        const element = document.querySelector('#df-b609852b-f801-4e6b-a54a-5ce992c237b3');\n",
              "        const dataTable =\n",
              "          await google.colab.kernel.invokeFunction('convertToInteractive',\n",
              "                                                    [key], {});\n",
              "        if (!dataTable) return;\n",
              "\n",
              "        const docLinkHtml = 'Like what you see? Visit the ' +\n",
              "          '<a target=\"_blank\" href=https://colab.research.google.com/notebooks/data_table.ipynb>data table notebook</a>'\n",
              "          + ' to learn more about interactive tables.';\n",
              "        element.innerHTML = '';\n",
              "        dataTable['output_type'] = 'display_data';\n",
              "        await google.colab.output.renderOutput(dataTable, element);\n",
              "        const docLink = document.createElement('div');\n",
              "        docLink.innerHTML = docLinkHtml;\n",
              "        element.appendChild(docLink);\n",
              "      }\n",
              "    </script>\n",
              "  </div>\n",
              "\n",
              "\n",
              "<div id=\"df-2f673a19-2c2f-4b84-9aaa-62f17a79e1ef\">\n",
              "  <button class=\"colab-df-quickchart\" onclick=\"quickchart('df-2f673a19-2c2f-4b84-9aaa-62f17a79e1ef')\"\n",
              "            title=\"Suggest charts\"\n",
              "            style=\"display:none;\">\n",
              "\n",
              "<svg xmlns=\"http://www.w3.org/2000/svg\" height=\"24px\"viewBox=\"0 0 24 24\"\n",
              "     width=\"24px\">\n",
              "    <g>\n",
              "        <path d=\"M19 3H5c-1.1 0-2 .9-2 2v14c0 1.1.9 2 2 2h14c1.1 0 2-.9 2-2V5c0-1.1-.9-2-2-2zM9 17H7v-7h2v7zm4 0h-2V7h2v10zm4 0h-2v-4h2v4z\"/>\n",
              "    </g>\n",
              "</svg>\n",
              "  </button>\n",
              "\n",
              "<style>\n",
              "  .colab-df-quickchart {\n",
              "      --bg-color: #E8F0FE;\n",
              "      --fill-color: #1967D2;\n",
              "      --hover-bg-color: #E2EBFA;\n",
              "      --hover-fill-color: #174EA6;\n",
              "      --disabled-fill-color: #AAA;\n",
              "      --disabled-bg-color: #DDD;\n",
              "  }\n",
              "\n",
              "  [theme=dark] .colab-df-quickchart {\n",
              "      --bg-color: #3B4455;\n",
              "      --fill-color: #D2E3FC;\n",
              "      --hover-bg-color: #434B5C;\n",
              "      --hover-fill-color: #FFFFFF;\n",
              "      --disabled-bg-color: #3B4455;\n",
              "      --disabled-fill-color: #666;\n",
              "  }\n",
              "\n",
              "  .colab-df-quickchart {\n",
              "    background-color: var(--bg-color);\n",
              "    border: none;\n",
              "    border-radius: 50%;\n",
              "    cursor: pointer;\n",
              "    display: none;\n",
              "    fill: var(--fill-color);\n",
              "    height: 32px;\n",
              "    padding: 0;\n",
              "    width: 32px;\n",
              "  }\n",
              "\n",
              "  .colab-df-quickchart:hover {\n",
              "    background-color: var(--hover-bg-color);\n",
              "    box-shadow: 0 1px 2px rgba(60, 64, 67, 0.3), 0 1px 3px 1px rgba(60, 64, 67, 0.15);\n",
              "    fill: var(--button-hover-fill-color);\n",
              "  }\n",
              "\n",
              "  .colab-df-quickchart-complete:disabled,\n",
              "  .colab-df-quickchart-complete:disabled:hover {\n",
              "    background-color: var(--disabled-bg-color);\n",
              "    fill: var(--disabled-fill-color);\n",
              "    box-shadow: none;\n",
              "  }\n",
              "\n",
              "  .colab-df-spinner {\n",
              "    border: 2px solid var(--fill-color);\n",
              "    border-color: transparent;\n",
              "    border-bottom-color: var(--fill-color);\n",
              "    animation:\n",
              "      spin 1s steps(1) infinite;\n",
              "  }\n",
              "\n",
              "  @keyframes spin {\n",
              "    0% {\n",
              "      border-color: transparent;\n",
              "      border-bottom-color: var(--fill-color);\n",
              "      border-left-color: var(--fill-color);\n",
              "    }\n",
              "    20% {\n",
              "      border-color: transparent;\n",
              "      border-left-color: var(--fill-color);\n",
              "      border-top-color: var(--fill-color);\n",
              "    }\n",
              "    30% {\n",
              "      border-color: transparent;\n",
              "      border-left-color: var(--fill-color);\n",
              "      border-top-color: var(--fill-color);\n",
              "      border-right-color: var(--fill-color);\n",
              "    }\n",
              "    40% {\n",
              "      border-color: transparent;\n",
              "      border-right-color: var(--fill-color);\n",
              "      border-top-color: var(--fill-color);\n",
              "    }\n",
              "    60% {\n",
              "      border-color: transparent;\n",
              "      border-right-color: var(--fill-color);\n",
              "    }\n",
              "    80% {\n",
              "      border-color: transparent;\n",
              "      border-right-color: var(--fill-color);\n",
              "      border-bottom-color: var(--fill-color);\n",
              "    }\n",
              "    90% {\n",
              "      border-color: transparent;\n",
              "      border-bottom-color: var(--fill-color);\n",
              "    }\n",
              "  }\n",
              "</style>\n",
              "\n",
              "  <script>\n",
              "    async function quickchart(key) {\n",
              "      const quickchartButtonEl =\n",
              "        document.querySelector('#' + key + ' button');\n",
              "      quickchartButtonEl.disabled = true;  // To prevent multiple clicks.\n",
              "      quickchartButtonEl.classList.add('colab-df-spinner');\n",
              "      try {\n",
              "        const charts = await google.colab.kernel.invokeFunction(\n",
              "            'suggestCharts', [key], {});\n",
              "      } catch (error) {\n",
              "        console.error('Error during call to suggestCharts:', error);\n",
              "      }\n",
              "      quickchartButtonEl.classList.remove('colab-df-spinner');\n",
              "      quickchartButtonEl.classList.add('colab-df-quickchart-complete');\n",
              "    }\n",
              "    (() => {\n",
              "      let quickchartButtonEl =\n",
              "        document.querySelector('#df-2f673a19-2c2f-4b84-9aaa-62f17a79e1ef button');\n",
              "      quickchartButtonEl.style.display =\n",
              "        google.colab.kernel.accessAllowed ? 'block' : 'none';\n",
              "    })();\n",
              "  </script>\n",
              "</div>\n",
              "    </div>\n",
              "  </div>\n"
            ]
          },
          "metadata": {},
          "execution_count": 31
        }
      ]
    },
    {
      "cell_type": "code",
      "execution_count": null,
      "id": "b12221ae",
      "metadata": {
        "id": "b12221ae",
        "outputId": "3a2b8a60-e0d4-4be2-b50e-000c701aafab"
      },
      "outputs": [
        {
          "data": {
            "text/html": [
              "<div>\n",
              "<style scoped>\n",
              "    .dataframe tbody tr th:only-of-type {\n",
              "        vertical-align: middle;\n",
              "    }\n",
              "\n",
              "    .dataframe tbody tr th {\n",
              "        vertical-align: top;\n",
              "    }\n",
              "\n",
              "    .dataframe thead th {\n",
              "        text-align: right;\n",
              "    }\n",
              "</style>\n",
              "<table border=\"1\" class=\"dataframe\">\n",
              "  <thead>\n",
              "    <tr style=\"text-align: right;\">\n",
              "      <th></th>\n",
              "      <th>index</th>\n",
              "      <th>First Name</th>\n",
              "      <th>Gender</th>\n",
              "      <th>Start Date</th>\n",
              "      <th>Last Login Time</th>\n",
              "      <th>Salary</th>\n",
              "      <th>Bonus %</th>\n",
              "      <th>Senior Management</th>\n",
              "      <th>Team</th>\n",
              "    </tr>\n",
              "  </thead>\n",
              "  <tbody>\n",
              "    <tr>\n",
              "      <th>0</th>\n",
              "      <td>0</td>\n",
              "      <td>Douglas</td>\n",
              "      <td>Male</td>\n",
              "      <td>8/6/1993</td>\n",
              "      <td>12:42 PM</td>\n",
              "      <td>97308</td>\n",
              "      <td>6.945</td>\n",
              "      <td>True</td>\n",
              "      <td>Marketing</td>\n",
              "    </tr>\n",
              "    <tr>\n",
              "      <th>100</th>\n",
              "      <td>130</td>\n",
              "      <td>Shirley</td>\n",
              "      <td>Female</td>\n",
              "      <td>5/1/1984</td>\n",
              "      <td>1:15 PM</td>\n",
              "      <td>41334</td>\n",
              "      <td>6.219</td>\n",
              "      <td>True</td>\n",
              "      <td>Human Resources</td>\n",
              "    </tr>\n",
              "    <tr>\n",
              "      <th>200</th>\n",
              "      <td>260</td>\n",
              "      <td>Gloria</td>\n",
              "      <td>Female</td>\n",
              "      <td>3/27/2007</td>\n",
              "      <td>1:44 AM</td>\n",
              "      <td>90730</td>\n",
              "      <td>2.491</td>\n",
              "      <td>False</td>\n",
              "      <td>Distribution</td>\n",
              "    </tr>\n",
              "    <tr>\n",
              "      <th>300</th>\n",
              "      <td>391</td>\n",
              "      <td>Marilyn</td>\n",
              "      <td>Female</td>\n",
              "      <td>8/15/1989</td>\n",
              "      <td>9:14 AM</td>\n",
              "      <td>140502</td>\n",
              "      <td>9.989</td>\n",
              "      <td>True</td>\n",
              "      <td>Sales</td>\n",
              "    </tr>\n",
              "    <tr>\n",
              "      <th>400</th>\n",
              "      <td>522</td>\n",
              "      <td>Catherine</td>\n",
              "      <td>Female</td>\n",
              "      <td>8/31/2013</td>\n",
              "      <td>7:24 PM</td>\n",
              "      <td>58047</td>\n",
              "      <td>14.858</td>\n",
              "      <td>True</td>\n",
              "      <td>Distribution</td>\n",
              "    </tr>\n",
              "    <tr>\n",
              "      <th>500</th>\n",
              "      <td>653</td>\n",
              "      <td>Debra</td>\n",
              "      <td>Female</td>\n",
              "      <td>5/28/2006</td>\n",
              "      <td>6:51 AM</td>\n",
              "      <td>42296</td>\n",
              "      <td>16.922</td>\n",
              "      <td>False</td>\n",
              "      <td>Product</td>\n",
              "    </tr>\n",
              "    <tr>\n",
              "      <th>600</th>\n",
              "      <td>796</td>\n",
              "      <td>Catherine</td>\n",
              "      <td>Female</td>\n",
              "      <td>8/31/1986</td>\n",
              "      <td>6:20 PM</td>\n",
              "      <td>59970</td>\n",
              "      <td>12.801</td>\n",
              "      <td>False</td>\n",
              "      <td>Client Services</td>\n",
              "    </tr>\n",
              "    <tr>\n",
              "      <th>700</th>\n",
              "      <td>922</td>\n",
              "      <td>Arthur</td>\n",
              "      <td>Male</td>\n",
              "      <td>12/5/2013</td>\n",
              "      <td>8:44 AM</td>\n",
              "      <td>86615</td>\n",
              "      <td>3.412</td>\n",
              "      <td>True</td>\n",
              "      <td>Business Development</td>\n",
              "    </tr>\n",
              "  </tbody>\n",
              "</table>\n",
              "</div>"
            ],
            "text/plain": [
              "     index First Name  Gender Start Date Last Login Time  Salary  Bonus %  \\\n",
              "0        0    Douglas    Male   8/6/1993        12:42 PM   97308    6.945   \n",
              "100    130    Shirley  Female   5/1/1984         1:15 PM   41334    6.219   \n",
              "200    260     Gloria  Female  3/27/2007         1:44 AM   90730    2.491   \n",
              "300    391    Marilyn  Female  8/15/1989         9:14 AM  140502    9.989   \n",
              "400    522  Catherine  Female  8/31/2013         7:24 PM   58047   14.858   \n",
              "500    653      Debra  Female  5/28/2006         6:51 AM   42296   16.922   \n",
              "600    796  Catherine  Female  8/31/1986         6:20 PM   59970   12.801   \n",
              "700    922     Arthur    Male  12/5/2013         8:44 AM   86615    3.412   \n",
              "\n",
              "    Senior Management                  Team  \n",
              "0                True             Marketing  \n",
              "100              True       Human Resources  \n",
              "200             False          Distribution  \n",
              "300              True                 Sales  \n",
              "400              True          Distribution  \n",
              "500             False               Product  \n",
              "600             False       Client Services  \n",
              "700              True  Business Development  "
            ]
          },
          "execution_count": 10,
          "metadata": {},
          "output_type": "execute_result"
        }
      ],
      "source": []
    },
    {
      "cell_type": "markdown",
      "id": "af1a3ba5",
      "metadata": {
        "id": "af1a3ba5"
      },
      "source": [
        "## Stratified Sampling\n",
        "#### Perform a countplot and pieplot for Gender column.\n",
        "#### Select 20% startified sample from data based on Gender.\n",
        "#### Perform a countplot and pieplot for Gender column for the data sample."
      ]
    },
    {
      "cell_type": "code",
      "source": [
        "result = df.groupby('Gender', group_keys=False).apply(lambda x: x.sample(frac=0.2))"
      ],
      "metadata": {
        "id": "XgVJOD-6997V"
      },
      "id": "XgVJOD-6997V",
      "execution_count": null,
      "outputs": []
    },
    {
      "cell_type": "code",
      "source": [
        "result.head()"
      ],
      "metadata": {
        "colab": {
          "base_uri": "https://localhost:8080/",
          "height": 206
        },
        "id": "HjtEvrN3Awcc",
        "outputId": "c36b3d36-2f93-40ed-93bd-1a9d47440319"
      },
      "id": "HjtEvrN3Awcc",
      "execution_count": null,
      "outputs": [
        {
          "output_type": "execute_result",
          "data": {
            "text/plain": [
              "    First Name  Gender  Start Date Last Login Time  Salary  Bonus %  \\\n",
              "126   Michelle  Female   3/30/1984         6:43 PM   57325   17.179   \n",
              "735    Barbara  Female  11/26/2002         5:32 AM   82884    6.837   \n",
              "852      Diana  Female  11/19/2004         8:47 AM  105066   17.343   \n",
              "465      Helen  Female  10/31/1997         2:43 AM   52875    4.188   \n",
              "775       Rose  Female   11/3/1999         9:06 AM   75181    6.060   \n",
              "\n",
              "    Senior Management                  Team  \n",
              "126              True       Human Resources  \n",
              "735              True  Business Development  \n",
              "852              True  Business Development  \n",
              "465             False                 Legal  \n",
              "775              True               Finance  "
            ],
            "text/html": [
              "\n",
              "  <div id=\"df-837994f2-679e-4f70-b73d-38a0d82e9eed\" class=\"colab-df-container\">\n",
              "    <div>\n",
              "<style scoped>\n",
              "    .dataframe tbody tr th:only-of-type {\n",
              "        vertical-align: middle;\n",
              "    }\n",
              "\n",
              "    .dataframe tbody tr th {\n",
              "        vertical-align: top;\n",
              "    }\n",
              "\n",
              "    .dataframe thead th {\n",
              "        text-align: right;\n",
              "    }\n",
              "</style>\n",
              "<table border=\"1\" class=\"dataframe\">\n",
              "  <thead>\n",
              "    <tr style=\"text-align: right;\">\n",
              "      <th></th>\n",
              "      <th>First Name</th>\n",
              "      <th>Gender</th>\n",
              "      <th>Start Date</th>\n",
              "      <th>Last Login Time</th>\n",
              "      <th>Salary</th>\n",
              "      <th>Bonus %</th>\n",
              "      <th>Senior Management</th>\n",
              "      <th>Team</th>\n",
              "    </tr>\n",
              "  </thead>\n",
              "  <tbody>\n",
              "    <tr>\n",
              "      <th>126</th>\n",
              "      <td>Michelle</td>\n",
              "      <td>Female</td>\n",
              "      <td>3/30/1984</td>\n",
              "      <td>6:43 PM</td>\n",
              "      <td>57325</td>\n",
              "      <td>17.179</td>\n",
              "      <td>True</td>\n",
              "      <td>Human Resources</td>\n",
              "    </tr>\n",
              "    <tr>\n",
              "      <th>735</th>\n",
              "      <td>Barbara</td>\n",
              "      <td>Female</td>\n",
              "      <td>11/26/2002</td>\n",
              "      <td>5:32 AM</td>\n",
              "      <td>82884</td>\n",
              "      <td>6.837</td>\n",
              "      <td>True</td>\n",
              "      <td>Business Development</td>\n",
              "    </tr>\n",
              "    <tr>\n",
              "      <th>852</th>\n",
              "      <td>Diana</td>\n",
              "      <td>Female</td>\n",
              "      <td>11/19/2004</td>\n",
              "      <td>8:47 AM</td>\n",
              "      <td>105066</td>\n",
              "      <td>17.343</td>\n",
              "      <td>True</td>\n",
              "      <td>Business Development</td>\n",
              "    </tr>\n",
              "    <tr>\n",
              "      <th>465</th>\n",
              "      <td>Helen</td>\n",
              "      <td>Female</td>\n",
              "      <td>10/31/1997</td>\n",
              "      <td>2:43 AM</td>\n",
              "      <td>52875</td>\n",
              "      <td>4.188</td>\n",
              "      <td>False</td>\n",
              "      <td>Legal</td>\n",
              "    </tr>\n",
              "    <tr>\n",
              "      <th>775</th>\n",
              "      <td>Rose</td>\n",
              "      <td>Female</td>\n",
              "      <td>11/3/1999</td>\n",
              "      <td>9:06 AM</td>\n",
              "      <td>75181</td>\n",
              "      <td>6.060</td>\n",
              "      <td>True</td>\n",
              "      <td>Finance</td>\n",
              "    </tr>\n",
              "  </tbody>\n",
              "</table>\n",
              "</div>\n",
              "    <div class=\"colab-df-buttons\">\n",
              "\n",
              "  <div class=\"colab-df-container\">\n",
              "    <button class=\"colab-df-convert\" onclick=\"convertToInteractive('df-837994f2-679e-4f70-b73d-38a0d82e9eed')\"\n",
              "            title=\"Convert this dataframe to an interactive table.\"\n",
              "            style=\"display:none;\">\n",
              "\n",
              "  <svg xmlns=\"http://www.w3.org/2000/svg\" height=\"24px\" viewBox=\"0 -960 960 960\">\n",
              "    <path d=\"M120-120v-720h720v720H120Zm60-500h600v-160H180v160Zm220 220h160v-160H400v160Zm0 220h160v-160H400v160ZM180-400h160v-160H180v160Zm440 0h160v-160H620v160ZM180-180h160v-160H180v160Zm440 0h160v-160H620v160Z\"/>\n",
              "  </svg>\n",
              "    </button>\n",
              "\n",
              "  <style>\n",
              "    .colab-df-container {\n",
              "      display:flex;\n",
              "      gap: 12px;\n",
              "    }\n",
              "\n",
              "    .colab-df-convert {\n",
              "      background-color: #E8F0FE;\n",
              "      border: none;\n",
              "      border-radius: 50%;\n",
              "      cursor: pointer;\n",
              "      display: none;\n",
              "      fill: #1967D2;\n",
              "      height: 32px;\n",
              "      padding: 0 0 0 0;\n",
              "      width: 32px;\n",
              "    }\n",
              "\n",
              "    .colab-df-convert:hover {\n",
              "      background-color: #E2EBFA;\n",
              "      box-shadow: 0px 1px 2px rgba(60, 64, 67, 0.3), 0px 1px 3px 1px rgba(60, 64, 67, 0.15);\n",
              "      fill: #174EA6;\n",
              "    }\n",
              "\n",
              "    .colab-df-buttons div {\n",
              "      margin-bottom: 4px;\n",
              "    }\n",
              "\n",
              "    [theme=dark] .colab-df-convert {\n",
              "      background-color: #3B4455;\n",
              "      fill: #D2E3FC;\n",
              "    }\n",
              "\n",
              "    [theme=dark] .colab-df-convert:hover {\n",
              "      background-color: #434B5C;\n",
              "      box-shadow: 0px 1px 3px 1px rgba(0, 0, 0, 0.15);\n",
              "      filter: drop-shadow(0px 1px 2px rgba(0, 0, 0, 0.3));\n",
              "      fill: #FFFFFF;\n",
              "    }\n",
              "  </style>\n",
              "\n",
              "    <script>\n",
              "      const buttonEl =\n",
              "        document.querySelector('#df-837994f2-679e-4f70-b73d-38a0d82e9eed button.colab-df-convert');\n",
              "      buttonEl.style.display =\n",
              "        google.colab.kernel.accessAllowed ? 'block' : 'none';\n",
              "\n",
              "      async function convertToInteractive(key) {\n",
              "        const element = document.querySelector('#df-837994f2-679e-4f70-b73d-38a0d82e9eed');\n",
              "        const dataTable =\n",
              "          await google.colab.kernel.invokeFunction('convertToInteractive',\n",
              "                                                    [key], {});\n",
              "        if (!dataTable) return;\n",
              "\n",
              "        const docLinkHtml = 'Like what you see? Visit the ' +\n",
              "          '<a target=\"_blank\" href=https://colab.research.google.com/notebooks/data_table.ipynb>data table notebook</a>'\n",
              "          + ' to learn more about interactive tables.';\n",
              "        element.innerHTML = '';\n",
              "        dataTable['output_type'] = 'display_data';\n",
              "        await google.colab.output.renderOutput(dataTable, element);\n",
              "        const docLink = document.createElement('div');\n",
              "        docLink.innerHTML = docLinkHtml;\n",
              "        element.appendChild(docLink);\n",
              "      }\n",
              "    </script>\n",
              "  </div>\n",
              "\n",
              "\n",
              "<div id=\"df-9d26ea46-bf6e-4874-95f5-5cd131329647\">\n",
              "  <button class=\"colab-df-quickchart\" onclick=\"quickchart('df-9d26ea46-bf6e-4874-95f5-5cd131329647')\"\n",
              "            title=\"Suggest charts\"\n",
              "            style=\"display:none;\">\n",
              "\n",
              "<svg xmlns=\"http://www.w3.org/2000/svg\" height=\"24px\"viewBox=\"0 0 24 24\"\n",
              "     width=\"24px\">\n",
              "    <g>\n",
              "        <path d=\"M19 3H5c-1.1 0-2 .9-2 2v14c0 1.1.9 2 2 2h14c1.1 0 2-.9 2-2V5c0-1.1-.9-2-2-2zM9 17H7v-7h2v7zm4 0h-2V7h2v10zm4 0h-2v-4h2v4z\"/>\n",
              "    </g>\n",
              "</svg>\n",
              "  </button>\n",
              "\n",
              "<style>\n",
              "  .colab-df-quickchart {\n",
              "      --bg-color: #E8F0FE;\n",
              "      --fill-color: #1967D2;\n",
              "      --hover-bg-color: #E2EBFA;\n",
              "      --hover-fill-color: #174EA6;\n",
              "      --disabled-fill-color: #AAA;\n",
              "      --disabled-bg-color: #DDD;\n",
              "  }\n",
              "\n",
              "  [theme=dark] .colab-df-quickchart {\n",
              "      --bg-color: #3B4455;\n",
              "      --fill-color: #D2E3FC;\n",
              "      --hover-bg-color: #434B5C;\n",
              "      --hover-fill-color: #FFFFFF;\n",
              "      --disabled-bg-color: #3B4455;\n",
              "      --disabled-fill-color: #666;\n",
              "  }\n",
              "\n",
              "  .colab-df-quickchart {\n",
              "    background-color: var(--bg-color);\n",
              "    border: none;\n",
              "    border-radius: 50%;\n",
              "    cursor: pointer;\n",
              "    display: none;\n",
              "    fill: var(--fill-color);\n",
              "    height: 32px;\n",
              "    padding: 0;\n",
              "    width: 32px;\n",
              "  }\n",
              "\n",
              "  .colab-df-quickchart:hover {\n",
              "    background-color: var(--hover-bg-color);\n",
              "    box-shadow: 0 1px 2px rgba(60, 64, 67, 0.3), 0 1px 3px 1px rgba(60, 64, 67, 0.15);\n",
              "    fill: var(--button-hover-fill-color);\n",
              "  }\n",
              "\n",
              "  .colab-df-quickchart-complete:disabled,\n",
              "  .colab-df-quickchart-complete:disabled:hover {\n",
              "    background-color: var(--disabled-bg-color);\n",
              "    fill: var(--disabled-fill-color);\n",
              "    box-shadow: none;\n",
              "  }\n",
              "\n",
              "  .colab-df-spinner {\n",
              "    border: 2px solid var(--fill-color);\n",
              "    border-color: transparent;\n",
              "    border-bottom-color: var(--fill-color);\n",
              "    animation:\n",
              "      spin 1s steps(1) infinite;\n",
              "  }\n",
              "\n",
              "  @keyframes spin {\n",
              "    0% {\n",
              "      border-color: transparent;\n",
              "      border-bottom-color: var(--fill-color);\n",
              "      border-left-color: var(--fill-color);\n",
              "    }\n",
              "    20% {\n",
              "      border-color: transparent;\n",
              "      border-left-color: var(--fill-color);\n",
              "      border-top-color: var(--fill-color);\n",
              "    }\n",
              "    30% {\n",
              "      border-color: transparent;\n",
              "      border-left-color: var(--fill-color);\n",
              "      border-top-color: var(--fill-color);\n",
              "      border-right-color: var(--fill-color);\n",
              "    }\n",
              "    40% {\n",
              "      border-color: transparent;\n",
              "      border-right-color: var(--fill-color);\n",
              "      border-top-color: var(--fill-color);\n",
              "    }\n",
              "    60% {\n",
              "      border-color: transparent;\n",
              "      border-right-color: var(--fill-color);\n",
              "    }\n",
              "    80% {\n",
              "      border-color: transparent;\n",
              "      border-right-color: var(--fill-color);\n",
              "      border-bottom-color: var(--fill-color);\n",
              "    }\n",
              "    90% {\n",
              "      border-color: transparent;\n",
              "      border-bottom-color: var(--fill-color);\n",
              "    }\n",
              "  }\n",
              "</style>\n",
              "\n",
              "  <script>\n",
              "    async function quickchart(key) {\n",
              "      const quickchartButtonEl =\n",
              "        document.querySelector('#' + key + ' button');\n",
              "      quickchartButtonEl.disabled = true;  // To prevent multiple clicks.\n",
              "      quickchartButtonEl.classList.add('colab-df-spinner');\n",
              "      try {\n",
              "        const charts = await google.colab.kernel.invokeFunction(\n",
              "            'suggestCharts', [key], {});\n",
              "      } catch (error) {\n",
              "        console.error('Error during call to suggestCharts:', error);\n",
              "      }\n",
              "      quickchartButtonEl.classList.remove('colab-df-spinner');\n",
              "      quickchartButtonEl.classList.add('colab-df-quickchart-complete');\n",
              "    }\n",
              "    (() => {\n",
              "      let quickchartButtonEl =\n",
              "        document.querySelector('#df-9d26ea46-bf6e-4874-95f5-5cd131329647 button');\n",
              "      quickchartButtonEl.style.display =\n",
              "        google.colab.kernel.accessAllowed ? 'block' : 'none';\n",
              "    })();\n",
              "  </script>\n",
              "</div>\n",
              "    </div>\n",
              "  </div>\n"
            ]
          },
          "metadata": {},
          "execution_count": 38
        }
      ]
    },
    {
      "cell_type": "code",
      "execution_count": null,
      "id": "64575d7e",
      "metadata": {
        "id": "64575d7e",
        "outputId": "18e0eae0-f030-4e33-9130-596bb636f5da"
      },
      "outputs": [
        {
          "data": {
            "text/html": [
              "<div>\n",
              "<style scoped>\n",
              "    .dataframe tbody tr th:only-of-type {\n",
              "        vertical-align: middle;\n",
              "    }\n",
              "\n",
              "    .dataframe tbody tr th {\n",
              "        vertical-align: top;\n",
              "    }\n",
              "\n",
              "    .dataframe thead th {\n",
              "        text-align: right;\n",
              "    }\n",
              "</style>\n",
              "<table border=\"1\" class=\"dataframe\">\n",
              "  <thead>\n",
              "    <tr style=\"text-align: right;\">\n",
              "      <th></th>\n",
              "      <th>index</th>\n",
              "      <th>First Name</th>\n",
              "      <th>Gender</th>\n",
              "      <th>Start Date</th>\n",
              "      <th>Last Login Time</th>\n",
              "      <th>Salary</th>\n",
              "      <th>Bonus %</th>\n",
              "      <th>Senior Management</th>\n",
              "      <th>Team</th>\n",
              "    </tr>\n",
              "  </thead>\n",
              "  <tbody>\n",
              "    <tr>\n",
              "      <th>0</th>\n",
              "      <td>0</td>\n",
              "      <td>Douglas</td>\n",
              "      <td>Male</td>\n",
              "      <td>8/6/1993</td>\n",
              "      <td>12:42 PM</td>\n",
              "      <td>97308</td>\n",
              "      <td>6.945</td>\n",
              "      <td>True</td>\n",
              "      <td>Marketing</td>\n",
              "    </tr>\n",
              "    <tr>\n",
              "      <th>1</th>\n",
              "      <td>2</td>\n",
              "      <td>Maria</td>\n",
              "      <td>Female</td>\n",
              "      <td>4/23/1993</td>\n",
              "      <td>11:17 AM</td>\n",
              "      <td>130590</td>\n",
              "      <td>11.858</td>\n",
              "      <td>False</td>\n",
              "      <td>Finance</td>\n",
              "    </tr>\n",
              "    <tr>\n",
              "      <th>2</th>\n",
              "      <td>3</td>\n",
              "      <td>Jerry</td>\n",
              "      <td>Male</td>\n",
              "      <td>3/4/2005</td>\n",
              "      <td>1:00 PM</td>\n",
              "      <td>138705</td>\n",
              "      <td>9.340</td>\n",
              "      <td>True</td>\n",
              "      <td>Finance</td>\n",
              "    </tr>\n",
              "    <tr>\n",
              "      <th>3</th>\n",
              "      <td>4</td>\n",
              "      <td>Larry</td>\n",
              "      <td>Male</td>\n",
              "      <td>1/24/1998</td>\n",
              "      <td>4:47 PM</td>\n",
              "      <td>101004</td>\n",
              "      <td>1.389</td>\n",
              "      <td>True</td>\n",
              "      <td>Client Services</td>\n",
              "    </tr>\n",
              "    <tr>\n",
              "      <th>4</th>\n",
              "      <td>5</td>\n",
              "      <td>Dennis</td>\n",
              "      <td>Male</td>\n",
              "      <td>4/18/1987</td>\n",
              "      <td>1:35 AM</td>\n",
              "      <td>115163</td>\n",
              "      <td>10.125</td>\n",
              "      <td>False</td>\n",
              "      <td>Legal</td>\n",
              "    </tr>\n",
              "  </tbody>\n",
              "</table>\n",
              "</div>"
            ],
            "text/plain": [
              "   index First Name  Gender Start Date Last Login Time  Salary  Bonus %  \\\n",
              "0      0    Douglas    Male   8/6/1993        12:42 PM   97308    6.945   \n",
              "1      2      Maria  Female  4/23/1993        11:17 AM  130590   11.858   \n",
              "2      3      Jerry    Male   3/4/2005         1:00 PM  138705    9.340   \n",
              "3      4      Larry    Male  1/24/1998         4:47 PM  101004    1.389   \n",
              "4      5     Dennis    Male  4/18/1987         1:35 AM  115163   10.125   \n",
              "\n",
              "  Senior Management             Team  \n",
              "0              True        Marketing  \n",
              "1             False          Finance  \n",
              "2              True          Finance  \n",
              "3              True  Client Services  \n",
              "4             False            Legal  "
            ]
          },
          "execution_count": 11,
          "metadata": {},
          "output_type": "execute_result"
        }
      ],
      "source": []
    },
    {
      "cell_type": "code",
      "source": [
        "sns.countplot(x = df.Gender)"
      ],
      "metadata": {
        "colab": {
          "base_uri": "https://localhost:8080/",
          "height": 466
        },
        "id": "RQL24om3CAc4",
        "outputId": "1727ed1f-dbf5-4e1e-8364-67b143eb6a80"
      },
      "id": "RQL24om3CAc4",
      "execution_count": null,
      "outputs": [
        {
          "output_type": "execute_result",
          "data": {
            "text/plain": [
              "<Axes: xlabel='Gender', ylabel='count'>"
            ]
          },
          "metadata": {},
          "execution_count": 40
        },
        {
          "output_type": "display_data",
          "data": {
            "text/plain": [
              "<Figure size 640x480 with 1 Axes>"
            ],
            "image/png": "[encoded data removed]"
          },
          "metadata": {}
        }
      ]
    },
    {
      "cell_type": "code",
      "execution_count": null,
      "id": "503c5b39",
      "metadata": {
        "id": "503c5b39",
        "outputId": "6c5f5b28-c695-4d4c-8fda-b49929d1e2ac"
      },
      "outputs": [
        {
          "data": {
            "text/plain": [
              "<AxesSubplot:xlabel='Gender', ylabel='count'>"
            ]
          },
          "execution_count": 12,
          "metadata": {},
          "output_type": "execute_result"
        },
        {
          "data": {
            "image/png": "[encoded data removed]",
            "text/plain": [
              "<Figure size 1080x504 with 1 Axes>"
            ]
          },
          "metadata": {
            "needs_background": "light"
          },
          "output_type": "display_data"
        }
      ],
      "source": []
    },
    {
      "cell_type": "code",
      "source": [
        "count_ = df.Gender.value_counts()"
      ],
      "metadata": {
        "id": "A43A4OedCPdz"
      },
      "id": "A43A4OedCPdz",
      "execution_count": null,
      "outputs": []
    },
    {
      "cell_type": "code",
      "source": [
        "count_"
      ],
      "metadata": {
        "colab": {
          "base_uri": "https://localhost:8080/"
        },
        "id": "96RjyB9ACdII",
        "outputId": "554986d3-b40a-4654-d2ea-2adacb80d858"
      },
      "id": "96RjyB9ACdII",
      "execution_count": null,
      "outputs": [
        {
          "output_type": "execute_result",
          "data": {
            "text/plain": [
              "Female    393\n",
              "Male      371\n",
              "Name: Gender, dtype: int64"
            ]
          },
          "metadata": {},
          "execution_count": 42
        }
      ]
    },
    {
      "cell_type": "code",
      "execution_count": null,
      "id": "923528b4",
      "metadata": {
        "id": "923528b4",
        "outputId": "cc4acfe5-ea4f-42b1-e7de-723b8b717328"
      },
      "outputs": [
        {
          "data": {
            "text/html": [
              "<div>\n",
              "<style scoped>\n",
              "    .dataframe tbody tr th:only-of-type {\n",
              "        vertical-align: middle;\n",
              "    }\n",
              "\n",
              "    .dataframe tbody tr th {\n",
              "        vertical-align: top;\n",
              "    }\n",
              "\n",
              "    .dataframe thead th {\n",
              "        text-align: right;\n",
              "    }\n",
              "</style>\n",
              "<table border=\"1\" class=\"dataframe\">\n",
              "  <thead>\n",
              "    <tr style=\"text-align: right;\">\n",
              "      <th></th>\n",
              "      <th>Gender</th>\n",
              "    </tr>\n",
              "  </thead>\n",
              "  <tbody>\n",
              "    <tr>\n",
              "      <th>Female</th>\n",
              "      <td>393</td>\n",
              "    </tr>\n",
              "    <tr>\n",
              "      <th>Male</th>\n",
              "      <td>371</td>\n",
              "    </tr>\n",
              "  </tbody>\n",
              "</table>\n",
              "</div>"
            ],
            "text/plain": [
              "        Gender\n",
              "Female     393\n",
              "Male       371"
            ]
          },
          "execution_count": 13,
          "metadata": {},
          "output_type": "execute_result"
        }
      ],
      "source": []
    },
    {
      "cell_type": "code",
      "source": [
        "plt.pie(count_.values,labels=count_.index,autopct='%1.1f%%')"
      ],
      "metadata": {
        "colab": {
          "base_uri": "https://localhost:8080/",
          "height": 510
        },
        "id": "N0LpbpNUChZ7",
        "outputId": "06276c90-7546-4bbf-d069-6ac3e4f0af27"
      },
      "id": "N0LpbpNUChZ7",
      "execution_count": 47,
      "outputs": [
        {
          "output_type": "execute_result",
          "data": {
            "text/plain": [
              "([<matplotlib.patches.Wedge at 0x784d916982b0>,\n",
              "  <matplotlib.patches.Wedge at 0x784d9169a620>],\n",
              " [Text(-0.04973867214253067, 1.0988749084829892, 'Female'),\n",
              "  Text(0.049738672142530534, -1.0988749084829892, 'Male')],\n",
              " [Text(-0.02713018480501673, 0.5993863137179941, '51.4%'),\n",
              "  Text(0.027130184805016652, -0.5993863137179941, '48.6%')])"
            ]
          },
          "metadata": {},
          "execution_count": 47
        },
        {
          "output_type": "display_data",
          "data": {
            "text/plain": [
              "<Figure size 640x480 with 1 Axes>"
            ],
            "image/png": "[encoded data removed]"
          },
          "metadata": {}
        }
      ]
    },
    {
      "cell_type": "code",
      "execution_count": null,
      "id": "1553da7e",
      "metadata": {
        "id": "1553da7e",
        "outputId": "7907ed3a-145a-4f18-c895-b3ee4ea563b1"
      },
      "outputs": [
        {
          "data": {
            "text/plain": [
              "<AxesSubplot:ylabel='Gender'>"
            ]
          },
          "execution_count": 14,
          "metadata": {},
          "output_type": "execute_result"
        },
        {
          "data": {
            "image/png": "[encoded data removed]",
            "text/plain": [
              "<Figure size 720x720 with 1 Axes>"
            ]
          },
          "metadata": {},
          "output_type": "display_data"
        }
      ],
      "source": []
    },
    {
      "cell_type": "code",
      "source": [],
      "metadata": {
        "id": "nk8CpqjDD9Ij"
      },
      "id": "nk8CpqjDD9Ij",
      "execution_count": null,
      "outputs": []
    },
    {
      "cell_type": "code",
      "execution_count": null,
      "id": "39b28a39",
      "metadata": {
        "id": "39b28a39",
        "outputId": "2833f3b2-e044-4bec-ccb7-9dac9345797d"
      },
      "outputs": [
        {
          "data": {
            "text/html": [
              "<div>\n",
              "<style scoped>\n",
              "    .dataframe tbody tr th:only-of-type {\n",
              "        vertical-align: middle;\n",
              "    }\n",
              "\n",
              "    .dataframe tbody tr th {\n",
              "        vertical-align: top;\n",
              "    }\n",
              "\n",
              "    .dataframe thead th {\n",
              "        text-align: right;\n",
              "    }\n",
              "</style>\n",
              "<table border=\"1\" class=\"dataframe\">\n",
              "  <thead>\n",
              "    <tr style=\"text-align: right;\">\n",
              "      <th></th>\n",
              "      <th>index</th>\n",
              "      <th>First Name</th>\n",
              "      <th>Gender</th>\n",
              "      <th>Start Date</th>\n",
              "      <th>Last Login Time</th>\n",
              "      <th>Salary</th>\n",
              "      <th>Bonus %</th>\n",
              "      <th>Senior Management</th>\n",
              "      <th>Team</th>\n",
              "    </tr>\n",
              "  </thead>\n",
              "  <tbody>\n",
              "    <tr>\n",
              "      <th>617</th>\n",
              "      <td>814</td>\n",
              "      <td>Rachel</td>\n",
              "      <td>Female</td>\n",
              "      <td>6/23/2011</td>\n",
              "      <td>12:52 AM</td>\n",
              "      <td>54941</td>\n",
              "      <td>3.221</td>\n",
              "      <td>True</td>\n",
              "      <td>Distribution</td>\n",
              "    </tr>\n",
              "    <tr>\n",
              "      <th>222</th>\n",
              "      <td>291</td>\n",
              "      <td>Tammy</td>\n",
              "      <td>Female</td>\n",
              "      <td>11/11/1984</td>\n",
              "      <td>10:30 AM</td>\n",
              "      <td>132839</td>\n",
              "      <td>17.463</td>\n",
              "      <td>True</td>\n",
              "      <td>Client Services</td>\n",
              "    </tr>\n",
              "    <tr>\n",
              "      <th>706</th>\n",
              "      <td>930</td>\n",
              "      <td>Nancy</td>\n",
              "      <td>Female</td>\n",
              "      <td>9/10/2001</td>\n",
              "      <td>11:57 PM</td>\n",
              "      <td>85213</td>\n",
              "      <td>2.386</td>\n",
              "      <td>True</td>\n",
              "      <td>Marketing</td>\n",
              "    </tr>\n",
              "    <tr>\n",
              "      <th>236</th>\n",
              "      <td>308</td>\n",
              "      <td>Cheryl</td>\n",
              "      <td>Female</td>\n",
              "      <td>9/8/2009</td>\n",
              "      <td>10:16 AM</td>\n",
              "      <td>81308</td>\n",
              "      <td>2.196</td>\n",
              "      <td>True</td>\n",
              "      <td>Legal</td>\n",
              "    </tr>\n",
              "    <tr>\n",
              "      <th>516</th>\n",
              "      <td>675</td>\n",
              "      <td>Diane</td>\n",
              "      <td>Female</td>\n",
              "      <td>10/30/2009</td>\n",
              "      <td>6:56 PM</td>\n",
              "      <td>130577</td>\n",
              "      <td>12.791</td>\n",
              "      <td>False</td>\n",
              "      <td>Marketing</td>\n",
              "    </tr>\n",
              "    <tr>\n",
              "      <th>...</th>\n",
              "      <td>...</td>\n",
              "      <td>...</td>\n",
              "      <td>...</td>\n",
              "      <td>...</td>\n",
              "      <td>...</td>\n",
              "      <td>...</td>\n",
              "      <td>...</td>\n",
              "      <td>...</td>\n",
              "      <td>...</td>\n",
              "    </tr>\n",
              "    <tr>\n",
              "      <th>748</th>\n",
              "      <td>981</td>\n",
              "      <td>James</td>\n",
              "      <td>Male</td>\n",
              "      <td>1/15/1993</td>\n",
              "      <td>5:19 PM</td>\n",
              "      <td>148985</td>\n",
              "      <td>19.280</td>\n",
              "      <td>False</td>\n",
              "      <td>Legal</td>\n",
              "    </tr>\n",
              "    <tr>\n",
              "      <th>761</th>\n",
              "      <td>997</td>\n",
              "      <td>Russell</td>\n",
              "      <td>Male</td>\n",
              "      <td>5/20/2013</td>\n",
              "      <td>12:39 PM</td>\n",
              "      <td>96914</td>\n",
              "      <td>1.421</td>\n",
              "      <td>False</td>\n",
              "      <td>Product</td>\n",
              "    </tr>\n",
              "    <tr>\n",
              "      <th>97</th>\n",
              "      <td>127</td>\n",
              "      <td>William</td>\n",
              "      <td>Male</td>\n",
              "      <td>9/29/2002</td>\n",
              "      <td>4:09 PM</td>\n",
              "      <td>66521</td>\n",
              "      <td>5.830</td>\n",
              "      <td>False</td>\n",
              "      <td>Human Resources</td>\n",
              "    </tr>\n",
              "    <tr>\n",
              "      <th>626</th>\n",
              "      <td>829</td>\n",
              "      <td>Johnny</td>\n",
              "      <td>Male</td>\n",
              "      <td>1/14/2007</td>\n",
              "      <td>2:54 PM</td>\n",
              "      <td>71383</td>\n",
              "      <td>2.097</td>\n",
              "      <td>True</td>\n",
              "      <td>Human Resources</td>\n",
              "    </tr>\n",
              "    <tr>\n",
              "      <th>169</th>\n",
              "      <td>217</td>\n",
              "      <td>Douglas</td>\n",
              "      <td>Male</td>\n",
              "      <td>9/3/1999</td>\n",
              "      <td>4:00 PM</td>\n",
              "      <td>83341</td>\n",
              "      <td>1.015</td>\n",
              "      <td>True</td>\n",
              "      <td>Client Services</td>\n",
              "    </tr>\n",
              "  </tbody>\n",
              "</table>\n",
              "<p>153 rows × 9 columns</p>\n",
              "</div>"
            ],
            "text/plain": [
              "     index First Name  Gender  Start Date Last Login Time  Salary  Bonus %  \\\n",
              "617    814     Rachel  Female   6/23/2011        12:52 AM   54941    3.221   \n",
              "222    291      Tammy  Female  11/11/1984        10:30 AM  132839   17.463   \n",
              "706    930      Nancy  Female   9/10/2001        11:57 PM   85213    2.386   \n",
              "236    308     Cheryl  Female    9/8/2009        10:16 AM   81308    2.196   \n",
              "516    675      Diane  Female  10/30/2009         6:56 PM  130577   12.791   \n",
              "..     ...        ...     ...         ...             ...     ...      ...   \n",
              "748    981      James    Male   1/15/1993         5:19 PM  148985   19.280   \n",
              "761    997    Russell    Male   5/20/2013        12:39 PM   96914    1.421   \n",
              "97     127    William    Male   9/29/2002         4:09 PM   66521    5.830   \n",
              "626    829     Johnny    Male   1/14/2007         2:54 PM   71383    2.097   \n",
              "169    217    Douglas    Male    9/3/1999         4:00 PM   83341    1.015   \n",
              "\n",
              "    Senior Management             Team  \n",
              "617              True     Distribution  \n",
              "222              True  Client Services  \n",
              "706              True        Marketing  \n",
              "236              True            Legal  \n",
              "516             False        Marketing  \n",
              "..                ...              ...  \n",
              "748             False            Legal  \n",
              "761             False          Product  \n",
              "97              False  Human Resources  \n",
              "626              True  Human Resources  \n",
              "169              True  Client Services  \n",
              "\n",
              "[153 rows x 9 columns]"
            ]
          },
          "execution_count": 15,
          "metadata": {},
          "output_type": "execute_result"
        }
      ],
      "source": []
    },
    {
      "cell_type": "code",
      "source": [
        "count = result.Gender.value_counts()"
      ],
      "metadata": {
        "id": "tPsrb_sZEI0w"
      },
      "id": "tPsrb_sZEI0w",
      "execution_count": 48,
      "outputs": []
    },
    {
      "cell_type": "code",
      "source": [
        "sns.countplot(x=result.Gender)"
      ],
      "metadata": {
        "colab": {
          "base_uri": "https://localhost:8080/",
          "height": 466
        },
        "id": "9OxiDsckEWvv",
        "outputId": "b9a993bb-2ce1-4511-f623-d823d0c45cc1"
      },
      "id": "9OxiDsckEWvv",
      "execution_count": 51,
      "outputs": [
        {
          "output_type": "execute_result",
          "data": {
            "text/plain": [
              "<Axes: xlabel='Gender', ylabel='count'>"
            ]
          },
          "metadata": {},
          "execution_count": 51
        },
        {
          "output_type": "display_data",
          "data": {
            "text/plain": [
              "<Figure size 640x480 with 1 Axes>"
            ],
            "image/png": "[encoded data removed]"
          },
          "metadata": {}
        }
      ]
    },
    {
      "cell_type": "code",
      "execution_count": null,
      "id": "bc725f5c",
      "metadata": {
        "id": "bc725f5c",
        "outputId": "5bb3e650-f2b4-4f56-9f7a-aa14df90ab5f"
      },
      "outputs": [
        {
          "data": {
            "text/plain": [
              "<AxesSubplot:xlabel='Gender', ylabel='count'>"
            ]
          },
          "execution_count": 16,
          "metadata": {},
          "output_type": "execute_result"
        },
        {
          "data": {
            "image/png": "[encoded data removed]",
            "text/plain": [
              "<Figure size 1080x504 with 1 Axes>"
            ]
          },
          "metadata": {
            "needs_background": "light"
          },
          "output_type": "display_data"
        }
      ],
      "source": []
    },
    {
      "cell_type": "code",
      "source": [
        "plt.pie(count.values,labels=count.index,autopct='%1.1f%%')"
      ],
      "metadata": {
        "colab": {
          "base_uri": "https://localhost:8080/",
          "height": 510
        },
        "id": "rUNsCe7XEhx5",
        "outputId": "07d2e1ec-4da4-40fd-9ae7-338e85868a52"
      },
      "id": "rUNsCe7XEhx5",
      "execution_count": 52,
      "outputs": [
        {
          "output_type": "execute_result",
          "data": {
            "text/plain": [
              "([<matplotlib.patches.Wedge at 0x784d91578310>,\n",
              "  <matplotlib.patches.Wedge at 0x784d915781f0>],\n",
              " [Text(-0.05644183823360293, 1.0985510087823924, 'Female'),\n",
              "  Text(0.056441941087370676, -1.0985510034979213, 'Male')],\n",
              " [Text(-0.03078645721832887, 0.5992096411540321, '51.6%'),\n",
              "  Text(0.030786513320384002, -0.5992096382715933, '48.4%')])"
            ]
          },
          "metadata": {},
          "execution_count": 52
        },
        {
          "output_type": "display_data",
          "data": {
            "text/plain": [
              "<Figure size 640x480 with 1 Axes>"
            ],
            "image/png": "[encoded data removed]"
          },
          "metadata": {}
        }
      ]
    },
    {
      "cell_type": "code",
      "execution_count": null,
      "id": "c38ed716",
      "metadata": {
        "id": "c38ed716",
        "outputId": "65a79a2c-2cc4-4dba-89f8-7cbe5c92ab25"
      },
      "outputs": [
        {
          "data": {
            "text/plain": [
              "<AxesSubplot:ylabel='Gender'>"
            ]
          },
          "execution_count": 17,
          "metadata": {},
          "output_type": "execute_result"
        },
        {
          "data": {
            "image/png": "[encoded data removed]",
            "text/plain": [
              "<Figure size 720x720 with 1 Axes>"
            ]
          },
          "metadata": {},
          "output_type": "display_data"
        }
      ],
      "source": []
    },
    {
      "cell_type": "markdown",
      "id": "44f4b61d",
      "metadata": {
        "id": "44f4b61d"
      },
      "source": [
        "## Sampling Distributions and CLT\n",
        "### Take a 10000 samples of sizes 1, 5, 10, 50 from a continuous uniform distribution a=1, b=11. Plot the sampling distribution of the sample mean.\n",
        "### Calculate mean and variance of sampling distribution.\n",
        "### Plot a histogram for the sampling distribution.\n",
        "### Repeat for any distribution of your choice.\n",
        "##### Hint: fix the scale of x-axis to be able to notice the difference."
      ]
    },
    {
      "cell_type": "code",
      "source": [
        "from scipy.stats import uniform"
      ],
      "metadata": {
        "id": "IXYFdzTFLqH5"
      },
      "id": "IXYFdzTFLqH5",
      "execution_count": 67,
      "outputs": []
    },
    {
      "cell_type": "code",
      "source": [
        "def samples_(size, no_samples,low=1,high=11):\n",
        "  samples = []\n",
        "  for i in range(no_samples):\n",
        "      samples.append(np.random.uniform(low=low, high=high, size=size))\n",
        "  return samples\n",
        "\n",
        "def mea_cal(samples):\n",
        "  means_ = []\n",
        "  for i in samples:\n",
        "    means_.append(i.mean())\n",
        "  return means_\n",
        "\n"
      ],
      "metadata": {
        "id": "1NqRJE3fGtWG"
      },
      "id": "1NqRJE3fGtWG",
      "execution_count": 87,
      "outputs": []
    },
    {
      "cell_type": "code",
      "source": [
        "size = 1\n",
        "no_samples = 10000\n",
        "samples_1 = samples_(size,no_samples)"
      ],
      "metadata": {
        "id": "Pix3xVgYFMAl"
      },
      "id": "Pix3xVgYFMAl",
      "execution_count": 88,
      "outputs": []
    },
    {
      "cell_type": "code",
      "source": [
        "means = mea_cal(samples_1)\n",
        "mean_of_1 = np.array(means).mean()\n",
        "var_of_1 = np.array(means).var()\n",
        "mean_of_1"
      ],
      "metadata": {
        "colab": {
          "base_uri": "https://localhost:8080/"
        },
        "id": "_FxDbBGeIc_z",
        "outputId": "bf4600d1-46eb-4dc4-96a2-eea45be96990"
      },
      "id": "_FxDbBGeIc_z",
      "execution_count": 89,
      "outputs": [
        {
          "output_type": "execute_result",
          "data": {
            "text/plain": [
              "6.016479592195172"
            ]
          },
          "metadata": {},
          "execution_count": 89
        }
      ]
    },
    {
      "cell_type": "code",
      "source": [
        "pop_mean,pop_var = uniform.stats(moments='mv',loc=1,scale = 10 )"
      ],
      "metadata": {
        "id": "6_NtkMkDLURG"
      },
      "id": "6_NtkMkDLURG",
      "execution_count": 90,
      "outputs": []
    },
    {
      "cell_type": "code",
      "source": [
        "print(\"population mean: \"+str(pop_mean) +\"Population variance: \"+str(pop_var))\n",
        "print(\"sample mean: \"+str(pop_mean) +\"Sample variance: \"+str(pop_var))\n",
        "sns.histplot(data = means , stat = \"count\",kde = True)"
      ],
      "metadata": {
        "colab": {
          "base_uri": "https://localhost:8080/",
          "height": 482
        },
        "id": "V5tbUWJEYY2F",
        "outputId": "ba9d0ae7-39c8-4fa7-c471-3361551935b5"
      },
      "id": "V5tbUWJEYY2F",
      "execution_count": 91,
      "outputs": [
        {
          "output_type": "stream",
          "name": "stdout",
          "text": [
            "population mean: 6.0Population variance: 8.333333333333332\n",
            "sample mean: 6.0Sample variance: 8.333333333333332\n"
          ]
        },
        {
          "output_type": "execute_result",
          "data": {
            "text/plain": [
              "<Axes: ylabel='Count'>"
            ]
          },
          "metadata": {},
          "execution_count": 91
        },
        {
          "output_type": "display_data",
          "data": {
            "text/plain": [
              "<Figure size 640x480 with 1 Axes>"
            ],
            "image/png": "[encoded data removed]"
          },
          "metadata": {}
        }
      ]
    },
    {
      "cell_type": "code",
      "execution_count": null,
      "id": "d1d8398c",
      "metadata": {
        "id": "d1d8398c",
        "outputId": "7d7758ea-41f8-4b7c-c9e5-f6481d844b0e"
      },
      "outputs": [
        {
          "name": "stdout",
          "output_type": "stream",
          "text": [
            "Population mean: 6 ; Var: 8.333\n",
            "Sample distribution mean: 6.032579894347128 ; Var: 8.39904960088306\n"
          ]
        },
        {
          "data": {
            "text/plain": [
              "<matplotlib.legend.Legend at 0x25352f85cd0>"
            ]
          },
          "execution_count": 19,
          "metadata": {},
          "output_type": "execute_result"
        },
        {
          "data": {
            "image/png": "[encoded data removed]",
            "text/plain": [
              "<Figure size 720x504 with 1 Axes>"
            ]
          },
          "metadata": {
            "needs_background": "light"
          },
          "output_type": "display_data"
        }
      ],
      "source": []
    },
    {
      "cell_type": "code",
      "source": [
        "size = 5\n",
        "no_samples = 10000\n",
        "samples_2 = samples_(size,no_samples)"
      ],
      "metadata": {
        "id": "fzPqaZ95W_XY"
      },
      "id": "fzPqaZ95W_XY",
      "execution_count": 92,
      "outputs": []
    },
    {
      "cell_type": "code",
      "source": [
        "means = mea_cal(samples_2)\n",
        "mean_of_1 = np.array(means).mean()\n",
        "var_of_1 = np.array(means).var()\n"
      ],
      "metadata": {
        "id": "uW9h8yPmW7Zr"
      },
      "id": "uW9h8yPmW7Zr",
      "execution_count": 93,
      "outputs": []
    },
    {
      "cell_type": "code",
      "source": [
        "print(\"population mean: \"+str(pop_mean) +\"Population variance: \"+str(pop_var))\n",
        "print(\"sample mean: \"+str(pop_mean) +\"Sample variance: \"+str(pop_var))\n",
        "sns.histplot(data = means , stat = \"count\",kde = True)"
      ],
      "metadata": {
        "colab": {
          "base_uri": "https://localhost:8080/",
          "height": 482
        },
        "id": "N9VmME7WXST5",
        "outputId": "625ef322-6e7a-4796-91d5-656275c474ab"
      },
      "id": "N9VmME7WXST5",
      "execution_count": 94,
      "outputs": [
        {
          "output_type": "stream",
          "name": "stdout",
          "text": [
            "population mean: 6.0Population variance: 8.333333333333332\n",
            "sample mean: 6.0Sample variance: 8.333333333333332\n"
          ]
        },
        {
          "output_type": "execute_result",
          "data": {
            "text/plain": [
              "<Axes: ylabel='Count'>"
            ]
          },
          "metadata": {},
          "execution_count": 94
        },
        {
          "output_type": "display_data",
          "data": {
            "text/plain": [
              "<Figure size 640x480 with 1 Axes>"
            ],
            "image/png": "[encoded data removed]"
          },
          "metadata": {}
        }
      ]
    },
    {
      "cell_type": "code",
      "source": [
        "size = 10\n",
        "no_samples = 10000\n",
        "samples_2 = samples_(size,no_samples)"
      ],
      "metadata": {
        "id": "GYH-a4dpaAfk"
      },
      "id": "GYH-a4dpaAfk",
      "execution_count": 95,
      "outputs": []
    },
    {
      "cell_type": "code",
      "source": [
        "means = mea_cal(samples_2)\n",
        "mean_of_1 = np.array(means).mean()\n",
        "var_of_1 = np.array(means).var()"
      ],
      "metadata": {
        "id": "aX5P2DkvaBqE"
      },
      "id": "aX5P2DkvaBqE",
      "execution_count": 96,
      "outputs": []
    },
    {
      "cell_type": "code",
      "source": [
        "print(\"population mean: \"+str(pop_mean) +\"Population variance: \"+str(pop_var))\n",
        "print(\"sample mean: \"+str(pop_mean) +\"Sample variance: \"+str(pop_var))\n",
        "sns.histplot(data = means , stat = \"count\",kde = True)"
      ],
      "metadata": {
        "colab": {
          "base_uri": "https://localhost:8080/",
          "height": 482
        },
        "id": "kiXt_l28aGSU",
        "outputId": "c2687eca-cc89-459f-cec5-f641faeb295b"
      },
      "id": "kiXt_l28aGSU",
      "execution_count": 97,
      "outputs": [
        {
          "output_type": "stream",
          "name": "stdout",
          "text": [
            "population mean: 6.0Population variance: 8.333333333333332\n",
            "sample mean: 6.0Sample variance: 8.333333333333332\n"
          ]
        },
        {
          "output_type": "execute_result",
          "data": {
            "text/plain": [
              "<Axes: ylabel='Count'>"
            ]
          },
          "metadata": {},
          "execution_count": 97
        },
        {
          "output_type": "display_data",
          "data": {
            "text/plain": [
              "<Figure size 640x480 with 1 Axes>"
            ],
            "image/png": "[encoded data removed]"
          },
          "metadata": {}
        }
      ]
    },
    {
      "cell_type": "code",
      "execution_count": null,
      "id": "4e9ab02e",
      "metadata": {
        "id": "4e9ab02e",
        "outputId": "0a3e231b-d5d8-4d2d-8042-f1baeb3f8ec4"
      },
      "outputs": [
        {
          "name": "stdout",
          "output_type": "stream",
          "text": [
            "Population mean: 6 ; Var: 8.333\n",
            "Sampling distribution mean: 6.0007346431735105 ; Var: 0.821151149262561\n"
          ]
        },
        {
          "data": {
            "text/plain": [
              "<matplotlib.legend.Legend at 0x253531496a0>"
            ]
          },
          "execution_count": 21,
          "metadata": {},
          "output_type": "execute_result"
        },
        {
          "data": {
            "image/png": "[encoded data removed]",
            "text/plain": [
              "<Figure size 720x504 with 1 Axes>"
            ]
          },
          "metadata": {
            "needs_background": "light"
          },
          "output_type": "display_data"
        }
      ],
      "source": []
    },
    {
      "cell_type": "code",
      "source": [
        "size = 50\n",
        "no_samples = 10000\n",
        "samples_3 = samples_(size,no_samples)"
      ],
      "metadata": {
        "id": "mXZv2daXaMWz"
      },
      "id": "mXZv2daXaMWz",
      "execution_count": 110,
      "outputs": []
    },
    {
      "cell_type": "code",
      "execution_count": null,
      "id": "e2f29c48",
      "metadata": {
        "id": "e2f29c48",
        "outputId": "d641c752-76d0-40e4-bd8d-59997f44c980"
      },
      "outputs": [
        {
          "name": "stdout",
          "output_type": "stream",
          "text": [
            "Population mean: 6 ; Var: 8.333\n",
            "Sampling distribution mean: 5.9963333738444025 ; Var: 0.16501722945036526\n"
          ]
        },
        {
          "data": {
            "text/plain": [
              "<matplotlib.legend.Legend at 0x253530a8430>"
            ]
          },
          "execution_count": 22,
          "metadata": {},
          "output_type": "execute_result"
        },
        {
          "data": {
            "image/png": "[encoded data removed]",
            "text/plain": [
              "<Figure size 720x504 with 1 Axes>"
            ]
          },
          "metadata": {
            "needs_background": "light"
          },
          "output_type": "display_data"
        }
      ],
      "source": []
    },
    {
      "cell_type": "code",
      "source": [
        "means = mea_cal(samples_3)\n",
        "mean_of_1 = np.array(means).mean()\n",
        "var_of_1 = np.array(means).var()"
      ],
      "metadata": {
        "id": "m4l6R9WkaMKZ"
      },
      "id": "m4l6R9WkaMKZ",
      "execution_count": 111,
      "outputs": []
    },
    {
      "cell_type": "code",
      "source": [
        "print(\"population mean: \"+str(pop_mean) +\"Population variance: \"+str(pop_var))\n",
        "print(\"sample mean: \"+str(mean_of_1) +\"Sample variance: \"+str(var_of_1))\n",
        "sns.histplot(data = means , stat = \"count\",kde = True)"
      ],
      "metadata": {
        "colab": {
          "base_uri": "https://localhost:8080/",
          "height": 482
        },
        "id": "AgNrQmaVaL_M",
        "outputId": "76e866d7-a96f-4b5d-bf1f-eeb89db03a1f"
      },
      "id": "AgNrQmaVaL_M",
      "execution_count": 112,
      "outputs": [
        {
          "output_type": "stream",
          "name": "stdout",
          "text": [
            "population mean: 6.0Population variance: 8.333333333333332\n",
            "sample mean: 5.998794080079711Sample variance: 0.16709506217813036\n"
          ]
        },
        {
          "output_type": "execute_result",
          "data": {
            "text/plain": [
              "<Axes: ylabel='Count'>"
            ]
          },
          "metadata": {},
          "execution_count": 112
        },
        {
          "output_type": "display_data",
          "data": {
            "text/plain": [
              "<Figure size 640x480 with 1 Axes>"
            ],
            "image/png": "[encoded data removed]"
          },
          "metadata": {}
        }
      ]
    },
    {
      "cell_type": "code",
      "source": [
        "size = 100\n",
        "no_samples = 10000\n",
        "samples_2 = samples_(size,no_samples)"
      ],
      "metadata": {
        "id": "ptMNCkxAiQGZ"
      },
      "execution_count": 105,
      "outputs": [],
      "id": "ptMNCkxAiQGZ"
    },
    {
      "cell_type": "code",
      "source": [
        "means = mea_cal(samples_2)\n",
        "mean_of_1 = np.array(means).mean()\n",
        "var_of_1 = np.array(means).var()"
      ],
      "metadata": {
        "id": "mcQIUsaliQGg"
      },
      "execution_count": 113,
      "outputs": [],
      "id": "mcQIUsaliQGg"
    },
    {
      "cell_type": "code",
      "source": [
        "print(\"population mean: \"+str(pop_mean) +\"Population variance: \"+str(pop_var))\n",
        "print(\"sample mean: \"+str(mean_of_1) +\"Sample variance: \"+str(var_of_1))\n",
        "sns.histplot(data = means , stat = \"count\",kde = True)"
      ],
      "metadata": {
        "colab": {
          "base_uri": "https://localhost:8080/",
          "height": 482
        },
        "outputId": "2cbe1f96-e220-4d17-bf3a-a80d64886d60",
        "id": "PC-medc7iQGg"
      },
      "execution_count": 114,
      "outputs": [
        {
          "output_type": "stream",
          "name": "stdout",
          "text": [
            "population mean: 6.0Population variance: 8.333333333333332\n",
            "sample mean: 6.002661985535271Sample variance: 0.08161464262374347\n"
          ]
        },
        {
          "output_type": "execute_result",
          "data": {
            "text/plain": [
              "<Axes: ylabel='Count'>"
            ]
          },
          "metadata": {},
          "execution_count": 114
        },
        {
          "output_type": "display_data",
          "data": {
            "text/plain": [
              "<Figure size 640x480 with 1 Axes>"
            ],
            "image/png": "[encoded data removed]"
          },
          "metadata": {}
        }
      ],
      "id": "PC-medc7iQGg"
    },
    {
      "cell_type": "markdown",
      "id": "72d01cbf",
      "metadata": {
        "id": "72d01cbf"
      },
      "source": [
        "### Repeat for any distribution of your choice."
      ]
    },
    {
      "cell_type": "code",
      "execution_count": null,
      "id": "f2df6603",
      "metadata": {
        "id": "f2df6603"
      },
      "outputs": [],
      "source": []
    },
    {
      "cell_type": "code",
      "execution_count": null,
      "id": "58df7e8d",
      "metadata": {
        "id": "58df7e8d"
      },
      "outputs": [],
      "source": []
    },
    {
      "cell_type": "code",
      "execution_count": null,
      "id": "4ce4af7b",
      "metadata": {
        "id": "4ce4af7b"
      },
      "outputs": [],
      "source": []
    },
    {
      "cell_type": "code",
      "execution_count": null,
      "id": "54ad1b92",
      "metadata": {
        "id": "54ad1b92"
      },
      "outputs": [],
      "source": []
    },
    {
      "cell_type": "markdown",
      "id": "017aceae",
      "metadata": {
        "id": "017aceae"
      },
      "source": [
        "## Confidence Interval (CI)\n",
        "### Within how many standard deviations the estimated sample mean should be located for CIs 90%, 92%, 95%, 98%, 99%.   "
      ]
    },
    {
      "cell_type": "code",
      "source": [
        "from scipy.stats import norm\n",
        "from scipy.stats import t"
      ],
      "metadata": {
        "id": "giUlCX65vwzd"
      },
      "id": "giUlCX65vwzd",
      "execution_count": 127,
      "outputs": []
    },
    {
      "cell_type": "code",
      "source": [
        "CL=0.90\n",
        "z_score = norm.ppf(0.5 + CL/2)\n",
        "print(str(CL*100)+ \"%= \"+str(z_score))\n",
        "CL=0.92\n",
        "z_score = norm.ppf(0.5 + CL/2)\n",
        "print(str(CL*100)+ \"%= \"+str(z_score))\n",
        "CL = 0.95\n",
        "z_score = norm.ppf(0.5 + CL/2)\n",
        "print(str(CL*100)+ \"%= \"+str(z_score))\n",
        "CL=0.98\n",
        "z_score = norm.ppf(0.5 + CL/2)\n",
        "print(str(CL*100)+ \"%= \"+str(z_score))\n",
        "CL=0.99\n",
        "z_score = norm.ppf(0.5 + CL/2)\n",
        "print(str(CL*100)+ \"%= \"+str(z_score))"
      ],
      "metadata": {
        "colab": {
          "base_uri": "https://localhost:8080/"
        },
        "id": "1M3XmqtDc6uP",
        "outputId": "24f71f7a-5e75-457b-cba3-a6d363354287"
      },
      "id": "1M3XmqtDc6uP",
      "execution_count": 122,
      "outputs": [
        {
          "output_type": "stream",
          "name": "stdout",
          "text": [
            "90.0%= 1.6448536269514722\n",
            "92.0%= 1.7506860712521692\n",
            "95.0%= 1.959963984540054\n",
            "98.0%= 2.3263478740408408\n",
            "99.0%= 2.5758293035489004\n"
          ]
        }
      ]
    },
    {
      "cell_type": "code",
      "execution_count": null,
      "id": "aa5cfc2d",
      "metadata": {
        "id": "aa5cfc2d",
        "outputId": "2159b456-067a-47ec-dc8c-2d07e57cfbed"
      },
      "outputs": [
        {
          "name": "stdout",
          "output_type": "stream",
          "text": [
            "For CI 90%: within 1.6448536269514722 std.\n",
            "For CI 92%: within 1.7506860712521692 std.\n",
            "For CI 95%: within 1.959963984540054 std.\n",
            "For CI 98%: within 2.3263478740408408 std.\n",
            "For CI 99%: within 2.5758293035489004 std.\n"
          ]
        }
      ],
      "source": []
    },
    {
      "cell_type": "markdown",
      "id": "2fb5db46",
      "metadata": {
        "id": "2fb5db46"
      },
      "source": [
        "### Calculate the expected mean salary with 95% CI for each team for the employees data as follow:\n",
        "##### Using z-value.\n",
        "##### Using t-value.\n",
        "##### Compare the results obtaind from the above calculation and write a conclusion.\n",
        "##### Perform  sns.barplot() and check out the displayed confidence intervals. Compare with your results."
      ]
    },
    {
      "cell_type": "code",
      "source": [
        "df.head()"
      ],
      "metadata": {
        "colab": {
          "base_uri": "https://localhost:8080/",
          "height": 206
        },
        "id": "IqPAwr63ggX7",
        "outputId": "119e426e-7c64-4b38-8af3-a3487d0f7dae"
      },
      "id": "IqPAwr63ggX7",
      "execution_count": 125,
      "outputs": [
        {
          "output_type": "execute_result",
          "data": {
            "text/plain": [
              "  First Name  Gender Start Date Last Login Time  Salary  Bonus %  \\\n",
              "0    Douglas    Male   8/6/1993        12:42 PM   97308    6.945   \n",
              "2      Maria  Female  4/23/1993        11:17 AM  130590   11.858   \n",
              "3      Jerry    Male   3/4/2005         1:00 PM  138705    9.340   \n",
              "4      Larry    Male  1/24/1998         4:47 PM  101004    1.389   \n",
              "5     Dennis    Male  4/18/1987         1:35 AM  115163   10.125   \n",
              "\n",
              "  Senior Management             Team  \n",
              "0              True        Marketing  \n",
              "2             False          Finance  \n",
              "3              True          Finance  \n",
              "4              True  Client Services  \n",
              "5             False            Legal  "
            ],
            "text/html": [
              "\n",
              "  <div id=\"df-656edb9e-2936-41ad-8b7b-8509912af160\" class=\"colab-df-container\">\n",
              "    <div>\n",
              "<style scoped>\n",
              "    .dataframe tbody tr th:only-of-type {\n",
              "        vertical-align: middle;\n",
              "    }\n",
              "\n",
              "    .dataframe tbody tr th {\n",
              "        vertical-align: top;\n",
              "    }\n",
              "\n",
              "    .dataframe thead th {\n",
              "        text-align: right;\n",
              "    }\n",
              "</style>\n",
              "<table border=\"1\" class=\"dataframe\">\n",
              "  <thead>\n",
              "    <tr style=\"text-align: right;\">\n",
              "      <th></th>\n",
              "      <th>First Name</th>\n",
              "      <th>Gender</th>\n",
              "      <th>Start Date</th>\n",
              "      <th>Last Login Time</th>\n",
              "      <th>Salary</th>\n",
              "      <th>Bonus %</th>\n",
              "      <th>Senior Management</th>\n",
              "      <th>Team</th>\n",
              "    </tr>\n",
              "  </thead>\n",
              "  <tbody>\n",
              "    <tr>\n",
              "      <th>0</th>\n",
              "      <td>Douglas</td>\n",
              "      <td>Male</td>\n",
              "      <td>8/6/1993</td>\n",
              "      <td>12:42 PM</td>\n",
              "      <td>97308</td>\n",
              "      <td>6.945</td>\n",
              "      <td>True</td>\n",
              "      <td>Marketing</td>\n",
              "    </tr>\n",
              "    <tr>\n",
              "      <th>2</th>\n",
              "      <td>Maria</td>\n",
              "      <td>Female</td>\n",
              "      <td>4/23/1993</td>\n",
              "      <td>11:17 AM</td>\n",
              "      <td>130590</td>\n",
              "      <td>11.858</td>\n",
              "      <td>False</td>\n",
              "      <td>Finance</td>\n",
              "    </tr>\n",
              "    <tr>\n",
              "      <th>3</th>\n",
              "      <td>Jerry</td>\n",
              "      <td>Male</td>\n",
              "      <td>3/4/2005</td>\n",
              "      <td>1:00 PM</td>\n",
              "      <td>138705</td>\n",
              "      <td>9.340</td>\n",
              "      <td>True</td>\n",
              "      <td>Finance</td>\n",
              "    </tr>\n",
              "    <tr>\n",
              "      <th>4</th>\n",
              "      <td>Larry</td>\n",
              "      <td>Male</td>\n",
              "      <td>1/24/1998</td>\n",
              "      <td>4:47 PM</td>\n",
              "      <td>101004</td>\n",
              "      <td>1.389</td>\n",
              "      <td>True</td>\n",
              "      <td>Client Services</td>\n",
              "    </tr>\n",
              "    <tr>\n",
              "      <th>5</th>\n",
              "      <td>Dennis</td>\n",
              "      <td>Male</td>\n",
              "      <td>4/18/1987</td>\n",
              "      <td>1:35 AM</td>\n",
              "      <td>115163</td>\n",
              "      <td>10.125</td>\n",
              "      <td>False</td>\n",
              "      <td>Legal</td>\n",
              "    </tr>\n",
              "  </tbody>\n",
              "</table>\n",
              "</div>\n",
              "    <div class=\"colab-df-buttons\">\n",
              "\n",
              "  <div class=\"colab-df-container\">\n",
              "    <button class=\"colab-df-convert\" onclick=\"convertToInteractive('df-656edb9e-2936-41ad-8b7b-8509912af160')\"\n",
              "            title=\"Convert this dataframe to an interactive table.\"\n",
              "            style=\"display:none;\">\n",
              "\n",
              "  <svg xmlns=\"http://www.w3.org/2000/svg\" height=\"24px\" viewBox=\"0 -960 960 960\">\n",
              "    <path d=\"M120-120v-720h720v720H120Zm60-500h600v-160H180v160Zm220 220h160v-160H400v160Zm0 220h160v-160H400v160ZM180-400h160v-160H180v160Zm440 0h160v-160H620v160ZM180-180h160v-160H180v160Zm440 0h160v-160H620v160Z\"/>\n",
              "  </svg>\n",
              "    </button>\n",
              "\n",
              "  <style>\n",
              "    .colab-df-container {\n",
              "      display:flex;\n",
              "      gap: 12px;\n",
              "    }\n",
              "\n",
              "    .colab-df-convert {\n",
              "      background-color: #E8F0FE;\n",
              "      border: none;\n",
              "      border-radius: 50%;\n",
              "      cursor: pointer;\n",
              "      display: none;\n",
              "      fill: #1967D2;\n",
              "      height: 32px;\n",
              "      padding: 0 0 0 0;\n",
              "      width: 32px;\n",
              "    }\n",
              "\n",
              "    .colab-df-convert:hover {\n",
              "      background-color: #E2EBFA;\n",
              "      box-shadow: 0px 1px 2px rgba(60, 64, 67, 0.3), 0px 1px 3px 1px rgba(60, 64, 67, 0.15);\n",
              "      fill: #174EA6;\n",
              "    }\n",
              "\n",
              "    .colab-df-buttons div {\n",
              "      margin-bottom: 4px;\n",
              "    }\n",
              "\n",
              "    [theme=dark] .colab-df-convert {\n",
              "      background-color: #3B4455;\n",
              "      fill: #D2E3FC;\n",
              "    }\n",
              "\n",
              "    [theme=dark] .colab-df-convert:hover {\n",
              "      background-color: #434B5C;\n",
              "      box-shadow: 0px 1px 3px 1px rgba(0, 0, 0, 0.15);\n",
              "      filter: drop-shadow(0px 1px 2px rgba(0, 0, 0, 0.3));\n",
              "      fill: #FFFFFF;\n",
              "    }\n",
              "  </style>\n",
              "\n",
              "    <script>\n",
              "      const buttonEl =\n",
              "        document.querySelector('#df-656edb9e-2936-41ad-8b7b-8509912af160 button.colab-df-convert');\n",
              "      buttonEl.style.display =\n",
              "        google.colab.kernel.accessAllowed ? 'block' : 'none';\n",
              "\n",
              "      async function convertToInteractive(key) {\n",
              "        const element = document.querySelector('#df-656edb9e-2936-41ad-8b7b-8509912af160');\n",
              "        const dataTable =\n",
              "          await google.colab.kernel.invokeFunction('convertToInteractive',\n",
              "                                                    [key], {});\n",
              "        if (!dataTable) return;\n",
              "\n",
              "        const docLinkHtml = 'Like what you see? Visit the ' +\n",
              "          '<a target=\"_blank\" href=https://colab.research.google.com/notebooks/data_table.ipynb>data table notebook</a>'\n",
              "          + ' to learn more about interactive tables.';\n",
              "        element.innerHTML = '';\n",
              "        dataTable['output_type'] = 'display_data';\n",
              "        await google.colab.output.renderOutput(dataTable, element);\n",
              "        const docLink = document.createElement('div');\n",
              "        docLink.innerHTML = docLinkHtml;\n",
              "        element.appendChild(docLink);\n",
              "      }\n",
              "    </script>\n",
              "  </div>\n",
              "\n",
              "\n",
              "<div id=\"df-4f23fa38-7c18-46fa-ac60-ca52df5333d7\">\n",
              "  <button class=\"colab-df-quickchart\" onclick=\"quickchart('df-4f23fa38-7c18-46fa-ac60-ca52df5333d7')\"\n",
              "            title=\"Suggest charts\"\n",
              "            style=\"display:none;\">\n",
              "\n",
              "<svg xmlns=\"http://www.w3.org/2000/svg\" height=\"24px\"viewBox=\"0 0 24 24\"\n",
              "     width=\"24px\">\n",
              "    <g>\n",
              "        <path d=\"M19 3H5c-1.1 0-2 .9-2 2v14c0 1.1.9 2 2 2h14c1.1 0 2-.9 2-2V5c0-1.1-.9-2-2-2zM9 17H7v-7h2v7zm4 0h-2V7h2v10zm4 0h-2v-4h2v4z\"/>\n",
              "    </g>\n",
              "</svg>\n",
              "  </button>\n",
              "\n",
              "<style>\n",
              "  .colab-df-quickchart {\n",
              "      --bg-color: #E8F0FE;\n",
              "      --fill-color: #1967D2;\n",
              "      --hover-bg-color: #E2EBFA;\n",
              "      --hover-fill-color: #174EA6;\n",
              "      --disabled-fill-color: #AAA;\n",
              "      --disabled-bg-color: #DDD;\n",
              "  }\n",
              "\n",
              "  [theme=dark] .colab-df-quickchart {\n",
              "      --bg-color: #3B4455;\n",
              "      --fill-color: #D2E3FC;\n",
              "      --hover-bg-color: #434B5C;\n",
              "      --hover-fill-color: #FFFFFF;\n",
              "      --disabled-bg-color: #3B4455;\n",
              "      --disabled-fill-color: #666;\n",
              "  }\n",
              "\n",
              "  .colab-df-quickchart {\n",
              "    background-color: var(--bg-color);\n",
              "    border: none;\n",
              "    border-radius: 50%;\n",
              "    cursor: pointer;\n",
              "    display: none;\n",
              "    fill: var(--fill-color);\n",
              "    height: 32px;\n",
              "    padding: 0;\n",
              "    width: 32px;\n",
              "  }\n",
              "\n",
              "  .colab-df-quickchart:hover {\n",
              "    background-color: var(--hover-bg-color);\n",
              "    box-shadow: 0 1px 2px rgba(60, 64, 67, 0.3), 0 1px 3px 1px rgba(60, 64, 67, 0.15);\n",
              "    fill: var(--button-hover-fill-color);\n",
              "  }\n",
              "\n",
              "  .colab-df-quickchart-complete:disabled,\n",
              "  .colab-df-quickchart-complete:disabled:hover {\n",
              "    background-color: var(--disabled-bg-color);\n",
              "    fill: var(--disabled-fill-color);\n",
              "    box-shadow: none;\n",
              "  }\n",
              "\n",
              "  .colab-df-spinner {\n",
              "    border: 2px solid var(--fill-color);\n",
              "    border-color: transparent;\n",
              "    border-bottom-color: var(--fill-color);\n",
              "    animation:\n",
              "      spin 1s steps(1) infinite;\n",
              "  }\n",
              "\n",
              "  @keyframes spin {\n",
              "    0% {\n",
              "      border-color: transparent;\n",
              "      border-bottom-color: var(--fill-color);\n",
              "      border-left-color: var(--fill-color);\n",
              "    }\n",
              "    20% {\n",
              "      border-color: transparent;\n",
              "      border-left-color: var(--fill-color);\n",
              "      border-top-color: var(--fill-color);\n",
              "    }\n",
              "    30% {\n",
              "      border-color: transparent;\n",
              "      border-left-color: var(--fill-color);\n",
              "      border-top-color: var(--fill-color);\n",
              "      border-right-color: var(--fill-color);\n",
              "    }\n",
              "    40% {\n",
              "      border-color: transparent;\n",
              "      border-right-color: var(--fill-color);\n",
              "      border-top-color: var(--fill-color);\n",
              "    }\n",
              "    60% {\n",
              "      border-color: transparent;\n",
              "      border-right-color: var(--fill-color);\n",
              "    }\n",
              "    80% {\n",
              "      border-color: transparent;\n",
              "      border-right-color: var(--fill-color);\n",
              "      border-bottom-color: var(--fill-color);\n",
              "    }\n",
              "    90% {\n",
              "      border-color: transparent;\n",
              "      border-bottom-color: var(--fill-color);\n",
              "    }\n",
              "  }\n",
              "</style>\n",
              "\n",
              "  <script>\n",
              "    async function quickchart(key) {\n",
              "      const quickchartButtonEl =\n",
              "        document.querySelector('#' + key + ' button');\n",
              "      quickchartButtonEl.disabled = true;  // To prevent multiple clicks.\n",
              "      quickchartButtonEl.classList.add('colab-df-spinner');\n",
              "      try {\n",
              "        const charts = await google.colab.kernel.invokeFunction(\n",
              "            'suggestCharts', [key], {});\n",
              "      } catch (error) {\n",
              "        console.error('Error during call to suggestCharts:', error);\n",
              "      }\n",
              "      quickchartButtonEl.classList.remove('colab-df-spinner');\n",
              "      quickchartButtonEl.classList.add('colab-df-quickchart-complete');\n",
              "    }\n",
              "    (() => {\n",
              "      let quickchartButtonEl =\n",
              "        document.querySelector('#df-4f23fa38-7c18-46fa-ac60-ca52df5333d7 button');\n",
              "      quickchartButtonEl.style.display =\n",
              "        google.colab.kernel.accessAllowed ? 'block' : 'none';\n",
              "    })();\n",
              "  </script>\n",
              "</div>\n",
              "    </div>\n",
              "  </div>\n"
            ]
          },
          "metadata": {},
          "execution_count": 125
        }
      ]
    },
    {
      "cell_type": "code",
      "execution_count": null,
      "id": "d45b359d",
      "metadata": {
        "id": "d45b359d",
        "outputId": "85d0cfe4-5423-454f-c6b7-cb070b5d5228"
      },
      "outputs": [
        {
          "data": {
            "text/html": [
              "<div>\n",
              "<style scoped>\n",
              "    .dataframe tbody tr th:only-of-type {\n",
              "        vertical-align: middle;\n",
              "    }\n",
              "\n",
              "    .dataframe tbody tr th {\n",
              "        vertical-align: top;\n",
              "    }\n",
              "\n",
              "    .dataframe thead th {\n",
              "        text-align: right;\n",
              "    }\n",
              "</style>\n",
              "<table border=\"1\" class=\"dataframe\">\n",
              "  <thead>\n",
              "    <tr style=\"text-align: right;\">\n",
              "      <th></th>\n",
              "      <th>index</th>\n",
              "      <th>First Name</th>\n",
              "      <th>Gender</th>\n",
              "      <th>Start Date</th>\n",
              "      <th>Last Login Time</th>\n",
              "      <th>Salary</th>\n",
              "      <th>Bonus %</th>\n",
              "      <th>Senior Management</th>\n",
              "      <th>Team</th>\n",
              "    </tr>\n",
              "  </thead>\n",
              "  <tbody>\n",
              "    <tr>\n",
              "      <th>0</th>\n",
              "      <td>0</td>\n",
              "      <td>Douglas</td>\n",
              "      <td>Male</td>\n",
              "      <td>8/6/1993</td>\n",
              "      <td>12:42 PM</td>\n",
              "      <td>97308</td>\n",
              "      <td>6.945</td>\n",
              "      <td>True</td>\n",
              "      <td>Marketing</td>\n",
              "    </tr>\n",
              "    <tr>\n",
              "      <th>1</th>\n",
              "      <td>2</td>\n",
              "      <td>Maria</td>\n",
              "      <td>Female</td>\n",
              "      <td>4/23/1993</td>\n",
              "      <td>11:17 AM</td>\n",
              "      <td>130590</td>\n",
              "      <td>11.858</td>\n",
              "      <td>False</td>\n",
              "      <td>Finance</td>\n",
              "    </tr>\n",
              "    <tr>\n",
              "      <th>2</th>\n",
              "      <td>3</td>\n",
              "      <td>Jerry</td>\n",
              "      <td>Male</td>\n",
              "      <td>3/4/2005</td>\n",
              "      <td>1:00 PM</td>\n",
              "      <td>138705</td>\n",
              "      <td>9.340</td>\n",
              "      <td>True</td>\n",
              "      <td>Finance</td>\n",
              "    </tr>\n",
              "    <tr>\n",
              "      <th>3</th>\n",
              "      <td>4</td>\n",
              "      <td>Larry</td>\n",
              "      <td>Male</td>\n",
              "      <td>1/24/1998</td>\n",
              "      <td>4:47 PM</td>\n",
              "      <td>101004</td>\n",
              "      <td>1.389</td>\n",
              "      <td>True</td>\n",
              "      <td>Client Services</td>\n",
              "    </tr>\n",
              "    <tr>\n",
              "      <th>4</th>\n",
              "      <td>5</td>\n",
              "      <td>Dennis</td>\n",
              "      <td>Male</td>\n",
              "      <td>4/18/1987</td>\n",
              "      <td>1:35 AM</td>\n",
              "      <td>115163</td>\n",
              "      <td>10.125</td>\n",
              "      <td>False</td>\n",
              "      <td>Legal</td>\n",
              "    </tr>\n",
              "  </tbody>\n",
              "</table>\n",
              "</div>"
            ],
            "text/plain": [
              "   index First Name  Gender Start Date Last Login Time  Salary  Bonus %  \\\n",
              "0      0    Douglas    Male   8/6/1993        12:42 PM   97308    6.945   \n",
              "1      2      Maria  Female  4/23/1993        11:17 AM  130590   11.858   \n",
              "2      3      Jerry    Male   3/4/2005         1:00 PM  138705    9.340   \n",
              "3      4      Larry    Male  1/24/1998         4:47 PM  101004    1.389   \n",
              "4      5     Dennis    Male  4/18/1987         1:35 AM  115163   10.125   \n",
              "\n",
              "  Senior Management             Team  \n",
              "0              True        Marketing  \n",
              "1             False          Finance  \n",
              "2              True          Finance  \n",
              "3              True  Client Services  \n",
              "4             False            Legal  "
            ]
          },
          "execution_count": 25,
          "metadata": {},
          "output_type": "execute_result"
        }
      ],
      "source": []
    },
    {
      "cell_type": "code",
      "source": [
        "Teams = df.groupby('Team')['Salary'].agg(['mean', 'count', 'std'])"
      ],
      "metadata": {
        "id": "3EpPXjXmghyo"
      },
      "id": "3EpPXjXmghyo",
      "execution_count": 129,
      "outputs": []
    },
    {
      "cell_type": "code",
      "execution_count": null,
      "id": "3d62e7ae",
      "metadata": {
        "id": "3d62e7ae",
        "outputId": "5f9908c3-b9d9-4f51-cca0-3f25f9c2be5f"
      },
      "outputs": [
        {
          "name": "stdout",
          "output_type": "stream",
          "text": [
            "                              mean  count           std\n",
            "Team                                                   \n",
            "Business Development  90520.397727     88  34003.949519\n",
            "Client Services       89336.658824     85  31388.107545\n",
            "Distribution          85849.100000     60  34591.228251\n",
            "Engineering           94369.405063     79  33128.774280\n",
            "Finance               94519.075000     80  34888.408496\n",
            "Human Resources       91145.171053     76  33003.806207\n",
            "Legal                 88066.402985     67  32946.885027\n",
            "Marketing             90764.081081     74  32547.554819\n",
            "Product               86935.963855     83  32005.495537\n",
            "Sales                 91724.819444     72  31003.120063\n"
          ]
        }
      ],
      "source": []
    },
    {
      "cell_type": "code",
      "source": [
        "count = np.array(Teams['count'])\n",
        "std = np.array(Teams['std'])\n",
        "mean = np.array(Teams['mean'])\n",
        "t_value = []\n",
        "z_value = []\n",
        "CI95_Low_t = []\n",
        "CI95_HI_t = []\n",
        "CI95_Low_z = []\n",
        "CI95_HI_z = []\n",
        "for i in range(len(Teams)):\n",
        "   t_value.append(t.ppf(0.975, df = count[i]-1))\n",
        "   z_value.append(norm.ppf(0.975))\n",
        "   margin_of_error_t = t_value[i] * (std[i] / np.sqrt(count[i]))\n",
        "   margin_of_error_z = z_value[i] * (std[i] / np.sqrt(count[i]))\n",
        "   CI95_Low_t.append(mean[i] - margin_of_error_t)\n",
        "   CI95_HI_t.append(mean[i] + margin_of_error_t)\n",
        "   CI95_Low_z.append(mean[i] - margin_of_error_z)\n",
        "   CI95_HI_z.append(mean[i] + margin_of_error_z)\n",
        "\n"
      ],
      "metadata": {
        "id": "HaKMjlHoDnHp"
      },
      "id": "HaKMjlHoDnHp",
      "execution_count": 155,
      "outputs": []
    },
    {
      "cell_type": "code",
      "source": [
        "Teams['CI95_Low_t'] = CI95_Low_t\n",
        "Teams['CI95_HI_t'] = CI95_HI_t\n",
        "Teams['CI95_Low_z'] = CI95_Low_z\n",
        "Teams['CI95_HI_z'] = CI95_HI_z"
      ],
      "metadata": {
        "id": "OXBtLB9CgiWT"
      },
      "id": "OXBtLB9CgiWT",
      "execution_count": 157,
      "outputs": []
    },
    {
      "cell_type": "code",
      "source": [
        "print(Teams)"
      ],
      "metadata": {
        "colab": {
          "base_uri": "https://localhost:8080/"
        },
        "id": "fpPfntzWBpw9",
        "outputId": "eb67eedc-6e1b-4571-a462-02206ca34514"
      },
      "id": "fpPfntzWBpw9",
      "execution_count": 158,
      "outputs": [
        {
          "output_type": "stream",
          "name": "stdout",
          "text": [
            "                              mean  count           std    CI95_Low_t  \\\n",
            "Team                                                                    \n",
            "Business Development  90520.397727     88  34003.949519  83315.649244   \n",
            "Client Services       89336.658824     85  31388.107545  82566.400881   \n",
            "Distribution          85849.100000     60  34591.228251  76913.238207   \n",
            "Engineering           94369.405063     79  33128.774280  86948.963963   \n",
            "Finance               94519.075000     80  34888.408496  86755.040016   \n",
            "Human Resources       91145.171053     76  33003.806207  83603.478268   \n",
            "Legal                 88066.402985     67  32946.885027  80030.026280   \n",
            "Marketing             90764.081081     74  32547.554819  83223.424202   \n",
            "Product               86935.963855     83  32005.495537  79947.369334   \n",
            "Sales                 91724.819444     72  31003.120063  84439.443404   \n",
            "\n",
            "                          CI95_HI_t    CI95_Low_z      CI95_HI_z  \n",
            "Team                                                              \n",
            "Business Development   97725.146211  83415.855209   97624.940246  \n",
            "Client Services        96106.916766  82663.925630   96009.392017  \n",
            "Distribution           94784.961793  77096.472440   94601.727560  \n",
            "Engineering           101789.846164  87064.073812  101674.736314  \n",
            "Finance               102283.109984  86873.955887  102164.194113  \n",
            "Human Resources        98686.863837  83725.146827   98565.195278  \n",
            "Legal                  96102.779690  80177.346782   95955.459188  \n",
            "Marketing              98304.737960  83348.407615   98179.754547  \n",
            "Product                93924.558376  80050.493695   93821.434016  \n",
            "Sales                  99010.195485  84563.595667   98886.043221  \n"
          ]
        }
      ]
    },
    {
      "cell_type": "code",
      "execution_count": null,
      "id": "ec823aa5",
      "metadata": {
        "id": "ec823aa5",
        "outputId": "2d68d738-4127-4935-a27a-d95509d3587e"
      },
      "outputs": [
        {
          "name": "stdout",
          "output_type": "stream",
          "text": [
            "                              mean  count           std    CI95_Low_z  \\\n",
            "Team                                                                    \n",
            "Business Development  90520.397727     88  34003.949519  83415.724659   \n",
            "Client Services       89336.658824     85  31388.107545  82663.803014   \n",
            "Distribution          85849.100000     60  34591.228251  77096.311605   \n",
            "Engineering           94369.405063     79  33128.774280  87063.939573   \n",
            "Finance               94519.075000     80  34888.408496  86873.815404   \n",
            "Human Resources       91145.171053     76  33003.806207  83725.010480   \n",
            "Legal                 88066.402985     67  32946.885027  80177.201816   \n",
            "Marketing             90764.081081     74  32547.554819  83348.271348   \n",
            "Product               86935.963855     83  32005.495537  80050.367170   \n",
            "Sales                 91724.819444     72  31003.120063  84563.464076   \n",
            "\n",
            "                        CI95_Low_t      CI95_HI_z      CI95_HI_t  \n",
            "Team                                                              \n",
            "Business Development  83315.649244   97625.070796   97725.146211  \n",
            "Client Services       82566.400881   96009.514633   96106.916766  \n",
            "Distribution          76913.238207   94601.888395   94784.961793  \n",
            "Engineering           86948.963963  101674.870554  101789.846164  \n",
            "Finance               86755.040016  102164.334596  102283.109984  \n",
            "Human Resources       83603.478268   98565.331626   98686.863837  \n",
            "Legal                 80030.026280   95955.604154   96102.779690  \n",
            "Marketing             83223.424202   98179.890814   98304.737960  \n",
            "Product               79947.369334   93821.560541   93924.558376  \n",
            "Sales                 84439.443404   98886.174813   99010.195485  \n"
          ]
        }
      ],
      "source": []
    },
    {
      "cell_type": "code",
      "source": [
        "Teams"
      ],
      "metadata": {
        "colab": {
          "base_uri": "https://localhost:8080/",
          "height": 394
        },
        "id": "liNVlB5mgi_v",
        "outputId": "017439e6-0965-4f36-bb87-a41aa133db56"
      },
      "id": "liNVlB5mgi_v",
      "execution_count": 164,
      "outputs": [
        {
          "output_type": "execute_result",
          "data": {
            "text/plain": [
              "                              mean  count           std    CI95_Low_t  \\\n",
              "Team                                                                    \n",
              "Business Development  90520.397727     88  34003.949519  83315.649244   \n",
              "Client Services       89336.658824     85  31388.107545  82566.400881   \n",
              "Distribution          85849.100000     60  34591.228251  76913.238207   \n",
              "Engineering           94369.405063     79  33128.774280  86948.963963   \n",
              "Finance               94519.075000     80  34888.408496  86755.040016   \n",
              "Human Resources       91145.171053     76  33003.806207  83603.478268   \n",
              "Legal                 88066.402985     67  32946.885027  80030.026280   \n",
              "Marketing             90764.081081     74  32547.554819  83223.424202   \n",
              "Product               86935.963855     83  32005.495537  79947.369334   \n",
              "Sales                 91724.819444     72  31003.120063  84439.443404   \n",
              "\n",
              "                          CI95_HI_t    CI95_Low_z      CI95_HI_z  \n",
              "Team                                                              \n",
              "Business Development   97725.146211  83415.855209   97624.940246  \n",
              "Client Services        96106.916766  82663.925630   96009.392017  \n",
              "Distribution           94784.961793  77096.472440   94601.727560  \n",
              "Engineering           101789.846164  87064.073812  101674.736314  \n",
              "Finance               102283.109984  86873.955887  102164.194113  \n",
              "Human Resources        98686.863837  83725.146827   98565.195278  \n",
              "Legal                  96102.779690  80177.346782   95955.459188  \n",
              "Marketing              98304.737960  83348.407615   98179.754547  \n",
              "Product                93924.558376  80050.493695   93821.434016  \n",
              "Sales                  99010.195485  84563.595667   98886.043221  "
            ],
            "text/html": [
              "\n",
              "  <div id=\"df-1ac35d3d-803a-410c-b570-2b3f9ac003c6\" class=\"colab-df-container\">\n",
              "    <div>\n",
              "<style scoped>\n",
              "    .dataframe tbody tr th:only-of-type {\n",
              "        vertical-align: middle;\n",
              "    }\n",
              "\n",
              "    .dataframe tbody tr th {\n",
              "        vertical-align: top;\n",
              "    }\n",
              "\n",
              "    .dataframe thead th {\n",
              "        text-align: right;\n",
              "    }\n",
              "</style>\n",
              "<table border=\"1\" class=\"dataframe\">\n",
              "  <thead>\n",
              "    <tr style=\"text-align: right;\">\n",
              "      <th></th>\n",
              "      <th>mean</th>\n",
              "      <th>count</th>\n",
              "      <th>std</th>\n",
              "      <th>CI95_Low_t</th>\n",
              "      <th>CI95_HI_t</th>\n",
              "      <th>CI95_Low_z</th>\n",
              "      <th>CI95_HI_z</th>\n",
              "    </tr>\n",
              "    <tr>\n",
              "      <th>Team</th>\n",
              "      <th></th>\n",
              "      <th></th>\n",
              "      <th></th>\n",
              "      <th></th>\n",
              "      <th></th>\n",
              "      <th></th>\n",
              "      <th></th>\n",
              "    </tr>\n",
              "  </thead>\n",
              "  <tbody>\n",
              "    <tr>\n",
              "      <th>Business Development</th>\n",
              "      <td>90520.397727</td>\n",
              "      <td>88</td>\n",
              "      <td>34003.949519</td>\n",
              "      <td>83315.649244</td>\n",
              "      <td>97725.146211</td>\n",
              "      <td>83415.855209</td>\n",
              "      <td>97624.940246</td>\n",
              "    </tr>\n",
              "    <tr>\n",
              "      <th>Client Services</th>\n",
              "      <td>89336.658824</td>\n",
              "      <td>85</td>\n",
              "      <td>31388.107545</td>\n",
              "      <td>82566.400881</td>\n",
              "      <td>96106.916766</td>\n",
              "      <td>82663.925630</td>\n",
              "      <td>96009.392017</td>\n",
              "    </tr>\n",
              "    <tr>\n",
              "      <th>Distribution</th>\n",
              "      <td>85849.100000</td>\n",
              "      <td>60</td>\n",
              "      <td>34591.228251</td>\n",
              "      <td>76913.238207</td>\n",
              "      <td>94784.961793</td>\n",
              "      <td>77096.472440</td>\n",
              "      <td>94601.727560</td>\n",
              "    </tr>\n",
              "    <tr>\n",
              "      <th>Engineering</th>\n",
              "      <td>94369.405063</td>\n",
              "      <td>79</td>\n",
              "      <td>33128.774280</td>\n",
              "      <td>86948.963963</td>\n",
              "      <td>101789.846164</td>\n",
              "      <td>87064.073812</td>\n",
              "      <td>101674.736314</td>\n",
              "    </tr>\n",
              "    <tr>\n",
              "      <th>Finance</th>\n",
              "      <td>94519.075000</td>\n",
              "      <td>80</td>\n",
              "      <td>34888.408496</td>\n",
              "      <td>86755.040016</td>\n",
              "      <td>102283.109984</td>\n",
              "      <td>86873.955887</td>\n",
              "      <td>102164.194113</td>\n",
              "    </tr>\n",
              "    <tr>\n",
              "      <th>Human Resources</th>\n",
              "      <td>91145.171053</td>\n",
              "      <td>76</td>\n",
              "      <td>33003.806207</td>\n",
              "      <td>83603.478268</td>\n",
              "      <td>98686.863837</td>\n",
              "      <td>83725.146827</td>\n",
              "      <td>98565.195278</td>\n",
              "    </tr>\n",
              "    <tr>\n",
              "      <th>Legal</th>\n",
              "      <td>88066.402985</td>\n",
              "      <td>67</td>\n",
              "      <td>32946.885027</td>\n",
              "      <td>80030.026280</td>\n",
              "      <td>96102.779690</td>\n",
              "      <td>80177.346782</td>\n",
              "      <td>95955.459188</td>\n",
              "    </tr>\n",
              "    <tr>\n",
              "      <th>Marketing</th>\n",
              "      <td>90764.081081</td>\n",
              "      <td>74</td>\n",
              "      <td>32547.554819</td>\n",
              "      <td>83223.424202</td>\n",
              "      <td>98304.737960</td>\n",
              "      <td>83348.407615</td>\n",
              "      <td>98179.754547</td>\n",
              "    </tr>\n",
              "    <tr>\n",
              "      <th>Product</th>\n",
              "      <td>86935.963855</td>\n",
              "      <td>83</td>\n",
              "      <td>32005.495537</td>\n",
              "      <td>79947.369334</td>\n",
              "      <td>93924.558376</td>\n",
              "      <td>80050.493695</td>\n",
              "      <td>93821.434016</td>\n",
              "    </tr>\n",
              "    <tr>\n",
              "      <th>Sales</th>\n",
              "      <td>91724.819444</td>\n",
              "      <td>72</td>\n",
              "      <td>31003.120063</td>\n",
              "      <td>84439.443404</td>\n",
              "      <td>99010.195485</td>\n",
              "      <td>84563.595667</td>\n",
              "      <td>98886.043221</td>\n",
              "    </tr>\n",
              "  </tbody>\n",
              "</table>\n",
              "</div>\n",
              "    <div class=\"colab-df-buttons\">\n",
              "\n",
              "  <div class=\"colab-df-container\">\n",
              "    <button class=\"colab-df-convert\" onclick=\"convertToInteractive('df-1ac35d3d-803a-410c-b570-2b3f9ac003c6')\"\n",
              "            title=\"Convert this dataframe to an interactive table.\"\n",
              "            style=\"display:none;\">\n",
              "\n",
              "  <svg xmlns=\"http://www.w3.org/2000/svg\" height=\"24px\" viewBox=\"0 -960 960 960\">\n",
              "    <path d=\"M120-120v-720h720v720H120Zm60-500h600v-160H180v160Zm220 220h160v-160H400v160Zm0 220h160v-160H400v160ZM180-400h160v-160H180v160Zm440 0h160v-160H620v160ZM180-180h160v-160H180v160Zm440 0h160v-160H620v160Z\"/>\n",
              "  </svg>\n",
              "    </button>\n",
              "\n",
              "  <style>\n",
              "    .colab-df-container {\n",
              "      display:flex;\n",
              "      gap: 12px;\n",
              "    }\n",
              "\n",
              "    .colab-df-convert {\n",
              "      background-color: #E8F0FE;\n",
              "      border: none;\n",
              "      border-radius: 50%;\n",
              "      cursor: pointer;\n",
              "      display: none;\n",
              "      fill: #1967D2;\n",
              "      height: 32px;\n",
              "      padding: 0 0 0 0;\n",
              "      width: 32px;\n",
              "    }\n",
              "\n",
              "    .colab-df-convert:hover {\n",
              "      background-color: #E2EBFA;\n",
              "      box-shadow: 0px 1px 2px rgba(60, 64, 67, 0.3), 0px 1px 3px 1px rgba(60, 64, 67, 0.15);\n",
              "      fill: #174EA6;\n",
              "    }\n",
              "\n",
              "    .colab-df-buttons div {\n",
              "      margin-bottom: 4px;\n",
              "    }\n",
              "\n",
              "    [theme=dark] .colab-df-convert {\n",
              "      background-color: #3B4455;\n",
              "      fill: #D2E3FC;\n",
              "    }\n",
              "\n",
              "    [theme=dark] .colab-df-convert:hover {\n",
              "      background-color: #434B5C;\n",
              "      box-shadow: 0px 1px 3px 1px rgba(0, 0, 0, 0.15);\n",
              "      filter: drop-shadow(0px 1px 2px rgba(0, 0, 0, 0.3));\n",
              "      fill: #FFFFFF;\n",
              "    }\n",
              "  </style>\n",
              "\n",
              "    <script>\n",
              "      const buttonEl =\n",
              "        document.querySelector('#df-1ac35d3d-803a-410c-b570-2b3f9ac003c6 button.colab-df-convert');\n",
              "      buttonEl.style.display =\n",
              "        google.colab.kernel.accessAllowed ? 'block' : 'none';\n",
              "\n",
              "      async function convertToInteractive(key) {\n",
              "        const element = document.querySelector('#df-1ac35d3d-803a-410c-b570-2b3f9ac003c6');\n",
              "        const dataTable =\n",
              "          await google.colab.kernel.invokeFunction('convertToInteractive',\n",
              "                                                    [key], {});\n",
              "        if (!dataTable) return;\n",
              "\n",
              "        const docLinkHtml = 'Like what you see? Visit the ' +\n",
              "          '<a target=\"_blank\" href=https://colab.research.google.com/notebooks/data_table.ipynb>data table notebook</a>'\n",
              "          + ' to learn more about interactive tables.';\n",
              "        element.innerHTML = '';\n",
              "        dataTable['output_type'] = 'display_data';\n",
              "        await google.colab.output.renderOutput(dataTable, element);\n",
              "        const docLink = document.createElement('div');\n",
              "        docLink.innerHTML = docLinkHtml;\n",
              "        element.appendChild(docLink);\n",
              "      }\n",
              "    </script>\n",
              "  </div>\n",
              "\n",
              "\n",
              "<div id=\"df-c065e140-842d-49d8-a6d1-1b294d387f0f\">\n",
              "  <button class=\"colab-df-quickchart\" onclick=\"quickchart('df-c065e140-842d-49d8-a6d1-1b294d387f0f')\"\n",
              "            title=\"Suggest charts\"\n",
              "            style=\"display:none;\">\n",
              "\n",
              "<svg xmlns=\"http://www.w3.org/2000/svg\" height=\"24px\"viewBox=\"0 0 24 24\"\n",
              "     width=\"24px\">\n",
              "    <g>\n",
              "        <path d=\"M19 3H5c-1.1 0-2 .9-2 2v14c0 1.1.9 2 2 2h14c1.1 0 2-.9 2-2V5c0-1.1-.9-2-2-2zM9 17H7v-7h2v7zm4 0h-2V7h2v10zm4 0h-2v-4h2v4z\"/>\n",
              "    </g>\n",
              "</svg>\n",
              "  </button>\n",
              "\n",
              "<style>\n",
              "  .colab-df-quickchart {\n",
              "      --bg-color: #E8F0FE;\n",
              "      --fill-color: #1967D2;\n",
              "      --hover-bg-color: #E2EBFA;\n",
              "      --hover-fill-color: #174EA6;\n",
              "      --disabled-fill-color: #AAA;\n",
              "      --disabled-bg-color: #DDD;\n",
              "  }\n",
              "\n",
              "  [theme=dark] .colab-df-quickchart {\n",
              "      --bg-color: #3B4455;\n",
              "      --fill-color: #D2E3FC;\n",
              "      --hover-bg-color: #434B5C;\n",
              "      --hover-fill-color: #FFFFFF;\n",
              "      --disabled-bg-color: #3B4455;\n",
              "      --disabled-fill-color: #666;\n",
              "  }\n",
              "\n",
              "  .colab-df-quickchart {\n",
              "    background-color: var(--bg-color);\n",
              "    border: none;\n",
              "    border-radius: 50%;\n",
              "    cursor: pointer;\n",
              "    display: none;\n",
              "    fill: var(--fill-color);\n",
              "    height: 32px;\n",
              "    padding: 0;\n",
              "    width: 32px;\n",
              "  }\n",
              "\n",
              "  .colab-df-quickchart:hover {\n",
              "    background-color: var(--hover-bg-color);\n",
              "    box-shadow: 0 1px 2px rgba(60, 64, 67, 0.3), 0 1px 3px 1px rgba(60, 64, 67, 0.15);\n",
              "    fill: var(--button-hover-fill-color);\n",
              "  }\n",
              "\n",
              "  .colab-df-quickchart-complete:disabled,\n",
              "  .colab-df-quickchart-complete:disabled:hover {\n",
              "    background-color: var(--disabled-bg-color);\n",
              "    fill: var(--disabled-fill-color);\n",
              "    box-shadow: none;\n",
              "  }\n",
              "\n",
              "  .colab-df-spinner {\n",
              "    border: 2px solid var(--fill-color);\n",
              "    border-color: transparent;\n",
              "    border-bottom-color: var(--fill-color);\n",
              "    animation:\n",
              "      spin 1s steps(1) infinite;\n",
              "  }\n",
              "\n",
              "  @keyframes spin {\n",
              "    0% {\n",
              "      border-color: transparent;\n",
              "      border-bottom-color: var(--fill-color);\n",
              "      border-left-color: var(--fill-color);\n",
              "    }\n",
              "    20% {\n",
              "      border-color: transparent;\n",
              "      border-left-color: var(--fill-color);\n",
              "      border-top-color: var(--fill-color);\n",
              "    }\n",
              "    30% {\n",
              "      border-color: transparent;\n",
              "      border-left-color: var(--fill-color);\n",
              "      border-top-color: var(--fill-color);\n",
              "      border-right-color: var(--fill-color);\n",
              "    }\n",
              "    40% {\n",
              "      border-color: transparent;\n",
              "      border-right-color: var(--fill-color);\n",
              "      border-top-color: var(--fill-color);\n",
              "    }\n",
              "    60% {\n",
              "      border-color: transparent;\n",
              "      border-right-color: var(--fill-color);\n",
              "    }\n",
              "    80% {\n",
              "      border-color: transparent;\n",
              "      border-right-color: var(--fill-color);\n",
              "      border-bottom-color: var(--fill-color);\n",
              "    }\n",
              "    90% {\n",
              "      border-color: transparent;\n",
              "      border-bottom-color: var(--fill-color);\n",
              "    }\n",
              "  }\n",
              "</style>\n",
              "\n",
              "  <script>\n",
              "    async function quickchart(key) {\n",
              "      const quickchartButtonEl =\n",
              "        document.querySelector('#' + key + ' button');\n",
              "      quickchartButtonEl.disabled = true;  // To prevent multiple clicks.\n",
              "      quickchartButtonEl.classList.add('colab-df-spinner');\n",
              "      try {\n",
              "        const charts = await google.colab.kernel.invokeFunction(\n",
              "            'suggestCharts', [key], {});\n",
              "      } catch (error) {\n",
              "        console.error('Error during call to suggestCharts:', error);\n",
              "      }\n",
              "      quickchartButtonEl.classList.remove('colab-df-spinner');\n",
              "      quickchartButtonEl.classList.add('colab-df-quickchart-complete');\n",
              "    }\n",
              "    (() => {\n",
              "      let quickchartButtonEl =\n",
              "        document.querySelector('#df-c065e140-842d-49d8-a6d1-1b294d387f0f button');\n",
              "      quickchartButtonEl.style.display =\n",
              "        google.colab.kernel.accessAllowed ? 'block' : 'none';\n",
              "    })();\n",
              "  </script>\n",
              "</div>\n",
              "    </div>\n",
              "  </div>\n"
            ]
          },
          "metadata": {},
          "execution_count": 164
        }
      ]
    },
    {
      "cell_type": "code",
      "source": [
        "plt.figure(figsize=(20,10))\n",
        "sns.barplot(x = df.Team ,y=df.Salary)"
      ],
      "metadata": {
        "colab": {
          "base_uri": "https://localhost:8080/",
          "height": 748
        },
        "id": "DZiYAT6wLc_i",
        "outputId": "c0a271e0-3f85-4559-b3b2-af52e94ce9c3"
      },
      "id": "DZiYAT6wLc_i",
      "execution_count": 174,
      "outputs": [
        {
          "output_type": "execute_result",
          "data": {
            "text/plain": [
              "<Axes: xlabel='Team', ylabel='Salary'>"
            ]
          },
          "metadata": {},
          "execution_count": 174
        },
        {
          "output_type": "display_data",
          "data": {
            "text/plain": [
              "<Figure size 2000x1000 with 1 Axes>"
            ],
            "image/png": "[encoded data removed]"
          },
          "metadata": {}
        }
      ]
    },
    {
      "cell_type": "code",
      "execution_count": null,
      "id": "af8ea1a1",
      "metadata": {
        "id": "af8ea1a1",
        "outputId": "ef2d40b9-207e-4bf7-e01d-1e9ab40b44b8"
      },
      "outputs": [
        {
          "data": {
            "text/plain": [
              "<AxesSubplot:xlabel='Team', ylabel='Salary'>"
            ]
          },
          "execution_count": 29,
          "metadata": {},
          "output_type": "execute_result"
        },
        {
          "data": {
            "image/png": "[encoded data removed]",
            "text/plain": [
              "<Figure size 1440x720 with 1 Axes>"
            ]
          },
          "metadata": {
            "needs_background": "light"
          },
          "output_type": "display_data"
        }
      ],
      "source": []
    },
    {
      "cell_type": "markdown",
      "id": "bf6db06a",
      "metadata": {
        "id": "bf6db06a"
      },
      "source": [
        "## Hypothesis Testing"
      ]
    },
    {
      "cell_type": "markdown",
      "id": "d8c24a16",
      "metadata": {
        "id": "d8c24a16"
      },
      "source": [
        "### Plot a histogram of salary."
      ]
    },
    {
      "cell_type": "code",
      "source": [
        "plt.figure(figsize=(5,2))\n",
        "sns.histplot(df.Salary)"
      ],
      "metadata": {
        "colab": {
          "base_uri": "https://localhost:8080/",
          "height": 255
        },
        "id": "4Pq_w7E0M18S",
        "outputId": "01e0462e-9afd-45dd-9e52-307e2a4f601c"
      },
      "id": "4Pq_w7E0M18S",
      "execution_count": 179,
      "outputs": [
        {
          "output_type": "execute_result",
          "data": {
            "text/plain": [
              "<Axes: xlabel='Salary', ylabel='Count'>"
            ]
          },
          "metadata": {},
          "execution_count": 179
        },
        {
          "output_type": "display_data",
          "data": {
            "text/plain": [
              "<Figure size 500x200 with 1 Axes>"
            ],
            "image/png": "[encoded data removed]"
          },
          "metadata": {}
        }
      ]
    },
    {
      "cell_type": "code",
      "execution_count": null,
      "id": "8cf50603",
      "metadata": {
        "id": "8cf50603",
        "outputId": "3056c219-a21f-44bd-c3eb-8534c201a060"
      },
      "outputs": [
        {
          "data": {
            "text/plain": [
              "<AxesSubplot:xlabel='Salary', ylabel='Count'>"
            ]
          },
          "execution_count": 30,
          "metadata": {},
          "output_type": "execute_result"
        },
        {
          "data": {
            "image/png": "[encoded data removed]",
            "text/plain": [
              "<Figure size 432x288 with 1 Axes>"
            ]
          },
          "metadata": {
            "needs_background": "light"
          },
          "output_type": "display_data"
        }
      ],
      "source": []
    },
    {
      "cell_type": "markdown",
      "id": "60a03f24",
      "metadata": {
        "id": "60a03f24"
      },
      "source": [
        "### Find mean, standard deviation, and count of salary."
      ]
    },
    {
      "cell_type": "code",
      "source": [
        "print(\"mean: \"+str(np.array(df['Salary']).mean()))\n",
        "print(\"std: \"+str(np.array(df['Salary']).std()))\n",
        "print(\"var: \"+str(np.array(df['Salary']).var()))\n",
        "print(\"count: \"+str(len(df)))"
      ],
      "metadata": {
        "colab": {
          "base_uri": "https://localhost:8080/"
        },
        "id": "ItjIw0ujNPtx",
        "outputId": "eed0cbb6-86d3-4afd-aed2-e2360e3b9714"
      },
      "id": "ItjIw0ujNPtx",
      "execution_count": 184,
      "outputs": [
        {
          "output_type": "stream",
          "name": "stdout",
          "text": [
            "mean: 90433.19633507854\n",
            "std: 32843.14995089622\n",
            "var: 1078672498.6970546\n",
            "count: 764\n"
          ]
        }
      ]
    },
    {
      "cell_type": "code",
      "execution_count": null,
      "id": "b6f1461b",
      "metadata": {
        "id": "b6f1461b",
        "outputId": "afc7aec0-8b55-46ee-cbbf-b69154b9bcc3"
      },
      "outputs": [
        {
          "name": "stdout",
          "output_type": "stream",
          "text": [
            "mean: 90433.19633507854\n",
            "std.: 32864.665282356\n",
            "count: 764\n"
          ]
        }
      ],
      "source": []
    },
    {
      "cell_type": "markdown",
      "id": "ec55c23f",
      "metadata": {
        "id": "ec55c23f"
      },
      "source": [
        "### For all of the following Hypothesis Tests you must:\n",
        "#### Define your null and alternate Hypothesis.\n",
        "#### Perform z-test and t-test. (this is only used for comparison. However, you should know z-test is used for proportion and t-test is used for mean).\n",
        "#### State which test you need (two tailed / one tailed - right or left )\n",
        "#### The calculation must be performed using the Hypothesis test equations.\n",
        "#### i.e., calculate the standard error then calculate the z or t values then calculate p-value once using z-distribution and once using t-distribution.\n",
        "#### Repeat using statsmodels.stats.weightstats.ztest() and scipy.stats.ttest_1samp() to confirm the obtained results.\n",
        "#### Write down your conclusion (Reject H0 or not)."
      ]
    },
    {
      "cell_type": "markdown",
      "id": "3da9fb4f",
      "metadata": {
        "id": "3da9fb4f"
      },
      "source": [
        "### The claim is that the mean salary is 90000. Check if the data supports this claim or not. i.e., reject this claim or not."
      ]
    },
    {
      "cell_type": "markdown",
      "source": [
        "### Fail to reject the null hypothesis in this case\n",
        "\n",
        "> Indented block\n",
        "\n"
      ],
      "metadata": {
        "id": "kNaN8VYTaWPP"
      },
      "id": "kNaN8VYTaWPP"
    },
    {
      "cell_type": "code",
      "source": [
        "mean = df['Salary'].mean()\n",
        "Z_value = (mean-90000)/(df['Salary'].std()/np.sqrt(len(df)))\n",
        "t_value = (mean-90000)/(df['Salary'].std()/np.sqrt(len(df)-1))\n",
        "print(\"sample mean: \" + str(df['Salary'].mean()))\n",
        "print(\"t or z value: \"+str(t_value))\n",
        "p_value = 2 * (1 - norm.cdf(abs(Z_value)))\n",
        "print(\"p_value: \"+str(p_value))\n",
        "p_value = 2*(1-t.cdf(t_value,df = len(df['Salary'])-1))\n",
        "print(\"p_value: \"+str(p_value))"
      ],
      "metadata": {
        "colab": {
          "base_uri": "https://localhost:8080/"
        },
        "id": "29Q7YT09QHrV",
        "outputId": "c1b5cbbc-d049-4917-edbf-e66d827d0021"
      },
      "id": "29Q7YT09QHrV",
      "execution_count": 199,
      "outputs": [
        {
          "output_type": "stream",
          "name": "stdout",
          "text": [
            "sample mean: 90433.19633507854\n",
            "t or z value: 0.36409761092829857\n",
            "p_value: 0.7156070241477364\n",
            "p_value: 0.7158859929702373\n"
          ]
        }
      ]
    },
    {
      "cell_type": "code",
      "execution_count": 205,
      "id": "33d5373c",
      "metadata": {
        "id": "33d5373c",
        "outputId": "0deb03e3-df43-443b-927e-ff47d3e606d7",
        "colab": {
          "base_uri": "https://localhost:8080/"
        }
      },
      "outputs": [
        {
          "output_type": "stream",
          "name": "stdout",
          "text": [
            "t-statistic: 0.3643361288778422\n",
            "P-value: 0.7157079691365718\n"
          ]
        }
      ],
      "source": [
        "# Using Hypothesis test equations\n",
        "from scipy.stats import ttest_1samp\n",
        "t_statistic, p_value = ttest_1samp(df['Salary'], 90000)\n",
        "print(f\"t-statistic: {t_statistic}\")\n",
        "print(f\"P-value: {p_value}\")\n",
        "#Fail to reject the null hypothesis"
      ]
    },
    {
      "cell_type": "code",
      "source": [
        "# Using statsmodels.stats.weightstats.ztest()\n",
        "from statsmodels.stats.weightstats import ztest\n",
        "z_statistic, p_value = ztest(df['Salary'],value = 90000)\n",
        "print(f\"Z-statistic: {z_statistic}\")\n",
        "print(f\"P-value: {p_value}\")"
      ],
      "metadata": {
        "colab": {
          "base_uri": "https://localhost:8080/"
        },
        "id": "0jpmSO1EZ1vC",
        "outputId": "01c60ca5-6ed2-48e7-ec3d-a2dae5590e77"
      },
      "id": "0jpmSO1EZ1vC",
      "execution_count": 204,
      "outputs": [
        {
          "output_type": "stream",
          "name": "stdout",
          "text": [
            "Z-statistic: 0.3643361288778422\n",
            "P-value: 0.7156070241477364\n"
          ]
        }
      ]
    },
    {
      "cell_type": "code",
      "execution_count": null,
      "id": "532f4773",
      "metadata": {
        "id": "532f4773",
        "outputId": "a136ecd5-5a3a-485e-ace8-3d7b15ed2c56"
      },
      "outputs": [
        {
          "name": "stdout",
          "output_type": "stream",
          "text": [
            "z-value: 0.3643361288778422\n",
            "p-value using z-dist: 0.7156070241477364\n"
          ]
        }
      ],
      "source": []
    },
    {
      "cell_type": "code",
      "source": [],
      "metadata": {
        "id": "zjQpCq1PaJ-i"
      },
      "id": "zjQpCq1PaJ-i",
      "execution_count": null,
      "outputs": []
    },
    {
      "cell_type": "code",
      "execution_count": null,
      "id": "86e2b3b0",
      "metadata": {
        "id": "86e2b3b0",
        "outputId": "f7197d50-09dc-4e30-ebd5-25f7d0ce1a3f"
      },
      "outputs": [
        {
          "name": "stdout",
          "output_type": "stream",
          "text": [
            "t-value: 0.3643361288778422\n",
            "p-value using t-dist: 0.7157079691365718\n"
          ]
        }
      ],
      "source": [
        "# Using scipy.stats.ttest_1samp()\n"
      ]
    },
    {
      "cell_type": "markdown",
      "id": "6c1afb49",
      "metadata": {
        "id": "6c1afb49"
      },
      "source": [
        "### The claim is that the mean salary is 100000. Check if the data supports this claim or not. i.e., reject this claim or not."
      ]
    },
    {
      "cell_type": "code",
      "source": [
        "mean = df['Salary'].mean()\n",
        "Z_value = (mean-100000)/(df['Salary'].std()/np.sqrt(len(df)))\n",
        "t_value = (mean-100000)/(df['Salary'].std()/np.sqrt(len(df)-1))\n",
        "print(\"sample mean: \" + str(df['Salary'].mean()))\n",
        "print(\"t or z value: \"+str(t_value))\n",
        "p_value = 2 * (1 - norm.cdf(abs(Z_value)))\n",
        "print(\"p_value: \"+str(p_value))\n",
        "p_value = 2*(1-t.cdf(t_value,df = len(df['Salary'])-1))\n",
        "print(\"p_value: \"+str(p_value))"
      ],
      "metadata": {
        "colab": {
          "base_uri": "https://localhost:8080/"
        },
        "id": "TXOEe3nIa0oF",
        "outputId": "340606c8-00a0-40af-e1f5-2f34a1234596"
      },
      "id": "TXOEe3nIa0oF",
      "execution_count": 207,
      "outputs": [
        {
          "output_type": "stream",
          "name": "stdout",
          "text": [
            "sample mean: 90433.19633507854\n",
            "t or z value: -8.04081215965618\n",
            "p_value: 8.881784197001252e-16\n",
            "p_value: 1.9999999999999967\n"
          ]
        }
      ]
    },
    {
      "cell_type": "code",
      "execution_count": null,
      "id": "19d6ec78",
      "metadata": {
        "id": "19d6ec78",
        "outputId": "3bda1db3-7541-4079-d3d3-9ca646cafeee"
      },
      "outputs": [
        {
          "name": "stdout",
          "output_type": "stream",
          "text": [
            "Sample mean: 90433.19633507854\n",
            "t or z value: -8.046079642801976\n",
            "p-value using z-dist.: 8.881784197001252e-16\n",
            "p-value using t-dist.: 3.1086244689504383e-15\n"
          ]
        }
      ],
      "source": [
        "# Using Hypothesis test equations\n"
      ]
    },
    {
      "cell_type": "code",
      "source": [
        "# Using statsmodels.stats.weightstats.ztest()\n",
        "from statsmodels.stats.weightstats import ztest\n",
        "z_statistic, p_value = ztest(df['Salary'],value = 100000)\n",
        "print(f\"Z-statistic: {z_statistic}\")\n",
        "print(f\"P-value: {p_value}\")\n",
        "# Reject the null hypothesis"
      ],
      "metadata": {
        "colab": {
          "base_uri": "https://localhost:8080/"
        },
        "id": "PaeH_XKcbbyD",
        "outputId": "a3add9b6-22ff-4eb8-fa2b-4c04d36fa74c"
      },
      "id": "PaeH_XKcbbyD",
      "execution_count": 210,
      "outputs": [
        {
          "output_type": "stream",
          "name": "stdout",
          "text": [
            "Z-statistic: -8.04607964280197\n",
            "P-value: 8.548837039392978e-16\n"
          ]
        }
      ]
    },
    {
      "cell_type": "code",
      "execution_count": null,
      "id": "e8a85387",
      "metadata": {
        "id": "e8a85387",
        "outputId": "1fa08ca5-7055-47ba-e7c6-56b13b69da5e"
      },
      "outputs": [
        {
          "name": "stdout",
          "output_type": "stream",
          "text": [
            "z-value: -8.04607964280197\n",
            "p-value using z-dist: 8.548837039392978e-16\n"
          ]
        }
      ],
      "source": [
        "# Using statsmodels.stats.weightstats.ztest()\n"
      ]
    },
    {
      "cell_type": "code",
      "source": [
        "# Using scipy.stats.ttest_1samp()\n",
        "from scipy.stats import ttest_1samp\n",
        "t_statistic, p_value = ttest_1samp(df['Salary'], 100000)\n",
        "print(f\"t-statistic: {t_statistic}\")\n",
        "print(f\"P-value: {p_value}\")\n",
        "#reject the null hypothesis"
      ],
      "metadata": {
        "colab": {
          "base_uri": "https://localhost:8080/"
        },
        "id": "ne4ArBNQbPjX",
        "outputId": "c7d32b77-340a-4f83-f47f-06dff6894937"
      },
      "id": "ne4ArBNQbPjX",
      "execution_count": 208,
      "outputs": [
        {
          "output_type": "stream",
          "name": "stdout",
          "text": [
            "t-statistic: -8.04607964280197\n",
            "P-value: 3.266925104077574e-15\n"
          ]
        }
      ]
    },
    {
      "cell_type": "code",
      "execution_count": null,
      "id": "d7955eaa",
      "metadata": {
        "id": "d7955eaa",
        "outputId": "9f4ba1e2-8dce-40a2-c01d-e8b4ca4e7002"
      },
      "outputs": [
        {
          "name": "stdout",
          "output_type": "stream",
          "text": [
            "t-value: -8.04607964280197\n",
            "p-value using t-dist: 3.266925104077574e-15\n"
          ]
        }
      ],
      "source": []
    },
    {
      "cell_type": "markdown",
      "id": "7c9b6ddb",
      "metadata": {
        "id": "7c9b6ddb"
      },
      "source": [
        "### The claim is that the mean salary is greater than or equal to 92000. Check if the data supports this claim or not. i.e., reject this claim or not."
      ]
    },
    {
      "cell_type": "code",
      "source": [],
      "metadata": {
        "id": "YQGEQAKYc9Au"
      },
      "id": "YQGEQAKYc9Au",
      "execution_count": null,
      "outputs": []
    },
    {
      "cell_type": "code",
      "source": [
        "mean = df['Salary'].mean()\n",
        "Z_value = (mean-92000)/(df['Salary'].std()/np.sqrt(len(df)))\n",
        "t_value = (mean-92000)/(df['Salary'].std()/np.sqrt(len(df)-1))\n",
        "print(\"sample mean: \" + str(df['Salary'].mean()))\n",
        "print(\"t or z value: \"+str(t_value))\n",
        "p_value = (1 - norm.cdf(abs(Z_value)))\n",
        "print(\"p_value: \"+str(p_value))\n",
        "p_value = (t.cdf(t_value,df = len(df['Salary'])-1))\n",
        "print(\"p_value: \"+str(p_value))"
      ],
      "metadata": {
        "colab": {
          "base_uri": "https://localhost:8080/"
        },
        "id": "ACh2EH-xb5RU",
        "outputId": "0c451166-8f8c-4a83-c853-0175c8dc2717"
      },
      "id": "ACh2EH-xb5RU",
      "execution_count": 214,
      "outputs": [
        {
          "output_type": "stream",
          "name": "stdout",
          "text": [
            "sample mean: 90433.19633507854\n",
            "t or z value: -1.3168843431885973\n",
            "p_value: 0.09379417338868268\n",
            "p_value: 0.094136385286444\n"
          ]
        }
      ]
    },
    {
      "cell_type": "code",
      "execution_count": null,
      "id": "5e0c326e",
      "metadata": {
        "id": "5e0c326e",
        "outputId": "820bbe75-ef98-41fa-ffff-48827846fd97"
      },
      "outputs": [
        {
          "name": "stdout",
          "output_type": "stream",
          "text": [
            "Sample mean: 90433.19633507854\n",
            "t or z value: -1.3177470254581212\n",
            "p-value using z-dist: 0.0937941733886824\n",
            "p-value using t-dist: 0.0939919301061735\n"
          ]
        }
      ],
      "source": [
        "# Using Hypothesis test equations\n"
      ]
    },
    {
      "cell_type": "code",
      "source": [
        "# Using statsmodels.stats.weightstats.ztest()\n",
        "z_statistic, p_value = ztest(df['Salary'], value=92000, alternative='smaller')\n",
        "print(f'z_statistic: {z_statistic}')\n",
        "print(f'p_value: {p_value}')"
      ],
      "metadata": {
        "colab": {
          "base_uri": "https://localhost:8080/"
        },
        "id": "i0bpyMaFcIYj",
        "outputId": "5447109c-2473-4012-81fb-0973acabd61c"
      },
      "id": "i0bpyMaFcIYj",
      "execution_count": 233,
      "outputs": [
        {
          "output_type": "stream",
          "name": "stdout",
          "text": [
            "z_statistic: -1.3177470254581203\n",
            "p_value: 0.09379417338868268\n"
          ]
        }
      ]
    },
    {
      "cell_type": "code",
      "execution_count": null,
      "id": "cc533921",
      "metadata": {
        "id": "cc533921",
        "outputId": "9754828b-9b90-4cd3-984b-4f194f2ba99a"
      },
      "outputs": [
        {
          "name": "stdout",
          "output_type": "stream",
          "text": [
            "z-value: -1.3177470254581203\n",
            "p-value using z-dist: 0.09379417338868268\n"
          ]
        }
      ],
      "source": []
    },
    {
      "cell_type": "code",
      "source": [
        "# Using scipy.stats.ttest_1samp()\n",
        "from scipy.stats import ttest_1samp\n",
        "t_statistic, p_value = ttest_1samp(df['Salary'], 92000 ,alternative='less')\n",
        "print(f\"t-statistic: {t_statistic}\")\n",
        "print(f\"P-value: {p_value}\")\n",
        "\n",
        "#Fail to rejact null hypothesis"
      ],
      "metadata": {
        "colab": {
          "base_uri": "https://localhost:8080/"
        },
        "id": "B7R4ZKGVcYaF",
        "outputId": "541e7d38-4239-4857-ac50-50efdd67337a"
      },
      "id": "B7R4ZKGVcYaF",
      "execution_count": 234,
      "outputs": [
        {
          "output_type": "stream",
          "name": "stdout",
          "text": [
            "t-statistic: -1.3177470254581203\n",
            "P-value: 0.0939919301061736\n"
          ]
        }
      ]
    },
    {
      "cell_type": "code",
      "execution_count": null,
      "id": "52d4a33b",
      "metadata": {
        "id": "52d4a33b",
        "outputId": "1149a652-fcaf-47cd-8f42-06649d9984e2"
      },
      "outputs": [
        {
          "name": "stdout",
          "output_type": "stream",
          "text": [
            "t-value: -1.3177470254581203\n",
            "p-value using t-dist: 0.0939919301061736\n"
          ]
        }
      ],
      "source": [
        "# Using scipy.stats.ttest_1samp()\n"
      ]
    },
    {
      "cell_type": "markdown",
      "id": "2be529af",
      "metadata": {
        "id": "2be529af"
      },
      "source": [
        "### The claim is that the mean salary is greater than or equal to 93000. Check if the data supports this claim or not. i.e., reject this claim or not."
      ]
    },
    {
      "cell_type": "code",
      "source": [
        "mean = df['Salary'].mean()\n",
        "Z_value = (mean-93000)/(df['Salary'].std()/np.sqrt(len(df)))\n",
        "t_value = (mean-93000)/(df['Salary'].std()/np.sqrt(len(df)-1))\n",
        "print(\"sample mean: \" + str(df['Salary'].mean()))\n",
        "print(\"t or z value: \"+str(t_value))\n",
        "p_value = (1 - norm.cdf(abs(Z_value)))\n",
        "print(\"p_value: \"+str(p_value))\n",
        "p_value = (t.cdf(t_value,df = len(df['Salary'])-1))\n",
        "print(\"p_value: \"+str(p_value))"
      ],
      "metadata": {
        "colab": {
          "base_uri": "https://localhost:8080/"
        },
        "id": "neoWrLnoePP1",
        "outputId": "b7f148cb-84c7-41ea-c593-5a3ae2b38f2a"
      },
      "id": "neoWrLnoePP1",
      "execution_count": 215,
      "outputs": [
        {
          "output_type": "stream",
          "name": "stdout",
          "text": [
            "sample mean: 90433.19633507854\n",
            "t or z value: -2.1573753202470454\n",
            "p_value: 0.015433285555675469\n",
            "p_value: 0.015643987173197507\n"
          ]
        }
      ]
    },
    {
      "cell_type": "code",
      "execution_count": null,
      "id": "e79815c8",
      "metadata": {
        "id": "e79815c8",
        "outputId": "03f8a68e-ce09-48c8-f064-124310c954fd"
      },
      "outputs": [
        {
          "name": "stdout",
          "output_type": "stream",
          "text": [
            "Sample mean: 90433.19633507854\n",
            "t or z value: -2.158788602626103\n",
            "p-value using z-dist: 0.015433285555675354\n",
            "p-value using t-dist: 0.015588852380115925\n"
          ]
        }
      ],
      "source": [
        "# Using Hypothesis test equations\n"
      ]
    },
    {
      "cell_type": "code",
      "source": [
        "# Using statsmodels.stats.weightstats.ztest()\n",
        "z_statistic, p_value = ztest(df['Salary'], value=93000, alternative='smaller')\n",
        "print(f'z_statistic: {z_statistic}')\n",
        "print(f'p_value: {p_value}')"
      ],
      "metadata": {
        "colab": {
          "base_uri": "https://localhost:8080/"
        },
        "id": "I_BAQYtoeb4i",
        "outputId": "d601d61b-e7e1-4b79-9c0d-51107128920e"
      },
      "id": "I_BAQYtoeb4i",
      "execution_count": 235,
      "outputs": [
        {
          "output_type": "stream",
          "name": "stdout",
          "text": [
            "z_statistic: -2.1587886026261014\n",
            "p_value: 0.015433285555675419\n"
          ]
        }
      ]
    },
    {
      "cell_type": "code",
      "execution_count": null,
      "id": "8c08904e",
      "metadata": {
        "id": "8c08904e",
        "outputId": "28c82f84-dfa7-4c5f-be8e-a3e80e8b7bf7"
      },
      "outputs": [
        {
          "name": "stdout",
          "output_type": "stream",
          "text": [
            "z-value: -2.1587886026261014\n",
            "p-value using z-dist: 0.015433285555675419\n"
          ]
        }
      ],
      "source": [
        "# Using statsmodels.stats.weightstats.ztest()\n"
      ]
    },
    {
      "cell_type": "code",
      "source": [
        "#########msh 3arfa da eh literally"
      ],
      "metadata": {
        "id": "FYG-jWiih48i"
      },
      "id": "FYG-jWiih48i",
      "execution_count": null,
      "outputs": []
    },
    {
      "cell_type": "code",
      "source": [],
      "metadata": {
        "colab": {
          "base_uri": "https://localhost:8080/"
        },
        "id": "rgleQToFejDG",
        "outputId": "84a241b1-b226-42b6-8709-239e873007e1"
      },
      "id": "rgleQToFejDG",
      "execution_count": 217,
      "outputs": [
        {
          "output_type": "stream",
          "name": "stdout",
          "text": [
            "t-statistic: -8.04607964280197\n",
            "P-value: 3.266925104077574e-15\n"
          ]
        }
      ]
    },
    {
      "cell_type": "code",
      "source": [
        "# Using scipy.stats.ttest_1samp()\n",
        "from scipy.stats import ttest_1samp\n",
        "t_statistic, p_value = ttest_1samp(df['Salary'], 93000 ,alternative='less')\n",
        "print(f\"t-statistic: {t_statistic}\")\n",
        "print(f\"P-value: {p_value}\")\n",
        "\n",
        "#rejact null hypothesis"
      ],
      "metadata": {
        "colab": {
          "base_uri": "https://localhost:8080/"
        },
        "id": "i2IP8hMBiBQ2",
        "outputId": "a7ceff73-cb2e-4f74-9ec1-e325f563f2fe"
      },
      "id": "i2IP8hMBiBQ2",
      "execution_count": 237,
      "outputs": [
        {
          "output_type": "stream",
          "name": "stdout",
          "text": [
            "t-statistic: -2.1587886026261014\n",
            "P-value: 0.015588852380116005\n"
          ]
        }
      ]
    },
    {
      "cell_type": "code",
      "execution_count": null,
      "id": "787d5e3a",
      "metadata": {
        "id": "787d5e3a",
        "outputId": "0b9accbc-edf0-45ef-bcb6-b822c60916c9"
      },
      "outputs": [
        {
          "name": "stdout",
          "output_type": "stream",
          "text": [
            "t-value: -2.1587886026261014\n",
            "p-value using t-dist: 0.015588852380116005\n"
          ]
        }
      ],
      "source": [
        "# Using scipy.stats.ttest_1samp()\n"
      ]
    },
    {
      "cell_type": "markdown",
      "id": "b8a757e1",
      "metadata": {
        "id": "b8a757e1"
      },
      "source": [
        "### The claim is that the mean salary is less than or equal to 88000. Check if the data supports this claim or not. i.e., reject this claim or not."
      ]
    },
    {
      "cell_type": "code",
      "source": [
        "mean = df['Salary'].mean()\n",
        "Z_value = (mean-88000)/(df['Salary'].std()/np.sqrt(len(df)))\n",
        "t_value = (mean-88000)/(df['Salary'].std()/np.sqrt(len(df)-1))\n",
        "print(\"sample mean: \" + str(df['Salary'].mean()))\n",
        "print(\"t or z value: \"+str(t_value))\n",
        "p_value = (1 - norm.cdf(abs(Z_value)))\n",
        "print(\"p_value: \"+str(p_value))\n",
        "p_value = (1-t.cdf(t_value,df = len(df['Salary'])-1))\n",
        "print(\"p_value: \"+str(p_value))"
      ],
      "metadata": {
        "colab": {
          "base_uri": "https://localhost:8080/"
        },
        "id": "OZNqcJQaeqkh",
        "outputId": "a9bb44ac-651e-4438-c08c-954a331f6cec"
      },
      "id": "OZNqcJQaeqkh",
      "execution_count": 219,
      "outputs": [
        {
          "output_type": "stream",
          "name": "stdout",
          "text": [
            "sample mean: 90433.19633507854\n",
            "t or z value: 2.0450795650451945\n",
            "p_value: 0.02035756823028878\n",
            "p_value: 0.020594788478048853\n"
          ]
        }
      ]
    },
    {
      "cell_type": "code",
      "execution_count": null,
      "id": "3ed0da15",
      "metadata": {
        "id": "3ed0da15",
        "outputId": "b31742d6-169b-43b5-937b-08692fd903e7"
      },
      "outputs": [
        {
          "name": "stdout",
          "output_type": "stream",
          "text": [
            "Sample mean: 90433.19633507854\n",
            "t or z value: 2.0464192832138064\n",
            "p-value using z-dist: 0.02035756823028878\n",
            "p-value using t-dist: 0.020528674104731914\n"
          ]
        }
      ],
      "source": [
        "# Using Hypothesis test equations\n"
      ]
    },
    {
      "cell_type": "code",
      "source": [
        "# Using statsmodels.stats.weightstats.ztest()\n",
        "z_statistic, p_value = ztest(df['Salary'], value=88000, alternative='greater')\n",
        "print(f'z_statistic: {z_statistic}')\n",
        "print(f'p_value: {1-p_value}')"
      ],
      "metadata": {
        "colab": {
          "base_uri": "https://localhost:8080/"
        },
        "id": "__0iKu_Qe2Ji",
        "outputId": "5b75f5de-118b-4de1-e053-aca35b9153b1"
      },
      "id": "__0iKu_Qe2Ji",
      "execution_count": 221,
      "outputs": [
        {
          "output_type": "stream",
          "name": "stdout",
          "text": [
            "z_statistic: 2.0464192832138046\n",
            "p_value: 0.02035756823028878\n"
          ]
        }
      ]
    },
    {
      "cell_type": "code",
      "execution_count": null,
      "id": "3e6026d4",
      "metadata": {
        "id": "3e6026d4",
        "outputId": "868dd151-48c5-4f94-d245-d435a1270a5d"
      },
      "outputs": [
        {
          "name": "stdout",
          "output_type": "stream",
          "text": [
            "z-value: 2.0464192832138046\n",
            "p-value using z-dist: 0.020357568230288822\n"
          ]
        }
      ],
      "source": [
        "# Using statsmodels.stats.weightstats.ztest()\n"
      ]
    },
    {
      "cell_type": "code",
      "source": [
        "# Using scipy.stats.ttest_1samp()\n",
        "from scipy.stats import ttest_1samp\n",
        "t_statistic, p_value = ttest_1samp(df['Salary'], 88000 ,alternative='greater')\n",
        "print(f\"t-statistic: {t_statistic}\")\n",
        "print(f\"P-value: {p_value}\")"
      ],
      "metadata": {
        "colab": {
          "base_uri": "https://localhost:8080/"
        },
        "id": "ywursL-JfllG",
        "outputId": "2a373c7e-dd9b-4795-b15b-22cd4e912405"
      },
      "id": "ywursL-JfllG",
      "execution_count": 242,
      "outputs": [
        {
          "output_type": "stream",
          "name": "stdout",
          "text": [
            "t-statistic: 2.0464192832138046\n",
            "P-value: 0.020528674104732036\n"
          ]
        }
      ]
    },
    {
      "cell_type": "code",
      "execution_count": null,
      "id": "be6d3c89",
      "metadata": {
        "id": "be6d3c89",
        "outputId": "212cac14-7072-4c75-bae3-6f53bdf77651"
      },
      "outputs": [
        {
          "name": "stdout",
          "output_type": "stream",
          "text": [
            "t-value: 2.0464192832138046\n",
            "p-value using t-dist: 0.020528674104732036\n"
          ]
        }
      ],
      "source": [
        "# Using scipy.stats.ttest_1samp()\n"
      ]
    },
    {
      "cell_type": "markdown",
      "id": "3ffdc34f",
      "metadata": {
        "id": "3ffdc34f"
      },
      "source": [
        "### The claim is that the mean salary is less than or equal to 90000. Check if the data supports this claim or not. i.e., reject this claim or not."
      ]
    },
    {
      "cell_type": "code",
      "source": [
        "mean = df['Salary'].mean()\n",
        "Z_value = (mean-90000)/(df['Salary'].std()/np.sqrt(len(df)))\n",
        "t_value = (mean-90000)/(df['Salary'].std()/np.sqrt(len(df)-1))\n",
        "print(\"sample mean: \" + str(df['Salary'].mean()))\n",
        "print(\"t or z value: \"+str(t_value))\n",
        "p_value = (1 - norm.cdf(abs(Z_value)))\n",
        "print(\"p_value: \"+str(p_value))\n",
        "p_value = (1-t.cdf(t_value,df = len(df['Salary'])-1))\n",
        "print(\"p_value: \"+str(p_value))"
      ],
      "metadata": {
        "colab": {
          "base_uri": "https://localhost:8080/"
        },
        "id": "F3oFujFjgHhK",
        "outputId": "bcbadcb5-2ad7-410f-f17e-711131a717b0"
      },
      "id": "F3oFujFjgHhK",
      "execution_count": 224,
      "outputs": [
        {
          "output_type": "stream",
          "name": "stdout",
          "text": [
            "sample mean: 90433.19633507854\n",
            "t or z value: 0.36409761092829857\n",
            "p_value: 0.3578035120738682\n",
            "p_value: 0.3579429964851186\n"
          ]
        }
      ]
    },
    {
      "cell_type": "code",
      "execution_count": null,
      "id": "c68f8657",
      "metadata": {
        "id": "c68f8657",
        "outputId": "d8d8b820-80dd-4b4e-aa8c-e17db57a2ad1"
      },
      "outputs": [
        {
          "name": "stdout",
          "output_type": "stream",
          "text": [
            "Sample mean: 90433.19633507854\n",
            "t or z value: 0.3643361288778425\n",
            "p-value using z-dist: 0.35780351207386807\n",
            "p-value using t-dist: 0.35785398456828577\n"
          ]
        }
      ],
      "source": [
        "# Using Hypothesis test equations\n"
      ]
    },
    {
      "cell_type": "code",
      "source": [
        "# Using statsmodels.stats.weightstats.ztest()\n",
        "z_statistic, p_value = ztest(df['Salary'], value=90000, alternative='greater')\n",
        "print(f'z_statistic: {z_statistic}')\n",
        "print(f'p_value: {p_value}')\n",
        "#Fail to reject null hypothesis"
      ],
      "metadata": {
        "colab": {
          "base_uri": "https://localhost:8080/",
          "height": 390
        },
        "id": "MBJC67npgROq",
        "outputId": "879dad94-8739-4b7e-da6b-2fec46ed6e2e"
      },
      "id": "MBJC67npgROq",
      "execution_count": 243,
      "outputs": [
        {
          "output_type": "error",
          "ename": "ValueError",
          "evalue": "ignored",
          "traceback": [
            "\u001b[0;31m---------------------------------------------------------------------------\u001b[0m",
            "\u001b[0;31mValueError\u001b[0m                                Traceback (most recent call last)",
            "\u001b[0;32m<ipython-input-243-666dab5f0e29>\u001b[0m in \u001b[0;36m<cell line: 2>\u001b[0;34m()\u001b[0m\n\u001b[1;32m      1\u001b[0m \u001b[0;31m# Using statsmodels.stats.weightstats.ztest()\u001b[0m\u001b[0;34m\u001b[0m\u001b[0;34m\u001b[0m\u001b[0m\n\u001b[0;32m----> 2\u001b[0;31m \u001b[0mz_statistic\u001b[0m\u001b[0;34m,\u001b[0m \u001b[0mp_value\u001b[0m \u001b[0;34m=\u001b[0m \u001b[0mztest\u001b[0m\u001b[0;34m(\u001b[0m\u001b[0mdf\u001b[0m\u001b[0;34m[\u001b[0m\u001b[0;34m'Salary'\u001b[0m\u001b[0;34m]\u001b[0m\u001b[0;34m,\u001b[0m \u001b[0mvalue\u001b[0m\u001b[0;34m=\u001b[0m\u001b[0;36m90000\u001b[0m\u001b[0;34m,\u001b[0m \u001b[0malternative\u001b[0m\u001b[0;34m=\u001b[0m\u001b[0;34m'greater'\u001b[0m\u001b[0;34m)\u001b[0m\u001b[0;34m\u001b[0m\u001b[0;34m\u001b[0m\u001b[0m\n\u001b[0m\u001b[1;32m      3\u001b[0m \u001b[0mprint\u001b[0m\u001b[0;34m(\u001b[0m\u001b[0;34mf'z_statistic: {z_statistic}'\u001b[0m\u001b[0;34m)\u001b[0m\u001b[0;34m\u001b[0m\u001b[0;34m\u001b[0m\u001b[0m\n\u001b[1;32m      4\u001b[0m \u001b[0mprint\u001b[0m\u001b[0;34m(\u001b[0m\u001b[0;34mf'p_value: {p_value}'\u001b[0m\u001b[0;34m)\u001b[0m\u001b[0;34m\u001b[0m\u001b[0;34m\u001b[0m\u001b[0m\n\u001b[1;32m      5\u001b[0m \u001b[0;31m#Fail to reject null hypothesis\u001b[0m\u001b[0;34m\u001b[0m\u001b[0;34m\u001b[0m\u001b[0m\n",
            "\u001b[0;32m/usr/local/lib/python3.10/dist-packages/statsmodels/stats/weightstats.py\u001b[0m in \u001b[0;36mztest\u001b[0;34m(x1, x2, value, alternative, usevar, ddof)\u001b[0m\n\u001b[1;32m   1559\u001b[0m     \u001b[0mstd_diff\u001b[0m \u001b[0;34m=\u001b[0m \u001b[0mnp\u001b[0m\u001b[0;34m.\u001b[0m\u001b[0msqrt\u001b[0m\u001b[0;34m(\u001b[0m\u001b[0mvar_pooled\u001b[0m\u001b[0;34m)\u001b[0m\u001b[0;34m\u001b[0m\u001b[0;34m\u001b[0m\u001b[0m\n\u001b[1;32m   1560\u001b[0m     \u001b[0;31m# stat = x1_mean - x2_mean - value\u001b[0m\u001b[0;34m\u001b[0m\u001b[0;34m\u001b[0m\u001b[0m\n\u001b[0;32m-> 1561\u001b[0;31m     \u001b[0;32mreturn\u001b[0m \u001b[0m_zstat_generic\u001b[0m\u001b[0;34m(\u001b[0m\u001b[0mx1_mean\u001b[0m\u001b[0;34m,\u001b[0m \u001b[0mx2_mean\u001b[0m\u001b[0;34m,\u001b[0m \u001b[0mstd_diff\u001b[0m\u001b[0;34m,\u001b[0m \u001b[0malternative\u001b[0m\u001b[0;34m,\u001b[0m \u001b[0mdiff\u001b[0m\u001b[0;34m=\u001b[0m\u001b[0mvalue\u001b[0m\u001b[0;34m)\u001b[0m\u001b[0;34m\u001b[0m\u001b[0;34m\u001b[0m\u001b[0m\n\u001b[0m\u001b[1;32m   1562\u001b[0m \u001b[0;34m\u001b[0m\u001b[0m\n\u001b[1;32m   1563\u001b[0m \u001b[0;34m\u001b[0m\u001b[0m\n",
            "\u001b[0;32m/usr/local/lib/python3.10/dist-packages/statsmodels/stats/weightstats.py\u001b[0m in \u001b[0;36m_zstat_generic\u001b[0;34m(value1, value2, std_diff, alternative, diff)\u001b[0m\n\u001b[1;32m    754\u001b[0m         \u001b[0mpvalue\u001b[0m \u001b[0;34m=\u001b[0m \u001b[0mstats\u001b[0m\u001b[0;34m.\u001b[0m\u001b[0mnorm\u001b[0m\u001b[0;34m.\u001b[0m\u001b[0mcdf\u001b[0m\u001b[0;34m(\u001b[0m\u001b[0mzstat\u001b[0m\u001b[0;34m)\u001b[0m\u001b[0;34m\u001b[0m\u001b[0;34m\u001b[0m\u001b[0m\n\u001b[1;32m    755\u001b[0m     \u001b[0;32melse\u001b[0m\u001b[0;34m:\u001b[0m\u001b[0;34m\u001b[0m\u001b[0;34m\u001b[0m\u001b[0m\n\u001b[0;32m--> 756\u001b[0;31m         \u001b[0;32mraise\u001b[0m \u001b[0mValueError\u001b[0m\u001b[0;34m(\u001b[0m\u001b[0;34m\"invalid alternative\"\u001b[0m\u001b[0;34m)\u001b[0m\u001b[0;34m\u001b[0m\u001b[0;34m\u001b[0m\u001b[0m\n\u001b[0m\u001b[1;32m    757\u001b[0m     \u001b[0;32mreturn\u001b[0m \u001b[0mzstat\u001b[0m\u001b[0;34m,\u001b[0m \u001b[0mpvalue\u001b[0m\u001b[0;34m\u001b[0m\u001b[0;34m\u001b[0m\u001b[0m\n\u001b[1;32m    758\u001b[0m \u001b[0;34m\u001b[0m\u001b[0m\n",
            "\u001b[0;31mValueError\u001b[0m: invalid alternative"
          ]
        }
      ]
    },
    {
      "cell_type": "code",
      "execution_count": null,
      "id": "a5e6f392",
      "metadata": {
        "id": "a5e6f392",
        "outputId": "801bbf6f-4f4e-4f5b-9cf4-83a179308fae"
      },
      "outputs": [
        {
          "name": "stdout",
          "output_type": "stream",
          "text": [
            "z-value: 0.3643361288778422\n",
            "p-value using z-dist: 0.3578035120738682\n"
          ]
        }
      ],
      "source": [
        "# Using statsmodels.stats.weightstats.ztest()\n"
      ]
    },
    {
      "cell_type": "code",
      "source": [
        "# Using scipy.stats.ttest_1samp()\n",
        "from scipy.stats import ttest_1samp\n",
        "t_statistic, p_value = ttest_1samp(df['Salary'], 90000 ,alternative='greater')\n",
        "print(f\"t-statistic: {t_statistic}\")\n",
        "print(f\"P-value: {p_value}\")\n",
        "#fail to reject"
      ],
      "metadata": {
        "colab": {
          "base_uri": "https://localhost:8080/"
        },
        "id": "YRy2oJhIgbYY",
        "outputId": "6e0d3cc4-0446-4838-fec5-0d14f939e64b"
      },
      "id": "YRy2oJhIgbYY",
      "execution_count": 244,
      "outputs": [
        {
          "output_type": "stream",
          "name": "stdout",
          "text": [
            "t-statistic: 0.3643361288778422\n",
            "P-value: 0.3578539845682859\n"
          ]
        }
      ]
    },
    {
      "cell_type": "code",
      "execution_count": null,
      "id": "ac7728ba",
      "metadata": {
        "id": "ac7728ba",
        "outputId": "0eb1527a-26ee-4541-ff60-233d1e00a239"
      },
      "outputs": [
        {
          "name": "stdout",
          "output_type": "stream",
          "text": [
            "t-value: 0.3643361288778422\n",
            "p-value using t-dist: 0.3578539845682859\n"
          ]
        }
      ],
      "source": [
        "# Using scipy.stats.ttest_1samp()\n"
      ]
    }
  ],
  "metadata": {
    "kernelspec": {
      "display_name": "Python 3 (ipykernel)",
      "language": "python",
      "name": "python3"
    },
    "language_info": {
      "codemirror_mode": {
        "name": "ipython",
        "version": 3
      },
      "file_extension": ".py",
      "mimetype": "text/x-python",
      "name": "python",
      "nbconvert_exporter": "python",
      "pygments_lexer": "ipython3",
      "version": "3.9.12"
    },
    "colab": {
      "provenance": [],
      "collapsed_sections": [
        "18234c8a",
        "af1a3ba5"
      ]
    }
  },
  "nbformat": 4,
  "nbformat_minor": 5
}